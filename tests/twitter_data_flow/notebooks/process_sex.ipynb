{
 "cells": [
  {
   "cell_type": "code",
   "execution_count": 15,
   "outputs": [],
   "source": [
    "import stdflow as sf\n",
    "\n",
    "import pandas as pd\n",
    "import random\n",
    "from faker import Faker\n",
    "from stdflow import Step\n",
    "\n",
    "data_root = \"../../data\"\n",
    "\n",
    "country = sf.var(\"country\", \"spain\")\n",
    "\n",
    "sf.step_out = \"sex_processed\"\n",
    "sf.step_in = \"loaded\"\n",
    "sf.root = data_root\n",
    "sf.attrs = [\"twitter\", country]\n",
    "\n",
    "df = sf.load()"
   ],
   "metadata": {
    "collapsed": false,
    "ExecuteTime": {
     "end_time": "2023-08-10T09:48:00.042852Z",
     "start_time": "2023-08-10T09:47:59.982706Z"
    }
   },
   "id": "3afeb8557fdc6fd8"
  },
  {
   "cell_type": "code",
   "execution_count": 16,
   "outputs": [],
   "source": [
    "import numpy as np\n",
    "\n",
    "df.sex = np.where(df.sex == \"male\", \"M\", \"F\")"
   ],
   "metadata": {
    "collapsed": false,
    "ExecuteTime": {
     "end_time": "2023-08-10T09:48:00.145825Z",
     "start_time": "2023-08-10T09:48:00.143073Z"
    }
   },
   "id": "dd5d76aae8890e60"
  },
  {
   "cell_type": "code",
   "execution_count": 17,
   "outputs": [],
   "source": [
    "sf.save(df, attrs=[\"twitter\", country], file_name=f\"{country}_data.xlsx\", index=False)"
   ],
   "metadata": {
    "collapsed": false,
    "ExecuteTime": {
     "end_time": "2023-08-10T09:48:00.346821Z",
     "start_time": "2023-08-10T09:48:00.323082Z"
    }
   },
   "id": "1496bc259f7c3fa9"
  },
  {
   "cell_type": "code",
   "execution_count": 18,
   "outputs": [
    {
     "data": {
      "text/plain": "                                              tweets sex\n0  Act hear though education yard environment. Ba...   M\n1  Result trip individual computer year game impr...   M\n2  Yourself front where name image opportunity si...   F\n3  Hour first painting cut. Talk old prevent theo...   M\n4  New fund drug word light.\\nOpportunity energy ...   F",
      "text/html": "<div>\n<style scoped>\n    .dataframe tbody tr th:only-of-type {\n        vertical-align: middle;\n    }\n\n    .dataframe tbody tr th {\n        vertical-align: top;\n    }\n\n    .dataframe thead th {\n        text-align: right;\n    }\n</style>\n<table border=\"1\" class=\"dataframe\">\n  <thead>\n    <tr style=\"text-align: right;\">\n      <th></th>\n      <th>tweets</th>\n      <th>sex</th>\n    </tr>\n  </thead>\n  <tbody>\n    <tr>\n      <th>0</th>\n      <td>Act hear though education yard environment. Ba...</td>\n      <td>M</td>\n    </tr>\n    <tr>\n      <th>1</th>\n      <td>Result trip individual computer year game impr...</td>\n      <td>M</td>\n    </tr>\n    <tr>\n      <th>2</th>\n      <td>Yourself front where name image opportunity si...</td>\n      <td>F</td>\n    </tr>\n    <tr>\n      <th>3</th>\n      <td>Hour first painting cut. Talk old prevent theo...</td>\n      <td>M</td>\n    </tr>\n    <tr>\n      <th>4</th>\n      <td>New fund drug word light.\\nOpportunity energy ...</td>\n      <td>F</td>\n    </tr>\n  </tbody>\n</table>\n</div>"
     },
     "execution_count": 18,
     "metadata": {},
     "output_type": "execute_result"
    }
   ],
   "source": [
    "df.head()"
   ],
   "metadata": {
    "collapsed": false,
    "ExecuteTime": {
     "end_time": "2023-08-10T09:48:00.477537Z",
     "start_time": "2023-08-10T09:48:00.472866Z"
    }
   },
   "id": "1073f94cb1e98b5e"
  },
  {
   "cell_type": "code",
   "execution_count": null,
   "outputs": [],
   "source": [],
   "metadata": {
    "collapsed": false
   },
   "id": "5e8ff5ea2a41ba8b"
  }
 ],
 "metadata": {
  "kernelspec": {
   "display_name": "Python 3",
   "language": "python",
   "name": "python3"
  },
  "language_info": {
   "codemirror_mode": {
    "name": "ipython",
    "version": 2
   },
   "file_extension": ".py",
   "mimetype": "text/x-python",
   "name": "python",
   "nbconvert_exporter": "python",
   "pygments_lexer": "ipython2",
   "version": "2.7.6"
  }
 },
 "nbformat": 4,
 "nbformat_minor": 5
}
