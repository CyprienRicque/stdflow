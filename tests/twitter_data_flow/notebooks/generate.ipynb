{
 "cells": [
  {
   "cell_type": "code",
   "execution_count": 1,
   "outputs": [
    {
     "name": "stderr",
     "output_type": "stream",
     "text": [
      "INFO:stdflow.step:coucou\n",
      "WARNING:stdflow.step:coucou\n",
      "ERROR:stdflow.step:coucou\n",
      "INFO:stdflow.step:coucou\n",
      "WARNING:stdflow.step:coucou\n",
      "ERROR:stdflow.step:coucou\n"
     ]
    },
    {
     "name": "stdout",
     "output_type": "stream",
     "text": [
      "20\n",
      "20\n"
     ]
    }
   ],
   "source": [
    "\n",
    "import stdflow as sf\n",
    "\n",
    "import pandas as pd\n",
    "import random\n",
    "from faker import Faker\n",
    "from stdflow import Step\n",
    "\n",
    "\n",
    "# Instantiate the Faker generator\n",
    "fake = Faker()\n",
    "Faker.seed(4321)\n",
    "random.seed(4321)\n",
    "\n",
    "# Define a function to create fake data\n",
    "def create_fake_data(country, num_entries=100):\n",
    "    step = Step(root='data', step_out=\"raw\")\n",
    "    version = step.var(\"version\", \"loupé\")\n",
    "    \n",
    "    data = {\n",
    "        \"tweEts\": [fake.text() for _ in range(num_entries)],\n",
    "        \"SeX\": [random.choice([\"male\", \"female\"]) for _ in range(num_entries)]\n",
    "    }\n",
    "    \n",
    "    df = pd.DataFrame(data)\n",
    "    step.save(df, attrs = [\"twitter\", country], file_name= f\"{country}_data.xlsx\", version=version, index=False)\n",
    "\n",
    "# Generate fake data for France and China\n",
    "create_fake_data(\"france\")\n",
    "create_fake_data(\"china\")\n",
    "\n"
   ],
   "metadata": {
    "collapsed": false,
    "ExecuteTime": {
     "end_time": "2023-08-01T13:55:14.175285Z",
     "start_time": "2023-08-01T13:55:13.255919Z"
    }
   },
   "id": "3afeb8557fdc6fd8"
  },
  {
   "cell_type": "code",
   "execution_count": 2,
   "outputs": [
    {
     "name": "stderr",
     "output_type": "stream",
     "text": [
      "INFO:stdflow.step:coucou\n",
      "WARNING:stdflow.step:coucou\n",
      "ERROR:stdflow.step:coucou\n"
     ]
    },
    {
     "name": "stdout",
     "output_type": "stream",
     "text": [
      "20\n"
     ]
    }
   ],
   "source": [
    "country = sf.var(\"country\", \"etnon\")\n",
    "\n",
    "sf.step_out = \"raw\"\n",
    "sf.root = 'data'\n",
    "\n",
    "data = {\n",
    "    \"tweetS\": [fake.text() for _ in range(100)],\n",
    "    \"sEx\": [random.choice([\"male\", \"female\"]) for _ in range(100)]\n",
    "}\n",
    "\n",
    "df = pd.DataFrame(data)\n",
    "sf.save(df, attrs = [\"twitter\", country], file_name= f\"{country}_data.xlsx\", version='test', index=False)\n"
   ],
   "metadata": {
    "collapsed": false,
    "ExecuteTime": {
     "end_time": "2023-08-01T13:55:14.206198Z",
     "start_time": "2023-08-01T13:55:14.182263Z"
    }
   },
   "id": "ebb6b8545a14d3aa"
  },
  {
   "cell_type": "code",
   "execution_count": 4,
   "outputs": [],
   "source": [],
   "metadata": {
    "collapsed": false,
    "ExecuteTime": {
     "end_time": "2023-08-01T13:55:06.831711Z",
     "start_time": "2023-08-01T13:55:06.826544Z"
    }
   },
   "id": "df309c41c7406dd3"
  },
  {
   "cell_type": "code",
   "execution_count": 5,
   "outputs": [
    {
     "ename": "NameError",
     "evalue": "name 'step' is not defined",
     "output_type": "error",
     "traceback": [
      "\u001B[0;31m---------------------------------------------------------------------------\u001B[0m",
      "\u001B[0;31mNameError\u001B[0m                                 Traceback (most recent call last)",
      "\u001B[0;32m/var/folders/vx/nb16bg2j51n_8nts6_s9_l540000gn/T/ipykernel_19463/2905669399.py\u001B[0m in \u001B[0;36m<module>\u001B[0;34m\u001B[0m\n\u001B[1;32m      6\u001B[0m \u001B[0;31m#         },\u001B[0m\u001B[0;34m\u001B[0m\u001B[0;34m\u001B[0m\u001B[0;34m\u001B[0m\u001B[0m\n\u001B[1;32m      7\u001B[0m \u001B[0;31m#     )\u001B[0m\u001B[0;34m\u001B[0m\u001B[0;34m\u001B[0m\u001B[0;34m\u001B[0m\u001B[0m\n\u001B[0;32m----> 8\u001B[0;31m \u001B[0mstep\u001B[0m\u001B[0;34m.\u001B[0m\u001B[0mrun\u001B[0m\u001B[0;34m(\u001B[0m\u001B[0;34m)\u001B[0m\u001B[0;34m\u001B[0m\u001B[0;34m\u001B[0m\u001B[0m\n\u001B[0m",
      "\u001B[0;31mNameError\u001B[0m: name 'step' is not defined"
     ]
    }
   ],
   "source": [
    "# step = Step(\n",
    "#         exec_file_path=\"./generate.ipynb\",\n",
    "#         exec_variables={\n",
    "#             \"country\": \"spain\",\n",
    "#             \"version\": \"test\"\n",
    "#         },\n",
    "#     )\n",
    "# step.run()"
   ],
   "metadata": {
    "collapsed": false,
    "ExecuteTime": {
     "end_time": "2023-08-01T13:55:06.964084Z",
     "start_time": "2023-08-01T13:55:06.831037Z"
    }
   },
   "id": "c7e2e6a89fb8a82"
  },
  {
   "cell_type": "code",
   "execution_count": null,
   "outputs": [],
   "source": [],
   "metadata": {
    "collapsed": false,
    "ExecuteTime": {
     "end_time": "2023-08-01T13:55:06.966905Z",
     "start_time": "2023-08-01T13:55:06.964562Z"
    }
   },
   "id": "26e5982616592bce"
  }
 ],
 "metadata": {
  "kernelspec": {
   "display_name": "Python 3",
   "language": "python",
   "name": "python3"
  },
  "language_info": {
   "codemirror_mode": {
    "name": "ipython",
    "version": 2
   },
   "file_extension": ".py",
   "mimetype": "text/x-python",
   "name": "python",
   "nbconvert_exporter": "python",
   "pygments_lexer": "ipython2",
   "version": "2.7.6"
  }
 },
 "nbformat": 4,
 "nbformat_minor": 5
}
