{
 "cells": [
  {
   "cell_type": "code",
   "execution_count": null,
   "outputs": [],
   "source": [
    "\n",
    "import stdflow as sf\n",
    "\n",
    "import pandas as pd\n",
    "import random\n",
    "from faker import Faker\n",
    "from stdflow import Step\n",
    "\n",
    "\n",
    "# Instantiate the Faker generator\n",
    "fake = Faker()\n",
    "Faker.seed(4321)\n",
    "random.seed(4321)\n",
    "\n",
    "# Define a function to create fake data\n",
    "def create_fake_data(country, num_entries=100):\n",
    "    step = Step(root='data', step_out=\"raw\")\n",
    "    version = step.var(\"version\", \"loupé\")\n",
    "    \n",
    "    data = {\n",
    "        \"tweEts\": [fake.text() for _ in range(num_entries)],\n",
    "        \"SeX\": [random.choice([\"male\", \"female\"]) for _ in range(num_entries)]\n",
    "    }\n",
    "    \n",
    "    df = pd.DataFrame(data)\n",
    "    step.save(df, attrs = [\"twitter\", country], file_name= f\"{country}_data.xlsx\", version=version, index=False)\n",
    "\n",
    "# Generate fake data for France and China\n",
    "create_fake_data(\"france\")\n",
    "create_fake_data(\"china\")\n",
    "\n"
   ],
   "metadata": {
    "collapsed": false
   },
   "id": "3afeb8557fdc6fd8"
  },
  {
   "cell_type": "code",
   "execution_count": null,
   "outputs": [],
   "source": [
    "country = sf.var(\"country\", \"etnon\")\n",
    "\n",
    "sf.step_out = \"raw\"\n",
    "sf.root = 'data'\n",
    "\n",
    "data = {\n",
    "    \"tweetS\": [fake.text() for _ in range(100)],\n",
    "    \"sEx\": [random.choice([\"male\", \"female\"]) for _ in range(100)]\n",
    "}\n",
    "\n",
    "df = pd.DataFrame(data)\n",
    "sf.save(df, attrs = [\"twitter\", country], file_name= f\"{country}_data.xlsx\", version='test', index=False)\n"
   ],
   "metadata": {
    "collapsed": false
   },
   "id": "ebb6b8545a14d3aa"
  }
 ],
 "metadata": {
  "kernelspec": {
   "display_name": "Python 3",
   "language": "python",
   "name": "python3"
  },
  "language_info": {
   "codemirror_mode": {
    "name": "ipython",
    "version": 2
   },
   "file_extension": ".py",
   "mimetype": "text/x-python",
   "name": "python",
   "nbconvert_exporter": "python",
   "pygments_lexer": "ipython2",
   "version": "2.7.6"
  }
 },
 "nbformat": 4,
 "nbformat_minor": 5
}
