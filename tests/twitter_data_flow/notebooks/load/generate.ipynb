{
 "cells": [
  {
   "cell_type": "code",
   "execution_count": 3,
   "outputs": [],
   "source": [
    "import stdflow as sf\n",
    "\n",
    "import pandas as pd\n",
    "import random\n",
    "from faker import Faker\n",
    "from stdflow import Step\n",
    "\n",
    "data_root = \"../../../data\"\n",
    "\n",
    "# Instantiate the Faker generator\n",
    "fake = Faker()\n",
    "Faker.seed(4321)\n",
    "random.seed(4321)\n",
    "\n",
    "\n",
    "# Define a function to create fake data\n",
    "def create_fake_data(country, num_entries=100):\n",
    "    step = Step(root=data_root, step_out=\"raw\")\n",
    "    version = step.var(\"version\", \"loupé\")\n",
    "\n",
    "    data = {\n",
    "        \"tweEts\": [fake.text() for _ in range(num_entries)],\n",
    "        \"SeX\": [random.choice([\"male\", \"female\"]) for _ in range(num_entries)],\n",
    "    }\n",
    "    step.col_step(\"main::tweEts\", \"description: tweets from twitter\")\n",
    "    df = pd.DataFrame(data)\n",
    "    step.save(\n",
    "        df,\n",
    "        attrs=[\"twitter\", country],\n",
    "        file_name=f\"{country}_data.xlsx\",\n",
    "        version=version,\n",
    "        index=False,\n",
    "        alias=\"main\",\n",
    "    )\n",
    "\n",
    "\n",
    "# Generate fake data for France and China\n",
    "create_fake_data(\"france\")\n",
    "create_fake_data(\"china\")"
   ],
   "metadata": {
    "collapsed": false,
    "ExecuteTime": {
     "end_time": "2023-08-16T04:45:25.633020Z",
     "start_time": "2023-08-16T04:45:25.520709Z"
    }
   },
   "id": "3afeb8557fdc6fd8"
  },
  {
   "cell_type": "code",
   "execution_count": 12,
   "outputs": [],
   "source": [
    "country = sf.var(\"country\", \"spain\")\n",
    "\n",
    "sf.step_out = \"raw\"\n",
    "sf.root = data_root\n",
    "\n",
    "data = {\n",
    "    \"tweetS\": [fake.text() for _ in range(100)],\n",
    "    \"sEx\": [random.choice([\"male\", \"female\"]) for _ in range(100)],\n",
    "}\n",
    "\n",
    "df = pd.DataFrame(data)\n",
    "sf.save(\n",
    "    df, attrs=[\"twitter\", country], file_name=f\"{country}_data.xlsx\", version=\"test\", index=False\n",
    ")"
   ],
   "metadata": {
    "collapsed": false,
    "ExecuteTime": {
     "end_time": "2023-08-10T09:59:14.088217Z",
     "start_time": "2023-08-10T09:59:14.070603Z"
    }
   },
   "id": "ebb6b8545a14d3aa"
  },
  {
   "cell_type": "code",
   "execution_count": 12,
   "outputs": [],
   "source": [],
   "metadata": {
    "collapsed": false,
    "ExecuteTime": {
     "end_time": "2023-08-10T09:59:14.091232Z",
     "start_time": "2023-08-10T09:59:14.088095Z"
    }
   },
   "id": "df309c41c7406dd3"
  },
  {
   "cell_type": "code",
   "execution_count": 15,
   "outputs": [
    {
     "name": "stderr",
     "output_type": "stream",
     "text": [
      "INFO:stdflow.stdflow_utils.execution:Notebook executed successfully.\n",
      "INFO:stdflow.stdflow_utils.execution:\tPath: generate.ipynb\n",
      "INFO:stdflow.stdflow_utils.execution:\tDuration: 0 days 00:00:01.164621\n",
      "INFO:stdflow.stdflow_utils.execution:\tEnv: {'country': 'italy', 'version': 'test'}\n"
     ]
    }
   ],
   "source": [
    "from stdflow import StepRunner\n",
    "\n",
    "step = StepRunner(\n",
    "    file_path=\"./generate.ipynb\",\n",
    "    variables={\"country\": \"should_not_exist_if_run_from_ppl\", \"version\": \"test\"},\n",
    ")\n",
    "step.run()"
   ],
   "metadata": {
    "collapsed": false,
    "ExecuteTime": {
     "end_time": "2023-08-10T09:59:17.057781Z",
     "start_time": "2023-08-10T09:59:14.243842Z"
    }
   },
   "id": "c7e2e6a89fb8a82"
  },
  {
   "cell_type": "code",
   "execution_count": 15,
   "outputs": [],
   "source": [],
   "metadata": {
    "collapsed": false,
    "ExecuteTime": {
     "end_time": "2023-08-10T09:59:17.060498Z",
     "start_time": "2023-08-10T09:59:17.058375Z"
    }
   },
   "id": "26e5982616592bce"
  }
 ],
 "metadata": {
  "kernelspec": {
   "display_name": "Python 3",
   "language": "python",
   "name": "python3"
  },
  "language_info": {
   "codemirror_mode": {
    "name": "ipython",
    "version": 2
   },
   "file_extension": ".py",
   "mimetype": "text/x-python",
   "name": "python",
   "nbconvert_exporter": "python",
   "pygments_lexer": "ipython2",
   "version": "2.7.6"
  }
 },
 "nbformat": 4,
 "nbformat_minor": 5
}
