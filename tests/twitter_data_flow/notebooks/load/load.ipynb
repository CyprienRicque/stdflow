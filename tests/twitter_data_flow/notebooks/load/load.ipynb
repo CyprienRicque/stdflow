{
 "cells": [
  {
   "cell_type": "code",
   "execution_count": 1,
   "outputs": [],
   "source": [
    "import stdflow as sf\n",
    "\n",
    "import pandas as pd\n",
    "import random\n",
    "from faker import Faker\n",
    "from stdflow import Step\n",
    "\n",
    "data_root = \"../../../data\"\n",
    "\n",
    "# Instantiate the Faker generator\n",
    "fake = Faker()\n",
    "Faker.seed(4321)\n",
    "random.seed(4321)\n",
    "\n",
    "\n",
    "# Define a function to create fake data\n",
    "def load(country, num_entries=100):  # NOT USED\n",
    "    step = Step(root=data_root, step_out=\"loaded\", step_in=\"raw\", attrs=[\"twitter\", country])\n",
    "    df = step.load()\n",
    "\n",
    "    # lower columns name\n",
    "    df.columns = [col.lower() for col in df.columns]\n",
    "\n",
    "    step.save(df, file_name=f\"{country}_data.csv\", index=False)"
   ],
   "metadata": {
    "collapsed": false,
    "ExecuteTime": {
     "end_time": "2023-08-10T12:15:55.061808Z",
     "start_time": "2023-08-10T12:15:54.302369Z"
    }
   },
   "id": "3afeb8557fdc6fd8"
  },
  {
   "cell_type": "code",
   "execution_count": 2,
   "outputs": [],
   "source": [
    "country = sf.var(\"country\", \"spain\")\n",
    "\n",
    "sf.step_out = \"loaded\"\n",
    "sf.step_in = \"raw\"\n",
    "sf.root = data_root\n",
    "sf.attrs = [\"twitter\", country]\n",
    "\n",
    "df = sf.load()\n",
    "df.columns = [col.lower() for col in df.columns]\n",
    "\n",
    "sf.save(df, attrs=[\"twitter\", country], file_name=f\"{country}_data.csv\", index=False)"
   ],
   "metadata": {
    "collapsed": false,
    "ExecuteTime": {
     "end_time": "2023-08-10T12:15:55.347598Z",
     "start_time": "2023-08-10T12:15:55.063762Z"
    }
   },
   "id": "ebb6b8545a14d3aa"
  },
  {
   "cell_type": "code",
   "execution_count": 6,
   "outputs": [],
   "source": [],
   "metadata": {
    "collapsed": false,
    "ExecuteTime": {
     "end_time": "2023-08-10T12:15:55.386756Z",
     "start_time": "2023-08-10T12:15:55.369804Z"
    }
   },
   "id": "af842c43977ec7a2"
  }
 ],
 "metadata": {
  "kernelspec": {
   "display_name": "Python 3",
   "language": "python",
   "name": "python3"
  },
  "language_info": {
   "codemirror_mode": {
    "name": "ipython",
    "version": 2
   },
   "file_extension": ".py",
   "mimetype": "text/x-python",
   "name": "python",
   "nbconvert_exporter": "python",
   "pygments_lexer": "ipython2",
   "version": "2.7.6"
  }
 },
 "nbformat": 4,
 "nbformat_minor": 5
}
