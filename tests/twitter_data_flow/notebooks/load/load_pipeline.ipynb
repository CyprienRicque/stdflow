{
 "cells": [
  {
   "cell_type": "code",
   "execution_count": 6,
   "id": "initial_id",
   "metadata": {
    "ExecuteTime": {
     "end_time": "2023-08-10T13:26:55.161546Z",
     "start_time": "2023-08-10T13:26:55.153781Z"
    }
   },
   "outputs": [
    {
     "data": {
      "text/plain": "\u001b[1m\n================================\n            PIPELINE            \n================================\n\n\u001b[0m\u001b[1mSTEP 1\u001b[0m\n\tpath: generate.ipynb\n\tvars: {'country': 'US'}\n\n\u001b[1mSTEP 2\u001b[0m\n\tpath: load.ipynb\n\tvars: {'country': 'US'}\n\n\u001b[1mSTEP 3\u001b[0m\n\tpath: generate.ipynb\n\tvars: {'country': 'france'}\n\n\u001b[1mSTEP 4\u001b[0m\n\tpath: load.ipynb\n\tvars: {'country': 'france'}\n\n\u001b[1m================================\u001b[0m"
     },
     "execution_count": 6,
     "metadata": {},
     "output_type": "execute_result"
    }
   ],
   "source": [
    "from stdflow import StepRunner\n",
    "from stdflow import Pipeline\n",
    "import stdflow as sf\n",
    "\n",
    "countries = sf.var(\"countries\", [\"US\", \"france\"])\n",
    "\n",
    "ppl = Pipeline(\n",
    "    StepRunner(\"generate.ipynb\", variables={\"country\": countries[0]}),\n",
    "    StepRunner(\"load.ipynb\", variables={\"country\": countries[0]}),\n",
    ")\n",
    "for country in countries[1:]:\n",
    "    ppl.add_step(StepRunner(\"generate.ipynb\", variables={\"country\": country}))\n",
    "    ppl.add_step(StepRunner(\"load.ipynb\", variables={\"country\": country}))\n",
    "\n",
    "ppl"
   ]
  },
  {
   "cell_type": "code",
   "execution_count": 7,
   "id": "4f489c2cf81f5c13",
   "metadata": {
    "ExecuteTime": {
     "end_time": "2023-08-10T13:27:03.337510Z",
     "start_time": "2023-08-10T13:26:55.158773Z"
    }
   },
   "outputs": [
    {
     "name": "stdout",
     "output_type": "stream",
     "text": [
      "\u001b[1m===================================\u001b[0m\n",
      "\u001b[1m    01.          generate.ipynb\u001b[0m\n",
      "\u001b[1m===================================\u001b[0m\u001b[0m\n",
      "Variables: {'country': 'US'}\n",
      "\tPath: generate.ipynb\n",
      "\tDuration: 0 days 00:00:00.930358\n",
      "\tEnv: {'country': 'US'}\n",
      "\u001b[1m\u001b[32mNotebook executed successfully.\u001b[0m\n",
      "\n",
      "\n",
      "\u001b[1m===================================\u001b[0m\n",
      "\u001b[1m    02.              load.ipynb\u001b[0m\n",
      "\u001b[1m===================================\u001b[0m\u001b[0m\n",
      "Variables: {'country': 'US'}\n",
      "\tPath: load.ipynb\n",
      "\tDuration: 0 days 00:00:00.827067\n",
      "\tEnv: {'country': 'US'}\n",
      "\u001b[1m\u001b[32mNotebook executed successfully.\u001b[0m\n",
      "\n",
      "\n",
      "\u001b[1m===================================\u001b[0m\n",
      "\u001b[1m    03.          generate.ipynb\u001b[0m\n",
      "\u001b[1m===================================\u001b[0m\u001b[0m\n",
      "Variables: {'country': 'france'}\n",
      "\tPath: generate.ipynb\n",
      "\tDuration: 0 days 00:00:00.808952\n",
      "\tEnv: {'country': 'france'}\n",
      "\u001b[1m\u001b[32mNotebook executed successfully.\u001b[0m\n",
      "\n",
      "\n",
      "\u001b[1m===================================\u001b[0m\n",
      "\u001b[1m    04.              load.ipynb\u001b[0m\n",
      "\u001b[1m===================================\u001b[0m\u001b[0m\n",
      "Variables: {'country': 'france'}\n",
      "\tPath: load.ipynb\n",
      "\tDuration: 0 days 00:00:00.844653\n",
      "\tEnv: {'country': 'france'}\n",
      "\u001b[1m\u001b[32mNotebook executed successfully.\u001b[0m\n",
      "\n"
     ]
    }
   ],
   "source": [
    "ppl.run(progress_bar=False)"
   ]
  },
  {
   "cell_type": "code",
   "execution_count": 7,
   "id": "87b99374ec45d10",
   "metadata": {
    "ExecuteTime": {
     "end_time": "2023-08-10T13:27:03.340144Z",
     "start_time": "2023-08-10T13:27:03.336865Z"
    }
   },
   "outputs": [],
   "source": []
  }
 ],
 "metadata": {
  "kernelspec": {
   "display_name": "Python 3 (ipykernel)",
   "language": "python",
   "name": "python3"
  },
  "language_info": {
   "codemirror_mode": {
    "name": "ipython",
    "version": 3
   },
   "file_extension": ".py",
   "mimetype": "text/x-python",
   "name": "python",
   "nbconvert_exporter": "python",
   "pygments_lexer": "ipython3",
   "version": "3.7.16"
  }
 },
 "nbformat": 4,
 "nbformat_minor": 5
}
