{
 "cells": [
  {
   "cell_type": "code",
   "execution_count": 3,
   "id": "initial_id",
   "metadata": {
    "ExecuteTime": {
     "end_time": "2023-08-10T13:28:10.352591Z",
     "start_time": "2023-08-10T13:28:10.348626Z"
    }
   },
   "outputs": [
    {
     "data": {
      "text/plain": "\u001B[1m\n================================\n            PIPELINE            \n================================\n\n\u001B[0m\u001B[1mSTEP 1\u001B[0m\n\tpath: load/load_pipeline.ipynb\n\tvars: {'countries': ['spain', 'italy']}\n\n\u001B[1mSTEP 2\u001B[0m\n\tpath: process_pipeline.ipynb\n\tvars: {'countries': ['spain', 'italy']}\n\n\u001B[1m================================\u001B[0m"
     },
     "execution_count": 3,
     "metadata": {},
     "output_type": "execute_result"
    }
   ],
   "source": [
    "\n",
    "import stdflow as sf\n",
    "from stdflow import StepRunner, Pipeline\n",
    "\n",
    "countries = sf.var('countries', ['spain', 'italy'])\n",
    "\n",
    "ppl = Pipeline()\n",
    "ppl.add_step(StepRunner(\"load/load_pipeline.ipynb\", variables={\"countries\": countries}))\n",
    "ppl.add_step(StepRunner(\"process_pipeline.ipynb\", variables={\"countries\": countries}))\n",
    "ppl"
   ]
  },
  {
   "cell_type": "code",
   "execution_count": 4,
   "id": "4f489c2cf81f5c13",
   "metadata": {
    "ExecuteTime": {
     "end_time": "2023-08-10T13:28:29.102213Z",
     "start_time": "2023-08-10T13:28:10.353119Z"
    }
   },
   "outputs": [
    {
     "name": "stdout",
     "output_type": "stream",
     "text": [
      "\u001B[1m=============================================\u001B[0m\n",
      "\u001B[1m    01.          load/load_pipeline.ipynb\u001B[0m\n",
      "\u001B[1m=============================================\u001B[0m\u001B[0m\n",
      "Variables: {'countries': ['spain', 'italy']}\n",
      "\tPath: load/load_pipeline.ipynb\n",
      "\tDuration: 0 days 00:00:08.063559\n",
      "\tEnv: {'countries': ['spain', 'italy']}\n",
      "\u001B[1m\u001B[32mNotebook executed successfully.\u001B[0m\n",
      "\n",
      "\n",
      "\u001B[1m=============================================\u001B[0m\n",
      "\u001B[1m    02.            process_pipeline.ipynb\u001B[0m\n",
      "\u001B[1m=============================================\u001B[0m\u001B[0m\n",
      "Variables: {'countries': ['spain', 'italy']}\n",
      "\tPath: process_pipeline.ipynb\n",
      "\tDuration: 0 days 00:00:08.221922\n",
      "\tEnv: {'countries': ['spain', 'italy']}\n",
      "\u001B[1m\u001B[32mNotebook executed successfully.\u001B[0m\n",
      "\n"
     ]
    }
   ],
   "source": [
    "ppl.run(progress_bar=False)"
   ]
  },
  {
   "cell_type": "code",
   "execution_count": 4,
   "id": "87b99374ec45d10",
   "metadata": {
    "ExecuteTime": {
     "end_time": "2023-08-10T13:28:29.105061Z",
     "start_time": "2023-08-10T13:28:29.100726Z"
    }
   },
   "outputs": [],
   "source": []
  }
 ],
 "metadata": {
  "kernelspec": {
   "display_name": "Python 3 (ipykernel)",
   "language": "python",
   "name": "python3"
  },
  "language_info": {
   "codemirror_mode": {
    "name": "ipython",
    "version": 3
   },
   "file_extension": ".py",
   "mimetype": "text/x-python",
   "name": "python",
   "nbconvert_exporter": "python",
   "pygments_lexer": "ipython3",
   "version": "3.7.16"
  }
 },
 "nbformat": 4,
 "nbformat_minor": 5
}
