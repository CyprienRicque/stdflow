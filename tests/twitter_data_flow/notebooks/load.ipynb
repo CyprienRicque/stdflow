{
 "cells": [
  {
   "cell_type": "code",
   "execution_count": null,
   "outputs": [],
   "source": [
    "\n",
    "import stdflow as sf\n",
    "\n",
    "import pandas as pd\n",
    "import random\n",
    "from faker import Faker\n",
    "from stdflow import Step\n",
    "\n",
    "\n",
    "# Instantiate the Faker generator\n",
    "fake = Faker()\n",
    "Faker.seed(4321)\n",
    "random.seed(4321)\n",
    "\n",
    "# Define a function to create fake data\n",
    "def load(country, num_entries=100):\n",
    "    step = Step(root='data', step_out=\"loaded\", step_in=\"raw\", attrs = [\"twitter\", country])\n",
    "    df = step.load()\n",
    "    \n",
    "    # lower columns name\n",
    "    df.columns = [col.lower() for col in df.columns]\n",
    "    \n",
    "    step.save(df, file_name= f\"{country}_data.csv\", index=False)\n",
    "\n",
    "\n"
   ],
   "metadata": {
    "collapsed": false
   },
   "id": "3afeb8557fdc6fd8"
  },
  {
   "cell_type": "code",
   "execution_count": null,
   "outputs": [],
   "source": [
    "country = sf.var(\"country\", \"spain\")\n",
    "\n",
    "sf.step_out = \"loaded\"\n",
    "sf.root = 'data'\n",
    "sf.attrs = [\"twitter\", country]\n",
    "\n",
    "df = sf.load()\n",
    "df.columns = [col.lower() for col in df.columns]\n",
    "\n",
    "sf.save(df, attrs = [\"twitter\", country], file_name= f\"{country}_data.xlsx\", index=False)\n"
   ],
   "metadata": {
    "collapsed": false
   },
   "id": "ebb6b8545a14d3aa"
  }
 ],
 "metadata": {
  "kernelspec": {
   "display_name": "Python 3",
   "language": "python",
   "name": "python3"
  },
  "language_info": {
   "codemirror_mode": {
    "name": "ipython",
    "version": 2
   },
   "file_extension": ".py",
   "mimetype": "text/x-python",
   "name": "python",
   "nbconvert_exporter": "python",
   "pygments_lexer": "ipython2",
   "version": "2.7.6"
  }
 },
 "nbformat": 4,
 "nbformat_minor": 5
}
