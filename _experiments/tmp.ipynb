{
 "cells": [
  {
   "cell_type": "code",
   "execution_count": 1,
   "metadata": {
    "collapsed": true,
    "jupyter": {
     "outputs_hidden": true
    },
    "ExecuteTime": {
     "end_time": "2023-08-02T05:44:40.795275Z",
     "start_time": "2023-08-02T05:44:40.791426Z"
    }
   },
   "outputs": [],
   "source": [
    "import os"
   ]
  },
  {
   "cell_type": "code",
   "execution_count": 1,
   "metadata": {
    "collapsed": false,
    "ExecuteTime": {
     "end_time": "2023-09-13T09:26:40.392063Z",
     "start_time": "2023-09-13T09:26:37.590039Z"
    }
   },
   "outputs": [
    {
     "name": "stdout",
     "output_type": "stream",
     "text": [
      "\u001B[31mERROR: Could not find a version that satisfies the requirement foo (from versions: none)\u001B[0m\u001B[31m\r\n",
      "\u001B[0m\u001B[31mERROR: No matching distribution found for foo\u001B[0m\u001B[31m\r\n",
      "\u001B[0mNote: you may need to restart the kernel to use updated packages.\n"
     ]
    }
   ],
   "source": [
    "%pip install foo\n"
   ]
  },
  {
   "cell_type": "code",
   "execution_count": 2,
   "outputs": [
    {
     "name": "stdout",
     "output_type": "stream",
     "text": [
      "\u001B[31mERROR: Could not find a version that satisfies the requirement foo (from versions: none)\u001B[0m\u001B[31m\r\n",
      "\u001B[0m\u001B[31mERROR: No matching distribution found for foo\u001B[0m\u001B[31m\r\n",
      "\u001B[0m"
     ]
    }
   ],
   "source": [
    "!pip install foo"
   ],
   "metadata": {
    "collapsed": false,
    "ExecuteTime": {
     "end_time": "2023-09-13T09:26:56.091788Z",
     "start_time": "2023-09-13T09:26:54.146948Z"
    }
   }
  },
  {
   "cell_type": "code",
   "execution_count": 3,
   "outputs": [
    {
     "name": "stdout",
     "output_type": "stream",
     "text": [
      "Requirement already satisfied: stdflow in /Users/cyprien/Documents/artefact/stdflow (0.0.65)\r\n",
      "Requirement already satisfied: openpyxl~=3.1.2 in /Users/cyprien/miniconda3_py37/lib/python3.7/site-packages (from stdflow) (3.1.2)\r\n",
      "Requirement already satisfied: ipynbname in /Users/cyprien/miniconda3_py37/lib/python3.7/site-packages (from stdflow) (2023.2.0.0)\r\n",
      "Requirement already satisfied: nbconvert in /Users/cyprien/miniconda3_py37/lib/python3.7/site-packages (from stdflow) (7.6.0)\r\n",
      "Requirement already satisfied: colorama in /Users/cyprien/miniconda3_py37/lib/python3.7/site-packages (from stdflow) (0.4.6)\r\n",
      "Requirement already satisfied: tqdm in /Users/cyprien/miniconda3_py37/lib/python3.7/site-packages (from stdflow) (4.64.1)\r\n",
      "Requirement already satisfied: typing-extensions>=4.7.1 in /Users/cyprien/miniconda3_py37/lib/python3.7/site-packages (from stdflow) (4.7.1)\r\n",
      "Requirement already satisfied: pandas~=1.3.5 in /Users/cyprien/miniconda3_py37/lib/python3.7/site-packages (from stdflow) (1.3.5)\r\n",
      "Requirement already satisfied: et-xmlfile in /Users/cyprien/miniconda3_py37/lib/python3.7/site-packages (from openpyxl~=3.1.2->stdflow) (1.1.0)\r\n",
      "Requirement already satisfied: python-dateutil>=2.7.3 in /Users/cyprien/miniconda3_py37/lib/python3.7/site-packages (from pandas~=1.3.5->stdflow) (2.8.2)\r\n",
      "Requirement already satisfied: pytz>=2017.3 in /Users/cyprien/miniconda3_py37/lib/python3.7/site-packages (from pandas~=1.3.5->stdflow) (2023.3)\r\n",
      "Requirement already satisfied: numpy>=1.17.3 in /Users/cyprien/miniconda3_py37/lib/python3.7/site-packages (from pandas~=1.3.5->stdflow) (1.21.6)\r\n",
      "Requirement already satisfied: ipykernel in /Users/cyprien/miniconda3_py37/lib/python3.7/site-packages (from ipynbname->stdflow) (6.16.2)\r\n",
      "Requirement already satisfied: beautifulsoup4 in /Users/cyprien/miniconda3_py37/lib/python3.7/site-packages (from nbconvert->stdflow) (4.12.2)\r\n",
      "Requirement already satisfied: jupyterlab-pygments in /Users/cyprien/miniconda3_py37/lib/python3.7/site-packages (from nbconvert->stdflow) (0.2.2)\r\n",
      "Requirement already satisfied: pygments>=2.4.1 in /Users/cyprien/miniconda3_py37/lib/python3.7/site-packages (from nbconvert->stdflow) (2.15.1)\r\n",
      "Requirement already satisfied: defusedxml in /Users/cyprien/miniconda3_py37/lib/python3.7/site-packages (from nbconvert->stdflow) (0.7.1)\r\n",
      "Requirement already satisfied: traitlets>=5.1 in /Users/cyprien/miniconda3_py37/lib/python3.7/site-packages (from nbconvert->stdflow) (5.9.0)\r\n",
      "Requirement already satisfied: jinja2>=3.0 in /Users/cyprien/miniconda3_py37/lib/python3.7/site-packages (from nbconvert->stdflow) (3.1.2)\r\n",
      "Requirement already satisfied: bleach!=5.0.0 in /Users/cyprien/miniconda3_py37/lib/python3.7/site-packages (from nbconvert->stdflow) (6.0.0)\r\n",
      "Requirement already satisfied: importlib-metadata>=3.6 in /Users/cyprien/miniconda3_py37/lib/python3.7/site-packages (from nbconvert->stdflow) (4.11.3)\r\n",
      "Requirement already satisfied: packaging in /Users/cyprien/miniconda3_py37/lib/python3.7/site-packages (from nbconvert->stdflow) (23.1)\r\n",
      "Requirement already satisfied: pandocfilters>=1.4.1 in /Users/cyprien/miniconda3_py37/lib/python3.7/site-packages (from nbconvert->stdflow) (1.5.0)\r\n",
      "Requirement already satisfied: nbclient>=0.5.0 in /Users/cyprien/miniconda3_py37/lib/python3.7/site-packages (from nbconvert->stdflow) (0.7.4)\r\n",
      "Requirement already satisfied: tinycss2 in /Users/cyprien/miniconda3_py37/lib/python3.7/site-packages (from nbconvert->stdflow) (1.2.1)\r\n",
      "Requirement already satisfied: mistune<4,>=2.0.3 in /Users/cyprien/miniconda3_py37/lib/python3.7/site-packages (from nbconvert->stdflow) (3.0.1)\r\n",
      "Requirement already satisfied: jupyter-core>=4.7 in /Users/cyprien/miniconda3_py37/lib/python3.7/site-packages (from nbconvert->stdflow) (4.12.0)\r\n",
      "Requirement already satisfied: nbformat>=5.7 in /Users/cyprien/miniconda3_py37/lib/python3.7/site-packages (from nbconvert->stdflow) (5.8.0)\r\n",
      "Requirement already satisfied: markupsafe>=2.0 in /Users/cyprien/miniconda3_py37/lib/python3.7/site-packages (from nbconvert->stdflow) (2.1.3)\r\n",
      "Requirement already satisfied: webencodings in /Users/cyprien/miniconda3_py37/lib/python3.7/site-packages (from bleach!=5.0.0->nbconvert->stdflow) (0.5.1)\r\n",
      "Requirement already satisfied: six>=1.9.0 in /Users/cyprien/miniconda3_py37/lib/python3.7/site-packages (from bleach!=5.0.0->nbconvert->stdflow) (1.16.0)\r\n",
      "Requirement already satisfied: zipp>=0.5 in /Users/cyprien/miniconda3_py37/lib/python3.7/site-packages (from importlib-metadata>=3.6->nbconvert->stdflow) (3.11.0)\r\n",
      "Requirement already satisfied: jupyter-client>=6.1.12 in /Users/cyprien/miniconda3_py37/lib/python3.7/site-packages (from nbclient>=0.5.0->nbconvert->stdflow) (7.4.9)\r\n",
      "Requirement already satisfied: fastjsonschema in /Users/cyprien/miniconda3_py37/lib/python3.7/site-packages (from nbformat>=5.7->nbconvert->stdflow) (2.18.0)\r\n",
      "Requirement already satisfied: jsonschema>=2.6 in /Users/cyprien/miniconda3_py37/lib/python3.7/site-packages (from nbformat>=5.7->nbconvert->stdflow) (4.17.3)\r\n",
      "Requirement already satisfied: soupsieve>1.2 in /Users/cyprien/miniconda3_py37/lib/python3.7/site-packages (from beautifulsoup4->nbconvert->stdflow) (2.4.1)\r\n",
      "Requirement already satisfied: ipython>=7.23.1 in /Users/cyprien/miniconda3_py37/lib/python3.7/site-packages (from ipykernel->ipynbname->stdflow) (7.34.0)\r\n",
      "Requirement already satisfied: psutil in /Users/cyprien/miniconda3_py37/lib/python3.7/site-packages (from ipykernel->ipynbname->stdflow) (5.9.5)\r\n",
      "Requirement already satisfied: pyzmq>=17 in /Users/cyprien/miniconda3_py37/lib/python3.7/site-packages (from ipykernel->ipynbname->stdflow) (25.1.0)\r\n",
      "Requirement already satisfied: tornado>=6.1 in /Users/cyprien/miniconda3_py37/lib/python3.7/site-packages (from ipykernel->ipynbname->stdflow) (6.2)\r\n",
      "Requirement already satisfied: debugpy>=1.0 in /Users/cyprien/miniconda3_py37/lib/python3.7/site-packages (from ipykernel->ipynbname->stdflow) (1.6.7)\r\n",
      "Requirement already satisfied: appnope in /Users/cyprien/miniconda3_py37/lib/python3.7/site-packages (from ipykernel->ipynbname->stdflow) (0.1.3)\r\n",
      "Requirement already satisfied: nest-asyncio in /Users/cyprien/miniconda3_py37/lib/python3.7/site-packages (from ipykernel->ipynbname->stdflow) (1.5.6)\r\n",
      "Requirement already satisfied: matplotlib-inline>=0.1 in /Users/cyprien/miniconda3_py37/lib/python3.7/site-packages (from ipykernel->ipynbname->stdflow) (0.1.6)\r\n",
      "Requirement already satisfied: pickleshare in /Users/cyprien/miniconda3_py37/lib/python3.7/site-packages (from ipython>=7.23.1->ipykernel->ipynbname->stdflow) (0.7.5)\r\n",
      "Requirement already satisfied: backcall in /Users/cyprien/miniconda3_py37/lib/python3.7/site-packages (from ipython>=7.23.1->ipykernel->ipynbname->stdflow) (0.2.0)\r\n",
      "Requirement already satisfied: jedi>=0.16 in /Users/cyprien/miniconda3_py37/lib/python3.7/site-packages (from ipython>=7.23.1->ipykernel->ipynbname->stdflow) (0.18.2)\r\n",
      "Requirement already satisfied: decorator in /Users/cyprien/miniconda3_py37/lib/python3.7/site-packages (from ipython>=7.23.1->ipykernel->ipynbname->stdflow) (5.1.1)\r\n",
      "Requirement already satisfied: pexpect>4.3 in /Users/cyprien/miniconda3_py37/lib/python3.7/site-packages (from ipython>=7.23.1->ipykernel->ipynbname->stdflow) (4.8.0)\r\n",
      "Requirement already satisfied: prompt-toolkit!=3.0.0,!=3.0.1,<3.1.0,>=2.0.0 in /Users/cyprien/miniconda3_py37/lib/python3.7/site-packages (from ipython>=7.23.1->ipykernel->ipynbname->stdflow) (3.0.39)\r\n",
      "Requirement already satisfied: setuptools>=18.5 in /Users/cyprien/miniconda3_py37/lib/python3.7/site-packages (from ipython>=7.23.1->ipykernel->ipynbname->stdflow) (65.6.3)\r\n",
      "Requirement already satisfied: attrs>=17.4.0 in /Users/cyprien/miniconda3_py37/lib/python3.7/site-packages (from jsonschema>=2.6->nbformat>=5.7->nbconvert->stdflow) (23.1.0)\r\n",
      "Requirement already satisfied: pyrsistent!=0.17.0,!=0.17.1,!=0.17.2,>=0.14.0 in /Users/cyprien/miniconda3_py37/lib/python3.7/site-packages (from jsonschema>=2.6->nbformat>=5.7->nbconvert->stdflow) (0.19.3)\r\n",
      "Requirement already satisfied: importlib-resources>=1.4.0 in /Users/cyprien/miniconda3_py37/lib/python3.7/site-packages (from jsonschema>=2.6->nbformat>=5.7->nbconvert->stdflow) (5.12.0)\r\n",
      "Requirement already satisfied: pkgutil-resolve-name>=1.3.10 in /Users/cyprien/miniconda3_py37/lib/python3.7/site-packages (from jsonschema>=2.6->nbformat>=5.7->nbconvert->stdflow) (1.3.10)\r\n",
      "Requirement already satisfied: entrypoints in /Users/cyprien/miniconda3_py37/lib/python3.7/site-packages (from jupyter-client>=6.1.12->nbclient>=0.5.0->nbconvert->stdflow) (0.4)\r\n",
      "Requirement already satisfied: parso<0.9.0,>=0.8.0 in /Users/cyprien/miniconda3_py37/lib/python3.7/site-packages (from jedi>=0.16->ipython>=7.23.1->ipykernel->ipynbname->stdflow) (0.8.3)\r\n",
      "Requirement already satisfied: ptyprocess>=0.5 in /Users/cyprien/miniconda3_py37/lib/python3.7/site-packages (from pexpect>4.3->ipython>=7.23.1->ipykernel->ipynbname->stdflow) (0.7.0)\r\n",
      "Requirement already satisfied: wcwidth in /Users/cyprien/miniconda3_py37/lib/python3.7/site-packages (from prompt-toolkit!=3.0.0,!=3.0.1,<3.1.0,>=2.0.0->ipython>=7.23.1->ipykernel->ipynbname->stdflow) (0.2.6)\r\n"
     ]
    }
   ],
   "source": [
    "!pip install stdflow"
   ],
   "metadata": {
    "collapsed": false,
    "ExecuteTime": {
     "end_time": "2023-09-13T09:28:46.472917Z",
     "start_time": "2023-09-13T09:28:44.859854Z"
    }
   }
  },
  {
   "cell_type": "code",
   "execution_count": null,
   "outputs": [],
   "source": [
    "!pip install meta_notebook"
   ],
   "metadata": {
    "collapsed": false
   }
  }
 ],
 "metadata": {
  "kernelspec": {
   "display_name": "py37",
   "language": "python",
   "name": "py37"
  },
  "language_info": {
   "codemirror_mode": {
    "name": "ipython",
    "version": 3
   },
   "file_extension": ".py",
   "mimetype": "text/x-python",
   "name": "python",
   "nbconvert_exporter": "python",
   "pygments_lexer": "ipython3",
   "version": "3.7.16"
  }
 },
 "nbformat": 4,
 "nbformat_minor": 4
}
