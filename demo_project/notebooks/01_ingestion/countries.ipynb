{
 "cells": [
  {
   "cell_type": "code",
   "execution_count": 1,
   "metadata": {
    "execution": {
     "iopub.execute_input": "2023-09-21T18:05:31.090165Z",
     "iopub.status.busy": "2023-09-21T18:05:31.089522Z",
     "iopub.status.idle": "2023-09-21T18:05:31.389723Z",
     "shell.execute_reply": "2023-09-21T18:05:31.389238Z"
    }
   },
   "outputs": [],
   "source": [
    "import pandas as pd"
   ]
  },
  {
   "cell_type": "markdown",
   "metadata": {},
   "source": [
    "## Load"
   ]
  },
  {
   "cell_type": "code",
   "execution_count": 2,
   "metadata": {
    "execution": {
     "iopub.execute_input": "2023-09-21T18:05:31.392707Z",
     "iopub.status.busy": "2023-09-21T18:05:31.392494Z",
     "iopub.status.idle": "2023-09-21T18:05:31.792658Z",
     "shell.execute_reply": "2023-09-21T18:05:31.792221Z"
    }
   },
   "outputs": [],
   "source": [
    "import stdflow as sf\n",
    "from root import data_root\n",
    "\n",
    "sf.root = data_root\n",
    "\n",
    "df = sf.load(attrs=[\"lake\"], file_name=\"countries of the world.csv\", version=None)"
   ]
  },
  {
   "cell_type": "markdown",
   "metadata": {},
   "source": [
    "## Loading "
   ]
  },
  {
   "cell_type": "code",
   "execution_count": 3,
   "metadata": {
    "execution": {
     "iopub.execute_input": "2023-09-21T18:05:31.795311Z",
     "iopub.status.busy": "2023-09-21T18:05:31.795132Z",
     "iopub.status.idle": "2023-09-21T18:05:31.797717Z",
     "shell.execute_reply": "2023-09-21T18:05:31.797291Z"
    }
   },
   "outputs": [],
   "source": [
    "pass"
   ]
  },
  {
   "cell_type": "markdown",
   "metadata": {},
   "source": [
    "## Save"
   ]
  },
  {
   "cell_type": "code",
   "execution_count": 4,
   "metadata": {
    "execution": {
     "iopub.execute_input": "2023-09-21T18:05:31.800056Z",
     "iopub.status.busy": "2023-09-21T18:05:31.799896Z",
     "iopub.status.idle": "2023-09-21T18:05:31.808278Z",
     "shell.execute_reply": "2023-09-21T18:05:31.807820Z"
    }
   },
   "outputs": [
    {
     "data": {
      "text/plain": [
       "attrs=countries::step_name=loaded::version=ppl::file_name=countries.csv"
      ]
     },
     "execution_count": 4,
     "metadata": {},
     "output_type": "execute_result"
    }
   ],
   "source": [
    "version = sf.var(\"version\", \":default\")\n",
    "\n",
    "sf.save(df, attrs=\"countries\", step=\"loaded\", file_name=\"countries.csv\", index=False, version=version)"
   ]
  },
  {
   "cell_type": "code",
   "execution_count": null,
   "metadata": {},
   "outputs": [],
   "source": []
  }
 ],
 "metadata": {
  "kernelspec": {
   "display_name": "py37",
   "language": "python",
   "name": "py37"
  },
  "language_info": {
   "codemirror_mode": {
    "name": "ipython",
    "version": 3
   },
   "file_extension": ".py",
   "mimetype": "text/x-python",
   "name": "python",
   "nbconvert_exporter": "python",
   "pygments_lexer": "ipython3",
   "version": "3.7.16"
  }
 },
 "nbformat": 4,
 "nbformat_minor": 4
}
