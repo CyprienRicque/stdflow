{
 "cells": [
  {
   "cell_type": "code",
   "execution_count": 1,
   "metadata": {
    "execution": {
     "iopub.execute_input": "2023-09-22T02:17:58.946569Z",
     "iopub.status.busy": "2023-09-22T02:17:58.945872Z",
     "iopub.status.idle": "2023-09-22T02:17:59.198770Z",
     "shell.execute_reply": "2023-09-22T02:17:59.198102Z"
    }
   },
   "outputs": [],
   "source": [
    "import pandas as pd"
   ]
  },
  {
   "cell_type": "markdown",
   "metadata": {},
   "source": [
    "## Load"
   ]
  },
  {
   "cell_type": "code",
   "execution_count": 2,
   "metadata": {
    "execution": {
     "iopub.execute_input": "2023-09-22T02:17:59.202444Z",
     "iopub.status.busy": "2023-09-22T02:17:59.202150Z",
     "iopub.status.idle": "2023-09-22T02:17:59.573202Z",
     "shell.execute_reply": "2023-09-22T02:17:59.572811Z"
    }
   },
   "outputs": [],
   "source": [
    "import stdflow as sf\n",
    "from root import data_root\n",
    "\n",
    "sf.root = data_root\n",
    "\n",
    "df = sf.load(attrs=[\"lake\"], file_name=\"countries of the world.csv\", version=None)"
   ]
  },
  {
   "cell_type": "markdown",
   "metadata": {},
   "source": [
    "## Loading "
   ]
  },
  {
   "cell_type": "code",
   "execution_count": 3,
   "metadata": {
    "execution": {
     "iopub.execute_input": "2023-09-22T02:17:59.575801Z",
     "iopub.status.busy": "2023-09-22T02:17:59.575645Z",
     "iopub.status.idle": "2023-09-22T02:17:59.578163Z",
     "shell.execute_reply": "2023-09-22T02:17:59.577815Z"
    }
   },
   "outputs": [],
   "source": [
    "pass"
   ]
  },
  {
   "cell_type": "markdown",
   "metadata": {},
   "source": [
    "## Save"
   ]
  },
  {
   "cell_type": "code",
   "execution_count": 4,
   "metadata": {
    "execution": {
     "iopub.execute_input": "2023-09-22T02:17:59.580299Z",
     "iopub.status.busy": "2023-09-22T02:17:59.580157Z",
     "iopub.status.idle": "2023-09-22T02:17:59.588782Z",
     "shell.execute_reply": "2023-09-22T02:17:59.588327Z"
    }
   },
   "outputs": [
    {
     "data": {
      "text/plain": [
       "attrs=countries::step_name=loaded::version=test::file_name=countries.csv"
      ]
     },
     "execution_count": 4,
     "metadata": {},
     "output_type": "execute_result"
    }
   ],
   "source": [
    "version = sf.var(\"version\", \":default\")\n",
    "\n",
    "sf.save(\n",
    "    df, \n",
    "    attrs=\"countries\", \n",
    "    step=\"loaded\", \n",
    "    file_name=\"countries.csv\", \n",
    "    index=False, \n",
    "    version=version\n",
    ")"
   ]
  },
  {
   "cell_type": "code",
   "execution_count": null,
   "metadata": {},
   "outputs": [],
   "source": []
  }
 ],
 "metadata": {
  "kernelspec": {
   "display_name": "py37",
   "language": "python",
   "name": "py37"
  },
  "language_info": {
   "codemirror_mode": {
    "name": "ipython",
    "version": 3
   },
   "file_extension": ".py",
   "mimetype": "text/x-python",
   "name": "python",
   "nbconvert_exporter": "python",
   "pygments_lexer": "ipython3",
   "version": "3.7.16"
  }
 },
 "nbformat": 4,
 "nbformat_minor": 4
}
