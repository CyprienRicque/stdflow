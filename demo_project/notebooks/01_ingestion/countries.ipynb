{
 "cells": [
  {
   "cell_type": "code",
   "execution_count": null,
   "metadata": {},
   "outputs": [],
   "source": [
    "import pandas as pd"
   ]
  },
  {
   "cell_type": "markdown",
   "metadata": {},
   "source": [
    "## Load"
   ]
  },
  {
   "cell_type": "code",
   "execution_count": null,
   "metadata": {},
   "outputs": [],
   "source": [
    "import stdflow as sf\n",
    "from root import data_root\n",
    "\n",
    "sf.root = data_root\n",
    "\n",
    "df = sf.load(attrs=[\"lake\"], file_name=\"countries of the world.csv\", version=None)"
   ]
  },
  {
   "cell_type": "markdown",
   "metadata": {},
   "source": [
    "## Loading "
   ]
  },
  {
   "cell_type": "code",
   "execution_count": null,
   "metadata": {},
   "outputs": [],
   "source": [
    "pass"
   ]
  },
  {
   "cell_type": "markdown",
   "metadata": {},
   "source": [
    "## Save"
   ]
  },
  {
   "cell_type": "code",
   "execution_count": null,
   "metadata": {},
   "outputs": [
    {
     "data": {
      "text/plain": [
       "attrs=countries::step_name=loaded::version=ppl::file_name=countries.csv"
      ]
     },
     "execution_count": null,
     "metadata": {},
     "output_type": "execute_result"
    }
   ],
   "source": [
    "version = sf.var(\"version\", \":default\")\n",
    "\n",
    "sf.save(\n",
    "    df, \n",
    "    attrs=\"countries\", \n",
    "    step=\"loaded\", \n",
    "    file_name=\"countries.csv\", \n",
    "    index=False, \n",
    "    version=version\n",
    ")"
   ]
  },
  {
   "cell_type": "code",
   "execution_count": null,
   "metadata": {},
   "outputs": [],
   "source": []
  }
 ],
 "metadata": {
  "kernelspec": {
   "display_name": "py37",
   "language": "python",
   "name": "py37"
  }
 },
 "nbformat": 4,
 "nbformat_minor": 4
}
