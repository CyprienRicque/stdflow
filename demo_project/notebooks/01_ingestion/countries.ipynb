{
 "cells": [
  {
   "cell_type": "code",
   "execution_count": 14,
   "outputs": [],
   "source": [
    "import pandas as pd"
   ],
   "metadata": {
    "collapsed": false,
    "ExecuteTime": {
     "end_time": "2023-09-21T02:31:08.292059Z",
     "start_time": "2023-09-21T02:31:08.288537Z"
    }
   }
  },
  {
   "cell_type": "markdown",
   "metadata": {},
   "source": [
    "## Load"
   ]
  },
  {
   "cell_type": "code",
   "execution_count": 15,
   "metadata": {
    "ExecuteTime": {
     "end_time": "2023-09-21T02:31:08.620875Z",
     "start_time": "2023-09-21T02:31:08.600046Z"
    }
   },
   "outputs": [],
   "source": [
    "import stdflow as sf\n",
    "from root import data_root\n",
    "\n",
    "sf.root = data_root\n",
    "\n",
    "df = sf.load(attrs=[\"lake\"], file_name=\"countries of the world.csv\", version=None)"
   ]
  },
  {
   "cell_type": "markdown",
   "metadata": {
    "collapsed": false
   },
   "source": [
    "## Loading "
   ]
  },
  {
   "cell_type": "code",
   "execution_count": 16,
   "outputs": [],
   "source": [
    "pass"
   ],
   "metadata": {
    "collapsed": false,
    "ExecuteTime": {
     "end_time": "2023-09-21T02:31:08.861137Z",
     "start_time": "2023-09-21T02:31:08.859183Z"
    }
   }
  },
  {
   "cell_type": "markdown",
   "metadata": {},
   "source": [
    "## Save"
   ]
  },
  {
   "cell_type": "code",
   "execution_count": 17,
   "metadata": {
    "ExecuteTime": {
     "end_time": "2023-09-21T02:31:09.173536Z",
     "start_time": "2023-09-21T02:31:09.165530Z"
    }
   },
   "outputs": [
    {
     "data": {
      "text/plain": "attrs=countries::step_name=loaded::version=202309211031::file_name=countries.csv"
     },
     "execution_count": 17,
     "metadata": {},
     "output_type": "execute_result"
    }
   ],
   "source": [
    "sf.save(df, attrs=\"countries\", step=\"loaded\", file_name=\"countries.csv\", index=False)"
   ]
  },
  {
   "cell_type": "code",
   "execution_count": 17,
   "metadata": {
    "ExecuteTime": {
     "end_time": "2023-09-21T02:31:09.310198Z",
     "start_time": "2023-09-21T02:31:09.307604Z"
    }
   },
   "outputs": [],
   "source": []
  }
 ],
 "metadata": {
  "kernelspec": {
   "name": "py37",
   "language": "python",
   "display_name": "py37"
  },
  "language_info": {
   "codemirror_mode": {
    "name": "ipython",
    "version": 3
   },
   "file_extension": ".py",
   "mimetype": "text/x-python",
   "name": "python",
   "nbconvert_exporter": "python",
   "pygments_lexer": "ipython3",
   "version": "3.9.16"
  }
 },
 "nbformat": 4,
 "nbformat_minor": 4
}
