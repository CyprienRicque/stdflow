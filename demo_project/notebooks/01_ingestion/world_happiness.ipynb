{
 "cells": [
  {
   "cell_type": "code",
   "execution_count": 14,
   "outputs": [],
   "source": [
    "import pandas as pd"
   ],
   "metadata": {
    "collapsed": false,
    "ExecuteTime": {
     "end_time": "2023-09-21T02:31:08.292059Z",
     "start_time": "2023-09-21T02:31:08.288537Z"
    }
   }
  },
  {
   "cell_type": "markdown",
   "metadata": {},
   "source": [
    "## Load"
   ]
  },
  {
   "cell_type": "code",
   "execution_count": 13,
   "metadata": {
    "ExecuteTime": {
     "end_time": "2023-09-21T02:43:41.332345Z",
     "start_time": "2023-09-21T02:43:41.311537Z"
    }
   },
   "outputs": [],
   "source": [
    "import stdflow as sf\n",
    "from root import data_root\n",
    "\n",
    "sf.root = data_root\n",
    "sf.attrs_out = \"world_happiness\"\n",
    "\n",
    "df = sf.load(attrs=\"lake\", file_name=\"world-happiness-report-2019.csv\", version=None)"
   ]
  },
  {
   "cell_type": "markdown",
   "metadata": {
    "collapsed": false
   },
   "source": [
    "## Loading "
   ]
  },
  {
   "cell_type": "code",
   "execution_count": 14,
   "outputs": [
    {
     "data": {
      "text/plain": "Index(['Country (region)', 'Ladder', 'SD of Ladder', 'Positive affect',\n       'Negative affect', 'Social support', 'Freedom', 'Corruption',\n       'Generosity', 'Log of GDP per capita', 'Healthy life expectancy'],\n      dtype='object')"
     },
     "execution_count": 14,
     "metadata": {},
     "output_type": "execute_result"
    }
   ],
   "source": [
    "# remove \\n in column names\n",
    "df.columns = [col.replace(\"\\n\", \" \") for col in df.columns]\n",
    "df.columns"
   ],
   "metadata": {
    "collapsed": false,
    "ExecuteTime": {
     "end_time": "2023-09-21T02:43:41.697263Z",
     "start_time": "2023-09-21T02:43:41.690536Z"
    }
   }
  },
  {
   "cell_type": "markdown",
   "metadata": {},
   "source": [
    "## Save"
   ]
  },
  {
   "cell_type": "code",
   "execution_count": 16,
   "metadata": {
    "ExecuteTime": {
     "end_time": "2023-09-21T02:44:14.491773Z",
     "start_time": "2023-09-21T02:44:14.481552Z"
    }
   },
   "outputs": [
    {
     "data": {
      "text/plain": "attrs=world_happiness::step_name=loaded::version=202309211044::file_name=report_2019.csv"
     },
     "execution_count": 16,
     "metadata": {},
     "output_type": "execute_result"
    }
   ],
   "source": [
    "sf.save(df, step=\"loaded\", file_name=\"report_2019.csv\", index=False)"
   ]
  },
  {
   "cell_type": "code",
   "execution_count": 17,
   "metadata": {
    "ExecuteTime": {
     "end_time": "2023-09-21T02:31:09.310198Z",
     "start_time": "2023-09-21T02:31:09.307604Z"
    }
   },
   "outputs": [],
   "source": []
  }
 ],
 "metadata": {
  "kernelspec": {
   "name": "py37",
   "language": "python",
   "display_name": "py37"
  },
  "language_info": {
   "codemirror_mode": {
    "name": "ipython",
    "version": 3
   },
   "file_extension": ".py",
   "mimetype": "text/x-python",
   "name": "python",
   "nbconvert_exporter": "python",
   "pygments_lexer": "ipython3",
   "version": "3.9.16"
  }
 },
 "nbformat": 4,
 "nbformat_minor": 4
}
