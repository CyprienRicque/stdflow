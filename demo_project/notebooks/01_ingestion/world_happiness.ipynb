{
 "cells": [
  {
   "cell_type": "code",
   "execution_count": 1,
   "metadata": {
    "execution": {
     "iopub.execute_input": "2023-09-21T18:05:33.011490Z",
     "iopub.status.busy": "2023-09-21T18:05:33.010083Z",
     "iopub.status.idle": "2023-09-21T18:05:33.271140Z",
     "shell.execute_reply": "2023-09-21T18:05:33.270596Z"
    }
   },
   "outputs": [],
   "source": [
    "import pandas as pd"
   ]
  },
  {
   "cell_type": "markdown",
   "metadata": {},
   "source": [
    "## Load"
   ]
  },
  {
   "cell_type": "code",
   "execution_count": 2,
   "metadata": {
    "execution": {
     "iopub.execute_input": "2023-09-21T18:05:33.275147Z",
     "iopub.status.busy": "2023-09-21T18:05:33.274873Z",
     "iopub.status.idle": "2023-09-21T18:05:33.642360Z",
     "shell.execute_reply": "2023-09-21T18:05:33.641965Z"
    }
   },
   "outputs": [],
   "source": [
    "import stdflow as sf\n",
    "from root import data_root\n",
    "\n",
    "sf.root = data_root\n",
    "sf.attrs_out = \"world_happiness\"\n",
    "\n",
    "df = sf.load(attrs=\"lake\", file_name=\"world-happiness-report-2019.csv\", version=None)"
   ]
  },
  {
   "cell_type": "markdown",
   "metadata": {},
   "source": [
    "## Loading "
   ]
  },
  {
   "cell_type": "code",
   "execution_count": 3,
   "metadata": {
    "execution": {
     "iopub.execute_input": "2023-09-21T18:05:33.645167Z",
     "iopub.status.busy": "2023-09-21T18:05:33.644996Z",
     "iopub.status.idle": "2023-09-21T18:05:33.650079Z",
     "shell.execute_reply": "2023-09-21T18:05:33.649698Z"
    }
   },
   "outputs": [
    {
     "data": {
      "text/plain": [
       "Index(['Country (region)', 'Ladder', 'SD of Ladder', 'Positive affect',\n",
       "       'Negative affect', 'Social support', 'Freedom', 'Corruption',\n",
       "       'Generosity', 'Log of GDP per capita', 'Healthy life expectancy'],\n",
       "      dtype='object')"
      ]
     },
     "execution_count": 3,
     "metadata": {},
     "output_type": "execute_result"
    }
   ],
   "source": [
    "# remove \\n in column names\n",
    "df.columns = [col.replace(\"\\n\", \" \") for col in df.columns]\n",
    "df.columns"
   ]
  },
  {
   "cell_type": "markdown",
   "metadata": {},
   "source": [
    "## Save"
   ]
  },
  {
   "cell_type": "code",
   "execution_count": 4,
   "metadata": {
    "execution": {
     "iopub.execute_input": "2023-09-21T18:05:33.652362Z",
     "iopub.status.busy": "2023-09-21T18:05:33.652207Z",
     "iopub.status.idle": "2023-09-21T18:05:33.658225Z",
     "shell.execute_reply": "2023-09-21T18:05:33.657865Z"
    }
   },
   "outputs": [
    {
     "data": {
      "text/plain": [
       "attrs=world_happiness::step_name=loaded::version=ppl::file_name=report_2019.csv"
      ]
     },
     "execution_count": 4,
     "metadata": {},
     "output_type": "execute_result"
    }
   ],
   "source": [
    "version = sf.var(\"version\", \":default\")\n",
    "\n",
    "sf.save(df, step=\"loaded\", file_name=\"report_2019.csv\", index=False, version=version)"
   ]
  },
  {
   "cell_type": "code",
   "execution_count": null,
   "metadata": {},
   "outputs": [],
   "source": []
  }
 ],
 "metadata": {
  "kernelspec": {
   "display_name": "py37",
   "language": "python",
   "name": "py37"
  },
  "language_info": {
   "codemirror_mode": {
    "name": "ipython",
    "version": 3
   },
   "file_extension": ".py",
   "mimetype": "text/x-python",
   "name": "python",
   "nbconvert_exporter": "python",
   "pygments_lexer": "ipython3",
   "version": "3.7.16"
  }
 },
 "nbformat": 4,
 "nbformat_minor": 4
}
