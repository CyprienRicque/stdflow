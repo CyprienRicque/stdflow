{
 "cells": [
  {
   "cell_type": "markdown",
   "metadata": {},
   "source": [
    "## Load"
   ]
  },
  {
   "cell_type": "code",
   "execution_count": 1,
   "metadata": {
    "ExecuteTime": {
     "end_time": "2023-10-10T04:16:43.014866Z",
     "start_time": "2023-10-10T04:16:42.257151Z"
    }
   },
   "outputs": [],
   "source": [
    "import stdflow as sf\n",
    "from root import data_root\n",
    "\n",
    "sf.root = data_root\n",
    "sf.attrs_out = \"world_happiness\"\n",
    "\n",
    "df = sf.load(attrs=\"lake\", file_name=\"world-happiness-report-2019.csv\", version=None)"
   ]
  },
  {
   "cell_type": "markdown",
   "metadata": {},
   "source": [
    "## Loading "
   ]
  },
  {
   "cell_type": "code",
   "execution_count": 2,
   "metadata": {
    "ExecuteTime": {
     "end_time": "2023-10-10T04:16:43.023033Z",
     "start_time": "2023-10-10T04:16:43.019253Z"
    }
   },
   "outputs": [
    {
     "data": {
      "text/plain": "Index(['Country (region)', 'Ladder', 'SD of Ladder', 'Positive affect',\n       'Negative affect', 'Social support', 'Freedom', 'Corruption',\n       'Generosity', 'Log of GDP per capita', 'Healthy life expectancy'],\n      dtype='object')"
     },
     "execution_count": 2,
     "metadata": {},
     "output_type": "execute_result"
    }
   ],
   "source": [
    "# remove \\n in column names\n",
    "df.columns = [col.replace(\"\\n\", \" \") for col in df.columns]\n",
    "df.columns"
   ]
  },
  {
   "cell_type": "markdown",
   "metadata": {},
   "source": [
    "## Save"
   ]
  },
  {
   "cell_type": "code",
   "execution_count": 3,
   "metadata": {
    "ExecuteTime": {
     "end_time": "2023-10-10T04:16:43.030719Z",
     "start_time": "2023-10-10T04:16:43.023454Z"
    }
   },
   "outputs": [
    {
     "data": {
      "text/plain": "attrs=world_happiness::step_name=loaded::version=202310101216::file_name=report_2019.csv"
     },
     "execution_count": 3,
     "metadata": {},
     "output_type": "execute_result"
    }
   ],
   "source": [
    "version = sf.var(\"version\", \":default\")  # can be replaced when running the notebook\n",
    "\n",
    "# version = \"experiment\" # cannot be replaced\n",
    "\n",
    "sf.save(df, step=\"loaded\", file_name=\"report_2019.csv\", index=False, version=version)"
   ]
  },
  {
   "cell_type": "code",
   "execution_count": 3,
   "outputs": [],
   "source": [],
   "metadata": {
    "collapsed": false,
    "ExecuteTime": {
     "end_time": "2023-10-10T04:16:43.034091Z",
     "start_time": "2023-10-10T04:16:43.030918Z"
    }
   }
  }
 ],
 "metadata": {
  "kernelspec": {
   "display_name": "py37",
   "language": "python",
   "name": "py37"
  }
 },
 "nbformat": 4,
 "nbformat_minor": 4
}
