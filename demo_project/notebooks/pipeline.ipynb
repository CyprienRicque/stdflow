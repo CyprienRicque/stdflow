{
 "cells": [
  {
   "cell_type": "code",
   "execution_count": null,
   "id": "initial_id",
   "metadata": {},
   "outputs": [],
   "source": [
    "import stdflow as sf\n",
    "from stdflow import Pipeline"
   ]
  },
  {
   "cell_type": "code",
   "execution_count": null,
   "id": "e57dc9488ea6d329",
   "metadata": {},
   "outputs": [
    {
     "data": {
      "text/plain": [
       "\u001b[1m\n",
       "================================\n",
       "            PIPELINE            \n",
       "================================\n",
       "\n",
       "\u001b[0m\u001b[1mSTEP 1\u001b[0m\n",
       "\tpath: 01_ingestion/countries.ipynb\n",
       "\tvars: {'version': 'test'}\n",
       "\n",
       "\u001b[1mSTEP 2\u001b[0m\n",
       "\tpath: 01_ingestion/world_happiness.ipynb\n",
       "\tvars: {'version': 'test'}\n",
       "\n",
       "\u001b[1mSTEP 3\u001b[0m\n",
       "\tpath: 02_formatting/01_format_cols.ipynb\n",
       "\tvars: {'version': 'test'}\n",
       "\n",
       "\u001b[1mSTEP 4\u001b[0m\n",
       "\tpath: 02_formatting/02_fix_typing.ipynb\n",
       "\tvars: {'version': 'test'}\n",
       "\n",
       "\u001b[1mSTEP 5\u001b[0m\n",
       "\tpath: 03_preprocessing/merge.ipynb\n",
       "\tvars: {'version': 'test'}\n",
       "\n",
       "\u001b[1m================================\u001b[0m"
      ]
     },
     "execution_count": null,
     "metadata": {},
     "output_type": "execute_result"
    }
   ],
   "source": [
    "ppl = Pipeline()\n",
    "\n",
    "version = \"test\"\n",
    "\n",
    "ppl.add_step(\"01_ingestion/countries.ipynb\", variables={\"version\": version})\n",
    "ppl.add_step(\"01_ingestion/world_happiness.ipynb\", variables={\"version\": version})\n",
    "\n",
    "ppl.add_step(\"02_formatting/01_format_cols.ipynb\", variables={\"version\": version})\n",
    "ppl.add_step(\"02_formatting/02_fix_typing.ipynb\", variables={\"version\": version})\n",
    "\n",
    "ppl.add_step(\"03_preprocessing/merge.ipynb\", variables={\"version\": version})"
   ]
  },
  {
   "cell_type": "code",
   "execution_count": null,
   "id": "cbc5076345782e32",
   "metadata": {},
   "outputs": [
    {
     "name": "stdout",
     "output_type": "stream",
     "text": [
      "\u001b[1m=======================================================\u001b[0m\n",
      "\u001b[1m    01.                01_ingestion/countries.ipynb\u001b[0m\n",
      "\u001b[1m=======================================================\u001b[0m\u001b[0m\n",
      "Variables: {'version': 'test'}\n",
      "\tPath: countries.ipynb\n",
      "\tDuration: 0 days 00:00:00.642910\n",
      "\tEnv: {'version': 'test'}\n",
      "\u001b[1m\u001b[32mNotebook executed successfully.\u001b[0m\n",
      "\n",
      "\n",
      "\u001b[1m=======================================================\u001b[0m\n",
      "\u001b[1m    02.          01_ingestion/world_happiness.ipynb\u001b[0m\n",
      "\u001b[1m=======================================================\u001b[0m\u001b[0m\n",
      "Variables: {'version': 'test'}\n",
      "\tPath: world_happiness.ipynb\n",
      "\tDuration: 0 days 00:00:00.624859\n",
      "\tEnv: {'version': 'test'}\n",
      "\u001b[1m\u001b[32mNotebook executed successfully.\u001b[0m\n",
      "\n",
      "\n",
      "\u001b[1m=======================================================\u001b[0m\n",
      "\u001b[1m    03.          02_formatting/01_format_cols.ipynb\u001b[0m\n",
      "\u001b[1m=======================================================\u001b[0m\u001b[0m\n",
      "Variables: {'version': 'test'}\n",
      "\tPath: 01_format_cols.ipynb\n",
      "\tDuration: 0 days 00:00:00.652314\n",
      "\tEnv: {'version': 'test'}\n",
      "\u001b[1m\u001b[32mNotebook executed successfully.\u001b[0m\n",
      "\n",
      "\n",
      "\u001b[1m=======================================================\u001b[0m\n",
      "\u001b[1m    04.           02_formatting/02_fix_typing.ipynb\u001b[0m\n",
      "\u001b[1m=======================================================\u001b[0m\u001b[0m\n",
      "Variables: {'version': 'test'}\n",
      "\tPath: 02_fix_typing.ipynb\n",
      "\tDuration: 0 days 00:00:00.657638\n",
      "\tEnv: {'version': 'test'}\n",
      "\u001b[1m\u001b[32mNotebook executed successfully.\u001b[0m\n",
      "\n",
      "\n",
      "\u001b[1m=======================================================\u001b[0m\n",
      "\u001b[1m    05.                03_preprocessing/merge.ipynb\u001b[0m\n",
      "\u001b[1m=======================================================\u001b[0m\u001b[0m\n",
      "Variables: {'version': 'test'}\n",
      "\tPath: merge.ipynb\n",
      "\tDuration: 0 days 00:00:00.716908\n",
      "\tEnv: {'version': 'test'}\n",
      "\u001b[1m\u001b[32mNotebook executed successfully.\u001b[0m\n",
      "\n",
      "\n"
     ]
    }
   ],
   "source": [
    "ppl.run(save_notebook=True)"
   ]
  },
  {
   "cell_type": "code",
   "execution_count": null,
   "id": "5851f7efc6fcec88",
   "metadata": {},
   "outputs": [],
   "source": []
  },
  {
   "cell_type": "code",
   "execution_count": null,
   "id": "e8c8a68d-0988-476f-a1c3-c55e29162d0a",
   "metadata": {},
   "outputs": [],
   "source": []
  }
 ],
 "metadata": {
  "kernelspec": {
   "display_name": "python3",
   "language": "python",
   "name": "python3"
  }
 },
 "nbformat": 4,
 "nbformat_minor": 5
}
