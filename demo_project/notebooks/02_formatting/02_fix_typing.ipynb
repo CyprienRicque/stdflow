{
 "cells": [
  {
   "cell_type": "code",
   "execution_count": 1,
   "outputs": [],
   "source": [
    "from __future__ import annotations\n",
    "\n",
    "import os\n",
    "\n",
    "import pandas as pd"
   ],
   "metadata": {
    "collapsed": false,
    "ExecuteTime": {
     "end_time": "2023-09-21T03:59:53.925365Z",
     "start_time": "2023-09-21T03:59:53.587429Z"
    }
   }
  },
  {
   "cell_type": "code",
   "execution_count": 2,
   "metadata": {
    "ExecuteTime": {
     "end_time": "2023-09-21T03:59:54.277300Z",
     "start_time": "2023-09-21T03:59:53.925843Z"
    }
   },
   "outputs": [],
   "source": [
    "import stdflow as sf\n",
    "from stdflow import Step\n",
    "from root import data_root"
   ]
  },
  {
   "cell_type": "code",
   "execution_count": 3,
   "outputs": [],
   "source": [
    "version = sf.var(\"version\", \":default\")\n",
    "# version = \":default\""
   ],
   "metadata": {
    "collapsed": false,
    "ExecuteTime": {
     "end_time": "2023-09-21T03:59:54.277487Z",
     "start_time": "2023-09-21T03:59:54.272593Z"
    }
   }
  },
  {
   "cell_type": "markdown",
   "metadata": {
    "collapsed": false
   },
   "source": [
    "## Formatting"
   ]
  },
  {
   "cell_type": "code",
   "execution_count": 4,
   "outputs": [],
   "source": [
    "def convert_string_numbers(df: pd.DataFrame):\n",
    "    def to_numeric(value):\n",
    "        if isinstance(value, str):\n",
    "            try:\n",
    "                # Convert to integer if possible\n",
    "                return int(value)\n",
    "            except ValueError:\n",
    "                try:\n",
    "                    # Convert to float if possible\n",
    "                    return float(value)\n",
    "                except ValueError:\n",
    "                    # Return the original string if not convertible\n",
    "                    return value\n",
    "        else:\n",
    "            return value\n",
    "\n",
    "    return df.applymap(to_numeric)\n"
   ],
   "metadata": {
    "collapsed": false,
    "ExecuteTime": {
     "end_time": "2023-09-21T03:59:54.285912Z",
     "start_time": "2023-09-21T03:59:54.276570Z"
    }
   }
  },
  {
   "cell_type": "code",
   "execution_count": 5,
   "outputs": [],
   "source": [
    "\n",
    "def fix_typing(attrs: str | list):\n",
    "    # Load\n",
    "    step = Step(root=data_root, attrs=attrs)\n",
    "    df = step.load(step='formatted')\n",
    "    \n",
    "    # Format\n",
    "    convert_string_numbers(df)\n",
    "\n",
    "    # Save \n",
    "    step.save(df, step=\"typing_fixed\", version=version, verbose=True)\n"
   ],
   "metadata": {
    "collapsed": false,
    "ExecuteTime": {
     "end_time": "2023-09-21T03:59:54.286068Z",
     "start_time": "2023-09-21T03:59:54.281666Z"
    }
   }
  },
  {
   "cell_type": "code",
   "execution_count": 6,
   "outputs": [
    {
     "name": "stderr",
     "output_type": "stream",
     "text": [
      "INFO:stdflow.step:Saving data to ../../data/countries/step_typing_fixed/v_202309211159/countries.csv\n",
      "INFO:stdflow.step:Data saved to ../../data/countries/step_typing_fixed/v_202309211159/countries.csv\n",
      "INFO:stdflow.step:Saving metadata to ../../data/countries/step_typing_fixed/v_202309211159/\n",
      "INFO:stdflow.step:Saving data to ../../data/world_happiness/step_typing_fixed/v_202309211159/report_2019.csv\n",
      "INFO:stdflow.step:Data saved to ../../data/world_happiness/step_typing_fixed/v_202309211159/report_2019.csv\n",
      "INFO:stdflow.step:Saving metadata to ../../data/world_happiness/step_typing_fixed/v_202309211159/\n"
     ]
    }
   ],
   "source": [
    "for attrs in ['countries', 'world_happiness']:\n",
    "    fix_typing(attrs)"
   ],
   "metadata": {
    "collapsed": false,
    "ExecuteTime": {
     "end_time": "2023-09-21T03:59:54.432182Z",
     "start_time": "2023-09-21T03:59:54.284839Z"
    }
   }
  },
  {
   "cell_type": "code",
   "execution_count": 6,
   "outputs": [],
   "source": [],
   "metadata": {
    "collapsed": false,
    "ExecuteTime": {
     "end_time": "2023-09-21T03:59:54.432561Z",
     "start_time": "2023-09-21T03:59:54.424995Z"
    }
   }
  },
  {
   "cell_type": "code",
   "execution_count": 6,
   "outputs": [],
   "source": [],
   "metadata": {
    "collapsed": false,
    "ExecuteTime": {
     "end_time": "2023-09-21T03:59:54.432781Z",
     "start_time": "2023-09-21T03:59:54.427899Z"
    }
   }
  },
  {
   "cell_type": "code",
   "execution_count": 6,
   "outputs": [],
   "source": [],
   "metadata": {
    "collapsed": false,
    "ExecuteTime": {
     "end_time": "2023-09-21T03:59:54.433729Z",
     "start_time": "2023-09-21T03:59:54.430528Z"
    }
   }
  },
  {
   "cell_type": "markdown",
   "source": [
    "### Demo Tool"
   ],
   "metadata": {
    "collapsed": false
   }
  },
  {
   "cell_type": "code",
   "execution_count": 7,
   "metadata": {
    "ExecuteTime": {
     "end_time": "2023-09-21T03:59:54.442954Z",
     "start_time": "2023-09-21T03:59:54.433311Z"
    }
   },
   "outputs": [],
   "source": [
    "from stdflow import from_pipeline, StepRunner"
   ]
  },
  {
   "cell_type": "code",
   "execution_count": 8,
   "outputs": [
    {
     "name": "stderr",
     "output_type": "stream",
     "text": [
      "DEBUG:stdflow.environ_manager:setting variables {}\n"
     ]
    },
    {
     "name": "stdout",
     "output_type": "stream",
     "text": [
      "\u001B[1m==========================================\u001B[0m\n",
      "\u001B[1m    __.          ./02_fix_typing.ipynb\u001B[0m\n",
      "\u001B[1m==========================================\u001B[0m\u001B[0m\n",
      "Variables: {}\n",
      "\tPath: 02_fix_typing.ipynb\n",
      "\tDuration: 0 days 00:00:00.712666\n",
      "\tEnv: {}\n",
      "\u001B[1m\u001B[32mNotebook executed successfully.\u001B[0m\n"
     ]
    }
   ],
   "source": [
    "if not from_pipeline():\n",
    "    StepRunner(\"./02_fix_typing.ipynb\").run(verbose=True)\n",
    "    "
   ],
   "metadata": {
    "collapsed": false,
    "ExecuteTime": {
     "end_time": "2023-09-21T03:59:56.418989Z",
     "start_time": "2023-09-21T03:59:54.436427Z"
    }
   }
  },
  {
   "cell_type": "code",
   "execution_count": 8,
   "outputs": [],
   "source": [],
   "metadata": {
    "collapsed": false,
    "ExecuteTime": {
     "end_time": "2023-09-21T03:59:56.421937Z",
     "start_time": "2023-09-21T03:59:56.418334Z"
    }
   }
  }
 ],
 "metadata": {
  "kernelspec": {
   "name": "py37",
   "language": "python",
   "display_name": "py37"
  },
  "language_info": {
   "codemirror_mode": {
    "name": "ipython",
    "version": 3
   },
   "file_extension": ".py",
   "mimetype": "text/x-python",
   "name": "python",
   "nbconvert_exporter": "python",
   "pygments_lexer": "ipython3",
   "version": "3.9.16"
  }
 },
 "nbformat": 4,
 "nbformat_minor": 4
}
