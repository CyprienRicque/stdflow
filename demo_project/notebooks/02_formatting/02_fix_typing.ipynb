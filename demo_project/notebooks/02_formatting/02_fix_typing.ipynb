{
 "cells": [
  {
   "cell_type": "code",
   "execution_count": 1,
   "metadata": {
    "execution": {
     "iopub.execute_input": "2023-09-21T18:05:36.515777Z",
     "iopub.status.busy": "2023-09-21T18:05:36.515154Z",
     "iopub.status.idle": "2023-09-21T18:05:36.774732Z",
     "shell.execute_reply": "2023-09-21T18:05:36.774235Z"
    }
   },
   "outputs": [],
   "source": [
    "from __future__ import annotations\n",
    "\n",
    "import os\n",
    "\n",
    "import pandas as pd"
   ]
  },
  {
   "cell_type": "code",
   "execution_count": 2,
   "metadata": {
    "execution": {
     "iopub.execute_input": "2023-09-21T18:05:36.777887Z",
     "iopub.status.busy": "2023-09-21T18:05:36.777553Z",
     "iopub.status.idle": "2023-09-21T18:05:37.047750Z",
     "shell.execute_reply": "2023-09-21T18:05:37.047326Z"
    }
   },
   "outputs": [],
   "source": [
    "import stdflow as sf\n",
    "from stdflow import Step\n",
    "from root import data_root"
   ]
  },
  {
   "cell_type": "markdown",
   "metadata": {},
   "source": [
    "## Formatting"
   ]
  },
  {
   "cell_type": "code",
   "execution_count": 3,
   "metadata": {
    "execution": {
     "iopub.execute_input": "2023-09-21T18:05:37.050622Z",
     "iopub.status.busy": "2023-09-21T18:05:37.050409Z",
     "iopub.status.idle": "2023-09-21T18:05:37.053947Z",
     "shell.execute_reply": "2023-09-21T18:05:37.053516Z"
    }
   },
   "outputs": [],
   "source": [
    "def convert_string_numbers(df: pd.DataFrame):\n",
    "    def to_numeric(value):\n",
    "        if isinstance(value, str):\n",
    "            try:\n",
    "                # Convert to integer if possible\n",
    "                return int(value)\n",
    "            except ValueError:\n",
    "                try:\n",
    "                    # Convert to float if possible\n",
    "                    return float(value)\n",
    "                except ValueError:\n",
    "                    # Return the original string if not convertible\n",
    "                    return value\n",
    "        else:\n",
    "            return value\n",
    "\n",
    "    return df.applymap(to_numeric)\n"
   ]
  },
  {
   "cell_type": "code",
   "execution_count": 4,
   "metadata": {
    "execution": {
     "iopub.execute_input": "2023-09-21T18:05:37.056105Z",
     "iopub.status.busy": "2023-09-21T18:05:37.055946Z",
     "iopub.status.idle": "2023-09-21T18:05:37.059160Z",
     "shell.execute_reply": "2023-09-21T18:05:37.058796Z"
    }
   },
   "outputs": [],
   "source": [
    "\n",
    "def fix_typing(attrs: str | list):\n",
    "    # Load\n",
    "    step = Step(root=data_root, attrs=attrs)\n",
    "    step.version = step.var(\"version\", \":default\")\n",
    "    df = step.load(step='formatted', verbose=True)\n",
    "    \n",
    "    # Format\n",
    "    convert_string_numbers(df)\n",
    "\n",
    "    # Save \n",
    "    step.save(df, step=\"typing_fixed\", verbose=True, index=False)\n"
   ]
  },
  {
   "cell_type": "code",
   "execution_count": 5,
   "metadata": {
    "execution": {
     "iopub.execute_input": "2023-09-21T18:05:37.061280Z",
     "iopub.status.busy": "2023-09-21T18:05:37.061124Z",
     "iopub.status.idle": "2023-09-21T18:05:37.186281Z",
     "shell.execute_reply": "2023-09-21T18:05:37.185928Z"
    }
   },
   "outputs": [
    {
     "name": "stderr",
     "output_type": "stream",
     "text": [
      "INFO:stdflow.step:Loading data from ../../data/countries/step_formatted/v_ppl/countries.csv\n"
     ]
    },
    {
     "name": "stderr",
     "output_type": "stream",
     "text": [
      "INFO:stdflow.step:Data loaded from ../../data/countries/step_formatted/v_ppl/countries.csv\n"
     ]
    },
    {
     "name": "stderr",
     "output_type": "stream",
     "text": [
      "INFO:stdflow.step:Saving data to ../../data/countries/step_typing_fixed/v_ppl/countries.csv\n"
     ]
    },
    {
     "name": "stderr",
     "output_type": "stream",
     "text": [
      "INFO:stdflow.step:Data saved to ../../data/countries/step_typing_fixed/v_ppl/countries.csv\n"
     ]
    },
    {
     "name": "stderr",
     "output_type": "stream",
     "text": [
      "INFO:stdflow.step:Saving metadata to ../../data/countries/step_typing_fixed/v_ppl/\n"
     ]
    },
    {
     "name": "stderr",
     "output_type": "stream",
     "text": [
      "INFO:stdflow.step:Loading data from ../../data/world_happiness/step_formatted/v_ppl/report_2019.csv\n"
     ]
    },
    {
     "name": "stderr",
     "output_type": "stream",
     "text": [
      "INFO:stdflow.step:Data loaded from ../../data/world_happiness/step_formatted/v_ppl/report_2019.csv\n"
     ]
    },
    {
     "name": "stderr",
     "output_type": "stream",
     "text": [
      "INFO:stdflow.step:Saving data to ../../data/world_happiness/step_typing_fixed/v_ppl/report_2019.csv\n"
     ]
    },
    {
     "name": "stderr",
     "output_type": "stream",
     "text": [
      "INFO:stdflow.step:Data saved to ../../data/world_happiness/step_typing_fixed/v_ppl/report_2019.csv\n"
     ]
    },
    {
     "name": "stderr",
     "output_type": "stream",
     "text": [
      "INFO:stdflow.step:Saving metadata to ../../data/world_happiness/step_typing_fixed/v_ppl/\n"
     ]
    }
   ],
   "source": [
    "for attrs in ['countries', 'world_happiness']:\n",
    "    fix_typing(attrs)"
   ]
  },
  {
   "cell_type": "code",
   "execution_count": null,
   "metadata": {},
   "outputs": [],
   "source": []
  },
  {
   "cell_type": "code",
   "execution_count": null,
   "metadata": {},
   "outputs": [],
   "source": []
  },
  {
   "cell_type": "code",
   "execution_count": null,
   "metadata": {},
   "outputs": [],
   "source": []
  },
  {
   "cell_type": "markdown",
   "metadata": {},
   "source": [
    "### Demo Tool"
   ]
  },
  {
   "cell_type": "code",
   "execution_count": 6,
   "metadata": {
    "execution": {
     "iopub.execute_input": "2023-09-21T18:05:37.188840Z",
     "iopub.status.busy": "2023-09-21T18:05:37.188678Z",
     "iopub.status.idle": "2023-09-21T18:05:37.190901Z",
     "shell.execute_reply": "2023-09-21T18:05:37.190569Z"
    }
   },
   "outputs": [],
   "source": [
    "from stdflow import from_pipeline, StepRunner"
   ]
  },
  {
   "cell_type": "code",
   "execution_count": 7,
   "metadata": {
    "execution": {
     "iopub.execute_input": "2023-09-21T18:05:37.192915Z",
     "iopub.status.busy": "2023-09-21T18:05:37.192755Z",
     "iopub.status.idle": "2023-09-21T18:05:37.195003Z",
     "shell.execute_reply": "2023-09-21T18:05:37.194644Z"
    }
   },
   "outputs": [],
   "source": [
    "if not from_pipeline():\n",
    "    StepRunner(\"./02_fix_typing.ipynb\").run(verbose=True)\n",
    "    "
   ]
  },
  {
   "cell_type": "code",
   "execution_count": null,
   "metadata": {},
   "outputs": [],
   "source": []
  }
 ],
 "metadata": {
  "kernelspec": {
   "display_name": "py37",
   "language": "python",
   "name": "py37"
  },
  "language_info": {
   "codemirror_mode": {
    "name": "ipython",
    "version": 3
   },
   "file_extension": ".py",
   "mimetype": "text/x-python",
   "name": "python",
   "nbconvert_exporter": "python",
   "pygments_lexer": "ipython3",
   "version": "3.7.16"
  }
 },
 "nbformat": 4,
 "nbformat_minor": 4
}
