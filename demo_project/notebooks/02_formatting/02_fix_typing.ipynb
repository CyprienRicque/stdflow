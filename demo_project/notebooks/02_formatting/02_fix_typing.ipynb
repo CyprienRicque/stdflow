{
 "cells": [
  {
   "cell_type": "code",
   "execution_count": 1,
   "metadata": {
    "execution": {
     "iopub.execute_input": "2023-09-22T02:18:04.004005Z",
     "iopub.status.busy": "2023-09-22T02:18:04.003183Z",
     "iopub.status.idle": "2023-09-22T02:18:04.251286Z",
     "shell.execute_reply": "2023-09-22T02:18:04.250760Z"
    }
   },
   "outputs": [],
   "source": [
    "from __future__ import annotations\n",
    "\n",
    "import os\n",
    "\n",
    "import pandas as pd"
   ]
  },
  {
   "cell_type": "code",
   "execution_count": 2,
   "metadata": {
    "execution": {
     "iopub.execute_input": "2023-09-22T02:18:04.254337Z",
     "iopub.status.busy": "2023-09-22T02:18:04.254130Z",
     "iopub.status.idle": "2023-09-22T02:18:04.512255Z",
     "shell.execute_reply": "2023-09-22T02:18:04.511743Z"
    }
   },
   "outputs": [],
   "source": [
    "import stdflow as sf\n",
    "from stdflow import Step\n",
    "from root import data_root"
   ]
  },
  {
   "cell_type": "markdown",
   "metadata": {},
   "source": [
    "## Formatting"
   ]
  },
  {
   "cell_type": "code",
   "execution_count": 3,
   "metadata": {
    "execution": {
     "iopub.execute_input": "2023-09-22T02:18:04.515155Z",
     "iopub.status.busy": "2023-09-22T02:18:04.514949Z",
     "iopub.status.idle": "2023-09-22T02:18:04.518401Z",
     "shell.execute_reply": "2023-09-22T02:18:04.517991Z"
    }
   },
   "outputs": [],
   "source": [
    "def convert_string_numbers(df: pd.DataFrame):\n",
    "    def to_numeric(value):\n",
    "        if isinstance(value, str):\n",
    "            try:\n",
    "                # Convert to integer if possible\n",
    "                return int(value)\n",
    "            except ValueError:\n",
    "                try:\n",
    "                    # Convert to float if possible\n",
    "                    return float(value)\n",
    "                except ValueError:\n",
    "                    # Return the original string if not convertible\n",
    "                    return value\n",
    "        else:\n",
    "            return value\n",
    "\n",
    "    return df.applymap(to_numeric)\n"
   ]
  },
  {
   "cell_type": "code",
   "execution_count": 4,
   "metadata": {
    "execution": {
     "iopub.execute_input": "2023-09-22T02:18:04.520694Z",
     "iopub.status.busy": "2023-09-22T02:18:04.520570Z",
     "iopub.status.idle": "2023-09-22T02:18:04.523706Z",
     "shell.execute_reply": "2023-09-22T02:18:04.523292Z"
    }
   },
   "outputs": [],
   "source": [
    "\n",
    "def fix_typing(attrs: str | list):\n",
    "    # Load\n",
    "    step = Step(root=data_root, attrs=attrs)\n",
    "    step.version = step.var(\"version\", \":default\")\n",
    "    df = step.load(step='formatted', verbose=True)\n",
    "    \n",
    "    # Format\n",
    "    convert_string_numbers(df)\n",
    "\n",
    "    # Save \n",
    "    step.save(df, step=\"typing_fixed\", verbose=True, index=False)\n"
   ]
  },
  {
   "cell_type": "code",
   "execution_count": 5,
   "metadata": {
    "execution": {
     "iopub.execute_input": "2023-09-22T02:18:04.525795Z",
     "iopub.status.busy": "2023-09-22T02:18:04.525641Z",
     "iopub.status.idle": "2023-09-22T02:18:04.652116Z",
     "shell.execute_reply": "2023-09-22T02:18:04.651761Z"
    }
   },
   "outputs": [
    {
     "name": "stderr",
     "output_type": "stream",
     "text": [
      "INFO:stdflow.step:Loading data from ../../data/countries/step_formatted/v_test/countries.csv\n"
     ]
    },
    {
     "name": "stderr",
     "output_type": "stream",
     "text": [
      "INFO:stdflow.step:Data loaded from ../../data/countries/step_formatted/v_test/countries.csv\n"
     ]
    },
    {
     "name": "stderr",
     "output_type": "stream",
     "text": [
      "INFO:stdflow.step:Saving data to ../../data/countries/step_typing_fixed/v_test/countries.csv\n"
     ]
    },
    {
     "name": "stderr",
     "output_type": "stream",
     "text": [
      "INFO:stdflow.step:Data saved to ../../data/countries/step_typing_fixed/v_test/countries.csv\n"
     ]
    },
    {
     "name": "stderr",
     "output_type": "stream",
     "text": [
      "INFO:stdflow.step:Saving metadata to ../../data/countries/step_typing_fixed/v_test/\n"
     ]
    },
    {
     "name": "stderr",
     "output_type": "stream",
     "text": [
      "INFO:stdflow.step:Loading data from ../../data/world_happiness/step_formatted/v_test/report_2019.csv\n"
     ]
    },
    {
     "name": "stderr",
     "output_type": "stream",
     "text": [
      "INFO:stdflow.step:Data loaded from ../../data/world_happiness/step_formatted/v_test/report_2019.csv\n"
     ]
    },
    {
     "name": "stderr",
     "output_type": "stream",
     "text": [
      "INFO:stdflow.step:Saving data to ../../data/world_happiness/step_typing_fixed/v_test/report_2019.csv\n"
     ]
    },
    {
     "name": "stderr",
     "output_type": "stream",
     "text": [
      "INFO:stdflow.step:Data saved to ../../data/world_happiness/step_typing_fixed/v_test/report_2019.csv\n"
     ]
    },
    {
     "name": "stderr",
     "output_type": "stream",
     "text": [
      "INFO:stdflow.step:Saving metadata to ../../data/world_happiness/step_typing_fixed/v_test/\n"
     ]
    }
   ],
   "source": [
    "for attrs in ['countries', 'world_happiness']:\n",
    "    fix_typing(attrs)"
   ]
  },
  {
   "cell_type": "code",
   "execution_count": null,
   "metadata": {},
   "outputs": [],
   "source": []
  },
  {
   "cell_type": "code",
   "execution_count": null,
   "metadata": {},
   "outputs": [],
   "source": []
  },
  {
   "cell_type": "code",
   "execution_count": null,
   "metadata": {},
   "outputs": [],
   "source": []
  },
  {
   "cell_type": "markdown",
   "metadata": {},
   "source": [
    "### Demo Tool"
   ]
  },
  {
   "cell_type": "code",
   "execution_count": 6,
   "metadata": {
    "execution": {
     "iopub.execute_input": "2023-09-22T02:18:04.654677Z",
     "iopub.status.busy": "2023-09-22T02:18:04.654523Z",
     "iopub.status.idle": "2023-09-22T02:18:04.656763Z",
     "shell.execute_reply": "2023-09-22T02:18:04.656423Z"
    }
   },
   "outputs": [],
   "source": [
    "from stdflow import from_pipeline, StepRunner"
   ]
  },
  {
   "cell_type": "code",
   "execution_count": 7,
   "metadata": {
    "execution": {
     "iopub.execute_input": "2023-09-22T02:18:04.658772Z",
     "iopub.status.busy": "2023-09-22T02:18:04.658629Z",
     "iopub.status.idle": "2023-09-22T02:18:04.660821Z",
     "shell.execute_reply": "2023-09-22T02:18:04.660481Z"
    }
   },
   "outputs": [],
   "source": [
    "if not from_pipeline():\n",
    "    StepRunner(\"./02_fix_typing.ipynb\").run(verbose=True)\n",
    "    "
   ]
  },
  {
   "cell_type": "code",
   "execution_count": null,
   "metadata": {},
   "outputs": [],
   "source": []
  }
 ],
 "metadata": {
  "kernelspec": {
   "display_name": "py37",
   "language": "python",
   "name": "py37"
  },
  "language_info": {
   "codemirror_mode": {
    "name": "ipython",
    "version": 3
   },
   "file_extension": ".py",
   "mimetype": "text/x-python",
   "name": "python",
   "nbconvert_exporter": "python",
   "pygments_lexer": "ipython3",
   "version": "3.7.16"
  }
 },
 "nbformat": 4,
 "nbformat_minor": 4
}
