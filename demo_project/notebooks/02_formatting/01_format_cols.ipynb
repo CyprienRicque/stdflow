{
 "cells": [
  {
   "cell_type": "code",
   "execution_count": 1,
   "metadata": {
    "execution": {
     "iopub.execute_input": "2023-09-21T18:05:34.839728Z",
     "iopub.status.busy": "2023-09-21T18:05:34.838867Z",
     "iopub.status.idle": "2023-09-21T18:05:35.099824Z",
     "shell.execute_reply": "2023-09-21T18:05:35.099130Z"
    }
   },
   "outputs": [],
   "source": [
    "from __future__ import annotations\n",
    "\n",
    "import pandas as pd"
   ]
  },
  {
   "cell_type": "code",
   "execution_count": 2,
   "metadata": {
    "execution": {
     "iopub.execute_input": "2023-09-21T18:05:35.105913Z",
     "iopub.status.busy": "2023-09-21T18:05:35.105584Z",
     "iopub.status.idle": "2023-09-21T18:05:35.389563Z",
     "shell.execute_reply": "2023-09-21T18:05:35.388940Z"
    }
   },
   "outputs": [],
   "source": [
    "from stdflow import Step\n",
    "from root import data_root"
   ]
  },
  {
   "cell_type": "markdown",
   "metadata": {},
   "source": [
    "## Formatting"
   ]
  },
  {
   "cell_type": "code",
   "execution_count": 3,
   "metadata": {
    "execution": {
     "iopub.execute_input": "2023-09-21T18:05:35.393352Z",
     "iopub.status.busy": "2023-09-21T18:05:35.392954Z",
     "iopub.status.idle": "2023-09-21T18:05:35.398406Z",
     "shell.execute_reply": "2023-09-21T18:05:35.397891Z"
    }
   },
   "outputs": [],
   "source": [
    "def rename_columns(df: pd.DataFrame):\n",
    "    \n",
    "    for col in df.columns:\n",
    "        # rename columns that contains \" (%)\" with \"_percent\"\n",
    "        if \" (%)\" in col:\n",
    "            df.rename(columns={col: col.replace(\" (%)\", \"_percent\")}, inplace=True)\n",
    "        if \" (per 1000)\" in col:\n",
    "            df.rename(columns={col: col.replace(\" (per 1000)\", \"_per_1000\")}, inplace=True)\n",
    "        if \" (sq. mi.)\" in col:\n",
    "            df.rename(columns={col: col.replace(\" (sq. mi.)\", \"_sq_mi\")}, inplace=True)\n",
    "        if \" ($ per capita)\" in col:\n",
    "            df.rename(columns={col: col.replace(\" ($ per capita)\", \"_per_capita\")}, inplace=True)\n",
    "        if \" (per sq. mi.)\" in col:\n",
    "            df.rename(columns={col: col.replace(\" (per sq. mi.)\", \"_per_sq_mi\")}, inplace=True)\n",
    "        if \" (coast/area ratio)\" in col:\n",
    "            df.rename(columns={col: col.replace(\" (coast/area ratio)\", \"_coast_area_ratio\")}, inplace=True)\n",
    "        if \" (per 1000 births)\" in col:\n",
    "            df.rename(columns={col: col.replace(\" (per 1000 births)\", \"_per_1000_births\")}, inplace=True)\n",
    "\n",
    "\n"
   ]
  },
  {
   "cell_type": "code",
   "execution_count": 4,
   "metadata": {
    "execution": {
     "iopub.execute_input": "2023-09-21T18:05:35.400799Z",
     "iopub.status.busy": "2023-09-21T18:05:35.400629Z",
     "iopub.status.idle": "2023-09-21T18:05:35.405008Z",
     "shell.execute_reply": "2023-09-21T18:05:35.404277Z"
    }
   },
   "outputs": [],
   "source": [
    "\n",
    "def format_cols(attrs: str | list):\n",
    "    # Load\n",
    "    step = Step(root=data_root, attrs=attrs)\n",
    "    step.version = step.var(\"version\", \"ppl\")\n",
    "    df = step.load(step='loaded', verbose=True)\n",
    "    \n",
    "    # Format\n",
    "    rename_columns(df)\n",
    "\n",
    "    df.columns = [col.lower() for col in df.columns]\n",
    "   \n",
    "    # Save \n",
    "    step.save(df, step=\"formatted\", verbose=True, index=False)\n",
    "\n"
   ]
  },
  {
   "cell_type": "code",
   "execution_count": 5,
   "metadata": {
    "execution": {
     "iopub.execute_input": "2023-09-21T18:05:35.408175Z",
     "iopub.status.busy": "2023-09-21T18:05:35.407900Z",
     "iopub.status.idle": "2023-09-21T18:05:35.547899Z",
     "shell.execute_reply": "2023-09-21T18:05:35.547404Z"
    }
   },
   "outputs": [
    {
     "name": "stderr",
     "output_type": "stream",
     "text": [
      "INFO:stdflow.step:Loading data from ../../data/countries/step_loaded/v_ppl/countries.csv\n"
     ]
    },
    {
     "name": "stderr",
     "output_type": "stream",
     "text": [
      "INFO:stdflow.step:Data loaded from ../../data/countries/step_loaded/v_ppl/countries.csv\n"
     ]
    },
    {
     "name": "stderr",
     "output_type": "stream",
     "text": [
      "INFO:stdflow.step:Saving data to ../../data/countries/step_formatted/v_ppl/countries.csv\n"
     ]
    },
    {
     "name": "stderr",
     "output_type": "stream",
     "text": [
      "INFO:stdflow.step:Data saved to ../../data/countries/step_formatted/v_ppl/countries.csv\n"
     ]
    },
    {
     "name": "stderr",
     "output_type": "stream",
     "text": [
      "INFO:stdflow.step:Saving metadata to ../../data/countries/step_formatted/v_ppl/\n"
     ]
    },
    {
     "name": "stderr",
     "output_type": "stream",
     "text": [
      "INFO:stdflow.step:Loading data from ../../data/world_happiness/step_loaded/v_ppl/report_2019.csv\n"
     ]
    },
    {
     "name": "stderr",
     "output_type": "stream",
     "text": [
      "INFO:stdflow.step:Data loaded from ../../data/world_happiness/step_loaded/v_ppl/report_2019.csv\n"
     ]
    },
    {
     "name": "stderr",
     "output_type": "stream",
     "text": [
      "INFO:stdflow.step:Saving data to ../../data/world_happiness/step_formatted/v_ppl/report_2019.csv\n"
     ]
    },
    {
     "name": "stderr",
     "output_type": "stream",
     "text": [
      "INFO:stdflow.step:Data saved to ../../data/world_happiness/step_formatted/v_ppl/report_2019.csv\n"
     ]
    },
    {
     "name": "stderr",
     "output_type": "stream",
     "text": [
      "INFO:stdflow.step:Saving metadata to ../../data/world_happiness/step_formatted/v_ppl/\n"
     ]
    }
   ],
   "source": [
    "for attrs in ['countries', 'world_happiness']:\n",
    "    format_cols(attrs)"
   ]
  },
  {
   "cell_type": "code",
   "execution_count": null,
   "metadata": {},
   "outputs": [],
   "source": []
  },
  {
   "cell_type": "code",
   "execution_count": null,
   "metadata": {},
   "outputs": [],
   "source": []
  }
 ],
 "metadata": {
  "kernelspec": {
   "display_name": "py37",
   "language": "python",
   "name": "py37"
  },
  "language_info": {
   "codemirror_mode": {
    "name": "ipython",
    "version": 3
   },
   "file_extension": ".py",
   "mimetype": "text/x-python",
   "name": "python",
   "nbconvert_exporter": "python",
   "pygments_lexer": "ipython3",
   "version": "3.7.16"
  }
 },
 "nbformat": 4,
 "nbformat_minor": 4
}
