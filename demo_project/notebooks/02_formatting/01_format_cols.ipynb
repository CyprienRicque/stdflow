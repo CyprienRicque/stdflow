{
 "cells": [
  {
   "cell_type": "code",
   "execution_count": 1,
   "outputs": [],
   "source": [
    "from __future__ import annotations\n",
    "\n",
    "import pandas as pd"
   ],
   "metadata": {
    "collapsed": false,
    "ExecuteTime": {
     "end_time": "2023-09-21T02:54:45.114173Z",
     "start_time": "2023-09-21T02:54:44.799752Z"
    }
   }
  },
  {
   "cell_type": "code",
   "execution_count": 2,
   "metadata": {
    "ExecuteTime": {
     "end_time": "2023-09-21T02:54:45.470634Z",
     "start_time": "2023-09-21T02:54:45.115308Z"
    }
   },
   "outputs": [],
   "source": [
    "from stdflow import Step\n",
    "from root import data_root"
   ]
  },
  {
   "cell_type": "markdown",
   "metadata": {
    "collapsed": false
   },
   "source": [
    "## Formatting"
   ]
  },
  {
   "cell_type": "code",
   "execution_count": 3,
   "outputs": [],
   "source": [
    "def rename_columns(df: pd.DataFrame):\n",
    "    \n",
    "    for col in df.columns:\n",
    "        # rename columns that contains \" (%)\" with \"_percent\"\n",
    "        if \" (%)\" in col:\n",
    "            df.rename(columns={col: col.replace(\" (%)\", \"_percent\")}, inplace=True)\n",
    "        if \" (per 1000)\" in col:\n",
    "            df.rename(columns={col: col.replace(\" (per 1000)\", \"_per_1000\")}, inplace=True)\n",
    "        if \" (sq. mi.)\" in col:\n",
    "            df.rename(columns={col: col.replace(\" (sq. mi.)\", \"_sq_mi\")}, inplace=True)\n",
    "        if \" ($ per capita)\" in col:\n",
    "            df.rename(columns={col: col.replace(\" ($ per capita)\", \"_per_capita\")}, inplace=True)\n",
    "        if \" (per sq. mi.)\" in col:\n",
    "            df.rename(columns={col: col.replace(\" (per sq. mi.)\", \"_per_sq_mi\")}, inplace=True)\n",
    "        if \" (coast/area ratio)\" in col:\n",
    "            df.rename(columns={col: col.replace(\" (coast/area ratio)\", \"_coast_area_ratio\")}, inplace=True)\n",
    "        if \" (per 1000 births)\" in col:\n",
    "            df.rename(columns={col: col.replace(\" (per 1000 births)\", \"_per_1000_births\")}, inplace=True)\n",
    "\n",
    "\n"
   ],
   "metadata": {
    "collapsed": false,
    "ExecuteTime": {
     "end_time": "2023-09-21T02:54:46.315509Z",
     "start_time": "2023-09-21T02:54:46.308714Z"
    }
   }
  },
  {
   "cell_type": "code",
   "execution_count": 6,
   "outputs": [],
   "source": [
    "\n",
    "def format_cols(attrs: str | list):\n",
    "    # Load\n",
    "    step = Step(root=data_root, attrs=attrs)\n",
    "    df = step.load(step='loaded')\n",
    "    \n",
    "    # Format\n",
    "    rename_columns(df)\n",
    "\n",
    "    df.columns = [col.lower() for col in df.columns]\n",
    "   \n",
    "    # Save \n",
    "    step.save(df, step=\"formatted\")\n",
    "\n"
   ],
   "metadata": {
    "collapsed": false,
    "ExecuteTime": {
     "end_time": "2023-09-21T02:55:08.848458Z",
     "start_time": "2023-09-21T02:55:08.841479Z"
    }
   }
  },
  {
   "cell_type": "code",
   "execution_count": 7,
   "outputs": [],
   "source": [
    "for attrs in ['countries', 'world_happiness']:\n",
    "    format_cols(attrs)"
   ],
   "metadata": {
    "collapsed": false,
    "ExecuteTime": {
     "end_time": "2023-09-21T02:55:09.220144Z",
     "start_time": "2023-09-21T02:55:09.176221Z"
    }
   }
  },
  {
   "cell_type": "code",
   "execution_count": null,
   "metadata": {
    "ExecuteTime": {
     "start_time": "2023-09-21T02:30:03.161793Z"
    }
   },
   "outputs": [],
   "source": []
  },
  {
   "cell_type": "code",
   "execution_count": null,
   "outputs": [],
   "source": [],
   "metadata": {
    "collapsed": false,
    "ExecuteTime": {
     "start_time": "2023-09-21T02:30:03.162999Z"
    }
   }
  }
 ],
 "metadata": {
  "kernelspec": {
   "name": "py37",
   "language": "python",
   "display_name": "py37"
  },
  "language_info": {
   "codemirror_mode": {
    "name": "ipython",
    "version": 3
   },
   "file_extension": ".py",
   "mimetype": "text/x-python",
   "name": "python",
   "nbconvert_exporter": "python",
   "pygments_lexer": "ipython3",
   "version": "3.9.16"
  }
 },
 "nbformat": 4,
 "nbformat_minor": 4
}
