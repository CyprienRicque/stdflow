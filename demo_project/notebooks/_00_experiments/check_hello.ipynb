{
 "cells": [
  {
   "cell_type": "code",
   "execution_count": 1,
   "id": "initial_id",
   "metadata": {
    "collapsed": true,
    "ExecuteTime": {
     "end_time": "2023-09-21T04:15:27.565502Z",
     "start_time": "2023-09-21T04:15:27.561574Z"
    }
   },
   "outputs": [],
   "source": [
    "import os"
   ]
  },
  {
   "cell_type": "code",
   "execution_count": 2,
   "outputs": [
    {
     "name": "stdout",
     "output_type": "stream",
     "text": [
      "environ({'PATH': '/Users/cyprien/nvim-macos/bin:/Users/cyprien/.bun/bin:/opt/homebrew/opt/mysql-client/bin:/Users/cyprien/miniconda3_py37/bin:/Users/cyprien/miniconda3/condabin:/Users/cyprien/.amplify/bin:/opt/local/bin:/opt/local/sbin:/opt/homebrew/bin:/opt/homebrew/sbin:/usr/local/bin:/System/Cryptexes/App/usr/bin:/usr/bin:/bin:/usr/sbin:/sbin:/Library/Apple/usr/bin:/Applications/quarto/bin:/var/run/com.apple.security.cryptexd/codex.system/bootstrap/usr/local/bin:/var/run/com.apple.security.cryptexd/codex.system/bootstrap/usr/bin:/var/run/com.apple.security.cryptexd/codex.system/bootstrap/usr/appleinternal/bin:/opt/homebrew/opt/openjdk@17/bin:/Users/cyprien/Library/Application Support/JetBrains/Toolbox/scripts:/Users/cyprien/Library/Python/3.9/bin', 'MANPATH': '/opt/local/share/man:/opt/homebrew/share/man::', 'CONDA_DEFAULT_ENV': 'base', 'CONDA_EXE': '/Users/cyprien/miniconda3/bin/conda', 'JAVA_HOME': '/opt/homebrew/opt/openjdk@17', 'CONDA_PYTHON_EXE': '/Users/cyprien/miniconda3/bin/python', 'HOMEBREW_PREFIX': '/opt/homebrew', 'LANG': 'en_US.UTF-8', 'VIRTUAL_ENV_DISABLE_PROMPT': '1', 'COMMAND_MODE': 'unix2003', 'CONDA_PREFIX': '/Users/cyprien/miniconda3_py37', '_CE_M': '', 'LOGNAME': 'cyprien', 'HOMEBREW_REPOSITORY': '/opt/homebrew', 'XPC_SERVICE_NAME': 'application.com.jetbrains.pycharm.38239526.38248689', 'PWD': '/Users/cyprien/Documents/artefact/stdflow', 'INFOPATH': '/opt/homebrew/share/info:', 'CONDA_SHLVL': '2', '__CFBundleIdentifier': 'com.jetbrains.pycharm', 'LANGUAGE': '', 'PYTHONPATH': '/Users/cyprien/Documents/artefact/stdflow:/Users/cyprien/Documents/artefact/stdflow/stdflow:/Users/cyprien/Documents/artefact/stdflow/tests', 'SHELL': '/bin/zsh', 'PAGER': 'cat', 'LSCOLORS': 'Gxfxcxdxbxegedabagacad', 'OLDPWD': '/', 'HOMEBREW_CELLAR': '/opt/homebrew/Cellar', 'USER': 'cyprien', 'BUN_INSTALL': '/Users/cyprien/.bun', 'ZSH': '/Users/cyprien/.oh-my-zsh', 'TMPDIR': '/var/folders/vx/nb16bg2j51n_8nts6_s9_l540000gn/T/', 'SSH_AUTH_SOCK': '/private/tmp/com.apple.launchd.wWxLSopT5Y/Listeners', '_CE_CONDA': '', 'XPC_FLAGS': '0x0', 'LC_ALL': 'en_US.UTF-8', '__CF_USER_TEXT_ENCODING': '0x1F5:0x0:0x1', 'CONDA_PROMPT_MODIFIER': '(base) ', 'LESS': '-R', 'LC_CTYPE': 'en_US.UTF-8', 'LS_COLORS': 'di=1;36:ln=35:so=32:pi=33:ex=31:bd=34;46:cd=34;43:su=30;41:sg=30;46:tw=30;42:ow=30;43', 'HOME': '/Users/cyprien', 'PYDEVD_USE_FRAME_EVAL': 'NO', 'JPY_PARENT_PID': '21486', 'TERM': 'xterm-color', 'CLICOLOR': '1', 'GIT_PAGER': 'cat', 'MPLBACKEND': 'module://matplotlib_inline.backend_inline'})\n"
     ]
    }
   ],
   "source": [
    "print(os.environ)"
   ],
   "metadata": {
    "collapsed": false,
    "ExecuteTime": {
     "end_time": "2023-09-21T04:15:27.571142Z",
     "start_time": "2023-09-21T04:15:27.567407Z"
    }
   },
   "id": "e5e3177308b80bca"
  },
  {
   "cell_type": "code",
   "execution_count": 3,
   "outputs": [],
   "source": [
    "from stdflow import from_pipeline\n",
    "import stdflow as sf\n",
    "\n",
    "\n",
    "if from_pipeline():\n",
    "    assert sf.var(\"hello\", \"no\") == \"world!\" "
   ],
   "metadata": {
    "collapsed": false,
    "ExecuteTime": {
     "end_time": "2023-09-21T04:15:28.190559Z",
     "start_time": "2023-09-21T04:15:27.571912Z"
    }
   },
   "id": "e67c8b6edf8642ff"
  },
  {
   "cell_type": "code",
   "execution_count": 3,
   "outputs": [],
   "source": [],
   "metadata": {
    "collapsed": false,
    "ExecuteTime": {
     "end_time": "2023-09-21T04:15:28.193956Z",
     "start_time": "2023-09-21T04:15:28.190794Z"
    }
   },
   "id": "3f6ddf161df4e228"
  },
  {
   "cell_type": "code",
   "execution_count": 3,
   "outputs": [],
   "source": [],
   "metadata": {
    "collapsed": false,
    "ExecuteTime": {
     "end_time": "2023-09-21T04:15:28.196829Z",
     "start_time": "2023-09-21T04:15:28.194650Z"
    }
   },
   "id": "d2216724bbbd3c4c"
  }
 ],
 "metadata": {
  "kernelspec": {
   "display_name": "Python 3",
   "language": "python",
   "name": "python3"
  },
  "language_info": {
   "codemirror_mode": {
    "name": "ipython",
    "version": 2
   },
   "file_extension": ".py",
   "mimetype": "text/x-python",
   "name": "python",
   "nbconvert_exporter": "python",
   "pygments_lexer": "ipython2",
   "version": "2.7.6"
  }
 },
 "nbformat": 4,
 "nbformat_minor": 5
}
