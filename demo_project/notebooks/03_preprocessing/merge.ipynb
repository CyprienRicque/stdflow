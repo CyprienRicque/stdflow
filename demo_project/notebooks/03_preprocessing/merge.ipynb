{
 "cells": [
  {
   "cell_type": "code",
   "execution_count": 1,
   "id": "110698354e06448b",
   "metadata": {
    "execution": {
     "iopub.execute_input": "2023-09-22T02:18:05.907703Z",
     "iopub.status.busy": "2023-09-22T02:18:05.906871Z",
     "iopub.status.idle": "2023-09-22T02:18:06.175543Z",
     "shell.execute_reply": "2023-09-22T02:18:06.174926Z"
    }
   },
   "outputs": [],
   "source": [
    "from __future__ import annotations\n",
    "\n",
    "import pandas as pd"
   ]
  },
  {
   "cell_type": "code",
   "execution_count": 2,
   "id": "16c66ce2d8b1e440",
   "metadata": {
    "execution": {
     "iopub.execute_input": "2023-09-22T02:18:06.179529Z",
     "iopub.status.busy": "2023-09-22T02:18:06.179102Z",
     "iopub.status.idle": "2023-09-22T02:18:06.450305Z",
     "shell.execute_reply": "2023-09-22T02:18:06.449830Z"
    }
   },
   "outputs": [],
   "source": [
    "import stdflow as sf\n",
    "from root import data_root"
   ]
  },
  {
   "cell_type": "code",
   "execution_count": 3,
   "id": "4e4070bde05f7d9f",
   "metadata": {
    "execution": {
     "iopub.execute_input": "2023-09-22T02:18:06.453288Z",
     "iopub.status.busy": "2023-09-22T02:18:06.452952Z",
     "iopub.status.idle": "2023-09-22T02:18:06.567392Z",
     "shell.execute_reply": "2023-09-22T02:18:06.566898Z"
    }
   },
   "outputs": [
    {
     "name": "stderr",
     "output_type": "stream",
     "text": [
      "INFO:stdflow.step:Loading data from ../../data/countries/step_typing_fixed/v_test/countries.csv\n"
     ]
    },
    {
     "name": "stderr",
     "output_type": "stream",
     "text": [
      "INFO:stdflow.step:Data loaded from ../../data/countries/step_typing_fixed/v_test/countries.csv\n"
     ]
    },
    {
     "name": "stderr",
     "output_type": "stream",
     "text": [
      "INFO:stdflow.step:Loading data from ../../data/world_happiness/step_typing_fixed/v_test/report_2019.csv\n"
     ]
    },
    {
     "name": "stderr",
     "output_type": "stream",
     "text": [
      "INFO:stdflow.step:Data loaded from ../../data/world_happiness/step_typing_fixed/v_test/report_2019.csv\n"
     ]
    }
   ],
   "source": [
    "sf.root = data_root\n",
    "sf.step_in = 'typing_fixed'\n",
    "sf.step_out = 'merged'\n",
    "sf.version = sf.var('version', ':default')\n",
    "\n",
    "df_countries = sf.load(attrs=\"countries\", verbose=True)\n",
    "df_wp = sf.load(attrs='world_happiness', verbose=True)"
   ]
  },
  {
   "cell_type": "code",
   "execution_count": 4,
   "id": "391153cadefd75b",
   "metadata": {
    "execution": {
     "iopub.execute_input": "2023-09-22T02:18:06.570235Z",
     "iopub.status.busy": "2023-09-22T02:18:06.570037Z",
     "iopub.status.idle": "2023-09-22T02:18:06.585123Z",
     "shell.execute_reply": "2023-09-22T02:18:06.584576Z"
    }
   },
   "outputs": [
    {
     "data": {
      "text/html": [
       "<div>\n",
       "<style scoped>\n",
       "    .dataframe tbody tr th:only-of-type {\n",
       "        vertical-align: middle;\n",
       "    }\n",
       "\n",
       "    .dataframe tbody tr th {\n",
       "        vertical-align: top;\n",
       "    }\n",
       "\n",
       "    .dataframe thead th {\n",
       "        text-align: right;\n",
       "    }\n",
       "</style>\n",
       "<table border=\"1\" class=\"dataframe\">\n",
       "  <thead>\n",
       "    <tr style=\"text-align: right;\">\n",
       "      <th></th>\n",
       "      <th>country</th>\n",
       "      <th>region</th>\n",
       "      <th>population</th>\n",
       "      <th>area_sq_mi</th>\n",
       "      <th>pop. density_per_sq_mi</th>\n",
       "      <th>coastline_coast_area_ratio</th>\n",
       "      <th>net migration</th>\n",
       "      <th>infant mortality_per_1000_births</th>\n",
       "      <th>gdp_per_capita</th>\n",
       "      <th>literacy_percent</th>\n",
       "      <th>phones_per_1000</th>\n",
       "      <th>arable_percent</th>\n",
       "      <th>crops_percent</th>\n",
       "      <th>other_percent</th>\n",
       "      <th>climate</th>\n",
       "      <th>birthrate</th>\n",
       "      <th>deathrate</th>\n",
       "      <th>agriculture</th>\n",
       "      <th>industry</th>\n",
       "      <th>service</th>\n",
       "    </tr>\n",
       "  </thead>\n",
       "  <tbody>\n",
       "    <tr>\n",
       "      <th>0</th>\n",
       "      <td>Afghanistan</td>\n",
       "      <td>ASIA (EX. NEAR EAST)</td>\n",
       "      <td>31056997</td>\n",
       "      <td>647500</td>\n",
       "      <td>48,0</td>\n",
       "      <td>0,00</td>\n",
       "      <td>23,06</td>\n",
       "      <td>163,07</td>\n",
       "      <td>700.0</td>\n",
       "      <td>36,0</td>\n",
       "      <td>3,2</td>\n",
       "      <td>12,13</td>\n",
       "      <td>0,22</td>\n",
       "      <td>87,65</td>\n",
       "      <td>1</td>\n",
       "      <td>46,6</td>\n",
       "      <td>20,34</td>\n",
       "      <td>0,38</td>\n",
       "      <td>0,24</td>\n",
       "      <td>0,38</td>\n",
       "    </tr>\n",
       "    <tr>\n",
       "      <th>1</th>\n",
       "      <td>Albania</td>\n",
       "      <td>EASTERN EUROPE</td>\n",
       "      <td>3581655</td>\n",
       "      <td>28748</td>\n",
       "      <td>124,6</td>\n",
       "      <td>1,26</td>\n",
       "      <td>-4,93</td>\n",
       "      <td>21,52</td>\n",
       "      <td>4500.0</td>\n",
       "      <td>86,5</td>\n",
       "      <td>71,2</td>\n",
       "      <td>21,09</td>\n",
       "      <td>4,42</td>\n",
       "      <td>74,49</td>\n",
       "      <td>3</td>\n",
       "      <td>15,11</td>\n",
       "      <td>5,22</td>\n",
       "      <td>0,232</td>\n",
       "      <td>0,188</td>\n",
       "      <td>0,579</td>\n",
       "    </tr>\n",
       "    <tr>\n",
       "      <th>2</th>\n",
       "      <td>Algeria</td>\n",
       "      <td>NORTHERN AFRICA</td>\n",
       "      <td>32930091</td>\n",
       "      <td>2381740</td>\n",
       "      <td>13,8</td>\n",
       "      <td>0,04</td>\n",
       "      <td>-0,39</td>\n",
       "      <td>31</td>\n",
       "      <td>6000.0</td>\n",
       "      <td>70,0</td>\n",
       "      <td>78,1</td>\n",
       "      <td>3,22</td>\n",
       "      <td>0,25</td>\n",
       "      <td>96,53</td>\n",
       "      <td>1</td>\n",
       "      <td>17,14</td>\n",
       "      <td>4,61</td>\n",
       "      <td>0,101</td>\n",
       "      <td>0,6</td>\n",
       "      <td>0,298</td>\n",
       "    </tr>\n",
       "    <tr>\n",
       "      <th>3</th>\n",
       "      <td>American Samoa</td>\n",
       "      <td>OCEANIA</td>\n",
       "      <td>57794</td>\n",
       "      <td>199</td>\n",
       "      <td>290,4</td>\n",
       "      <td>58,29</td>\n",
       "      <td>-20,71</td>\n",
       "      <td>9,27</td>\n",
       "      <td>8000.0</td>\n",
       "      <td>97,0</td>\n",
       "      <td>259,5</td>\n",
       "      <td>10</td>\n",
       "      <td>15</td>\n",
       "      <td>75</td>\n",
       "      <td>2</td>\n",
       "      <td>22,46</td>\n",
       "      <td>3,27</td>\n",
       "      <td>NaN</td>\n",
       "      <td>NaN</td>\n",
       "      <td>NaN</td>\n",
       "    </tr>\n",
       "    <tr>\n",
       "      <th>4</th>\n",
       "      <td>Andorra</td>\n",
       "      <td>WESTERN EUROPE</td>\n",
       "      <td>71201</td>\n",
       "      <td>468</td>\n",
       "      <td>152,1</td>\n",
       "      <td>0,00</td>\n",
       "      <td>6,6</td>\n",
       "      <td>4,05</td>\n",
       "      <td>19000.0</td>\n",
       "      <td>100,0</td>\n",
       "      <td>497,2</td>\n",
       "      <td>2,22</td>\n",
       "      <td>0</td>\n",
       "      <td>97,78</td>\n",
       "      <td>3</td>\n",
       "      <td>8,71</td>\n",
       "      <td>6,25</td>\n",
       "      <td>NaN</td>\n",
       "      <td>NaN</td>\n",
       "      <td>NaN</td>\n",
       "    </tr>\n",
       "  </tbody>\n",
       "</table>\n",
       "</div>"
      ],
      "text/plain": [
       "           country                               region  population  \\\n",
       "0     Afghanistan         ASIA (EX. NEAR EAST)             31056997   \n",
       "1         Albania   EASTERN EUROPE                          3581655   \n",
       "2         Algeria   NORTHERN AFRICA                        32930091   \n",
       "3  American Samoa   OCEANIA                                   57794   \n",
       "4         Andorra   WESTERN EUROPE                            71201   \n",
       "\n",
       "   area_sq_mi pop. density_per_sq_mi coastline_coast_area_ratio net migration  \\\n",
       "0      647500                   48,0                       0,00         23,06   \n",
       "1       28748                  124,6                       1,26         -4,93   \n",
       "2     2381740                   13,8                       0,04         -0,39   \n",
       "3         199                  290,4                      58,29        -20,71   \n",
       "4         468                  152,1                       0,00           6,6   \n",
       "\n",
       "  infant mortality_per_1000_births  gdp_per_capita literacy_percent  \\\n",
       "0                           163,07           700.0             36,0   \n",
       "1                            21,52          4500.0             86,5   \n",
       "2                               31          6000.0             70,0   \n",
       "3                             9,27          8000.0             97,0   \n",
       "4                             4,05         19000.0            100,0   \n",
       "\n",
       "  phones_per_1000 arable_percent crops_percent other_percent climate  \\\n",
       "0             3,2          12,13          0,22         87,65       1   \n",
       "1            71,2          21,09          4,42         74,49       3   \n",
       "2            78,1           3,22          0,25         96,53       1   \n",
       "3           259,5             10            15            75       2   \n",
       "4           497,2           2,22             0         97,78       3   \n",
       "\n",
       "  birthrate deathrate agriculture industry service  \n",
       "0      46,6     20,34        0,38     0,24    0,38  \n",
       "1     15,11      5,22       0,232    0,188   0,579  \n",
       "2     17,14      4,61       0,101      0,6   0,298  \n",
       "3     22,46      3,27         NaN      NaN     NaN  \n",
       "4      8,71      6,25         NaN      NaN     NaN  "
      ]
     },
     "execution_count": 4,
     "metadata": {},
     "output_type": "execute_result"
    }
   ],
   "source": [
    "df_countries.head()"
   ]
  },
  {
   "cell_type": "code",
   "execution_count": 5,
   "id": "3a66e0c8e17a3581",
   "metadata": {
    "execution": {
     "iopub.execute_input": "2023-09-22T02:18:06.587829Z",
     "iopub.status.busy": "2023-09-22T02:18:06.587535Z",
     "iopub.status.idle": "2023-09-22T02:18:06.597069Z",
     "shell.execute_reply": "2023-09-22T02:18:06.596658Z"
    }
   },
   "outputs": [
    {
     "data": {
      "text/html": [
       "<div>\n",
       "<style scoped>\n",
       "    .dataframe tbody tr th:only-of-type {\n",
       "        vertical-align: middle;\n",
       "    }\n",
       "\n",
       "    .dataframe tbody tr th {\n",
       "        vertical-align: top;\n",
       "    }\n",
       "\n",
       "    .dataframe thead th {\n",
       "        text-align: right;\n",
       "    }\n",
       "</style>\n",
       "<table border=\"1\" class=\"dataframe\">\n",
       "  <thead>\n",
       "    <tr style=\"text-align: right;\">\n",
       "      <th></th>\n",
       "      <th>country</th>\n",
       "      <th>ladder</th>\n",
       "      <th>sd of ladder</th>\n",
       "      <th>positive affect</th>\n",
       "      <th>negative affect</th>\n",
       "      <th>social support</th>\n",
       "      <th>freedom</th>\n",
       "      <th>corruption</th>\n",
       "      <th>generosity</th>\n",
       "      <th>log of gdp per capita</th>\n",
       "      <th>healthy life expectancy</th>\n",
       "    </tr>\n",
       "  </thead>\n",
       "  <tbody>\n",
       "    <tr>\n",
       "      <th>0</th>\n",
       "      <td>Finland</td>\n",
       "      <td>1</td>\n",
       "      <td>4</td>\n",
       "      <td>41.0</td>\n",
       "      <td>10.0</td>\n",
       "      <td>2.0</td>\n",
       "      <td>5.0</td>\n",
       "      <td>4.0</td>\n",
       "      <td>47.0</td>\n",
       "      <td>22.0</td>\n",
       "      <td>27.0</td>\n",
       "    </tr>\n",
       "    <tr>\n",
       "      <th>1</th>\n",
       "      <td>Denmark</td>\n",
       "      <td>2</td>\n",
       "      <td>13</td>\n",
       "      <td>24.0</td>\n",
       "      <td>26.0</td>\n",
       "      <td>4.0</td>\n",
       "      <td>6.0</td>\n",
       "      <td>3.0</td>\n",
       "      <td>22.0</td>\n",
       "      <td>14.0</td>\n",
       "      <td>23.0</td>\n",
       "    </tr>\n",
       "    <tr>\n",
       "      <th>2</th>\n",
       "      <td>Norway</td>\n",
       "      <td>3</td>\n",
       "      <td>8</td>\n",
       "      <td>16.0</td>\n",
       "      <td>29.0</td>\n",
       "      <td>3.0</td>\n",
       "      <td>3.0</td>\n",
       "      <td>8.0</td>\n",
       "      <td>11.0</td>\n",
       "      <td>7.0</td>\n",
       "      <td>12.0</td>\n",
       "    </tr>\n",
       "    <tr>\n",
       "      <th>3</th>\n",
       "      <td>Iceland</td>\n",
       "      <td>4</td>\n",
       "      <td>9</td>\n",
       "      <td>3.0</td>\n",
       "      <td>3.0</td>\n",
       "      <td>1.0</td>\n",
       "      <td>7.0</td>\n",
       "      <td>45.0</td>\n",
       "      <td>3.0</td>\n",
       "      <td>15.0</td>\n",
       "      <td>13.0</td>\n",
       "    </tr>\n",
       "    <tr>\n",
       "      <th>4</th>\n",
       "      <td>Netherlands</td>\n",
       "      <td>5</td>\n",
       "      <td>1</td>\n",
       "      <td>12.0</td>\n",
       "      <td>25.0</td>\n",
       "      <td>15.0</td>\n",
       "      <td>19.0</td>\n",
       "      <td>12.0</td>\n",
       "      <td>7.0</td>\n",
       "      <td>12.0</td>\n",
       "      <td>18.0</td>\n",
       "    </tr>\n",
       "  </tbody>\n",
       "</table>\n",
       "</div>"
      ],
      "text/plain": [
       "       country  ladder  sd of ladder  positive affect  negative affect  \\\n",
       "0      Finland       1             4             41.0             10.0   \n",
       "1      Denmark       2            13             24.0             26.0   \n",
       "2       Norway       3             8             16.0             29.0   \n",
       "3      Iceland       4             9              3.0              3.0   \n",
       "4  Netherlands       5             1             12.0             25.0   \n",
       "\n",
       "   social support  freedom  corruption  generosity  log of gdp per capita  \\\n",
       "0             2.0      5.0         4.0        47.0                   22.0   \n",
       "1             4.0      6.0         3.0        22.0                   14.0   \n",
       "2             3.0      3.0         8.0        11.0                    7.0   \n",
       "3             1.0      7.0        45.0         3.0                   15.0   \n",
       "4            15.0     19.0        12.0         7.0                   12.0   \n",
       "\n",
       "   healthy life expectancy  \n",
       "0                     27.0  \n",
       "1                     23.0  \n",
       "2                     12.0  \n",
       "3                     13.0  \n",
       "4                     18.0  "
      ]
     },
     "execution_count": 5,
     "metadata": {},
     "output_type": "execute_result"
    }
   ],
   "source": [
    "df_wp.rename(columns={'country (region)': 'country'}, inplace=True)\n",
    "df_wp.head()"
   ]
  },
  {
   "cell_type": "code",
   "execution_count": 6,
   "id": "b2c6bd6503225bcb",
   "metadata": {
    "execution": {
     "iopub.execute_input": "2023-09-22T02:18:06.599897Z",
     "iopub.status.busy": "2023-09-22T02:18:06.599678Z",
     "iopub.status.idle": "2023-09-22T02:18:06.611022Z",
     "shell.execute_reply": "2023-09-22T02:18:06.610630Z"
    }
   },
   "outputs": [],
   "source": [
    "df = pd.merge(df_wp, df_countries, on='country', how='left')"
   ]
  },
  {
   "cell_type": "code",
   "execution_count": 7,
   "id": "d6e7c6c60fbdbbfd",
   "metadata": {
    "execution": {
     "iopub.execute_input": "2023-09-22T02:18:06.613380Z",
     "iopub.status.busy": "2023-09-22T02:18:06.613209Z",
     "iopub.status.idle": "2023-09-22T02:18:06.623779Z",
     "shell.execute_reply": "2023-09-22T02:18:06.623364Z"
    }
   },
   "outputs": [
    {
     "name": "stderr",
     "output_type": "stream",
     "text": [
      "INFO:stdflow.step:Saving data to ../../data/master_dataset/happiness/step_merged/v_test/data.csv\n"
     ]
    },
    {
     "name": "stderr",
     "output_type": "stream",
     "text": [
      "INFO:stdflow.step:Data saved to ../../data/master_dataset/happiness/step_merged/v_test/data.csv\n"
     ]
    },
    {
     "name": "stderr",
     "output_type": "stream",
     "text": [
      "INFO:stdflow.step:Saving metadata to ../../data/master_dataset/happiness/step_merged/v_test/\n"
     ]
    },
    {
     "name": "stderr",
     "output_type": "stream",
     "text": [
      "INFO:stdflow.step:Exporting viz tool to ../../data/master_dataset/happiness/step_merged/v_test/\n"
     ]
    },
    {
     "data": {
      "text/plain": [
       "attrs=master_dataset/happiness::step_name=merged::version=test::file_name=data.csv"
      ]
     },
     "execution_count": 7,
     "metadata": {},
     "output_type": "execute_result"
    }
   ],
   "source": [
    "sf.save(df, attrs='master_dataset/happiness', step='merged', file_name='data.csv', verbose=True, export_viz_tool=True)"
   ]
  },
  {
   "cell_type": "code",
   "execution_count": null,
   "id": "fc96edbdde140455",
   "metadata": {},
   "outputs": [],
   "source": []
  }
 ],
 "metadata": {
  "kernelspec": {
   "display_name": "python3",
   "language": "python",
   "name": "python3"
  },
  "language_info": {
   "codemirror_mode": {
    "name": "ipython",
    "version": 3
   },
   "file_extension": ".py",
   "mimetype": "text/x-python",
   "name": "python",
   "nbconvert_exporter": "python",
   "pygments_lexer": "ipython3",
   "version": "3.7.16"
  }
 },
 "nbformat": 4,
 "nbformat_minor": 5
}
