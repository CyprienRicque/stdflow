{
 "cells": [
  {
   "cell_type": "code",
   "execution_count": 1,
   "metadata": {
    "ExecuteTime": {
     "end_time": "2023-07-27T03:51:21.885837Z",
     "start_time": "2023-07-27T03:51:21.881587Z"
    }
   },
   "outputs": [],
   "source": [
    "import sys\n",
    "\n",
    "sys.path.append(\"../../\")"
   ]
  },
  {
   "cell_type": "markdown",
   "metadata": {},
   "source": [
    "## Load"
   ]
  },
  {
   "cell_type": "code",
   "execution_count": 2,
   "metadata": {
    "ExecuteTime": {
     "end_time": "2023-07-27T03:51:22.937657Z",
     "start_time": "2023-07-27T03:51:21.887235Z"
    }
   },
   "outputs": [
    {
     "name": "stderr",
     "output_type": "stream",
     "text": [
      "DEBUG:stdflow.path.data_path:ordered versions: []\n",
      "WARNING:stdflow.path.data_path:No versioned directories found in ../demo_data/lake/\n",
      "DEBUG:stdflow.step:Loading data from ../demo_data/lake/countries of the world.csv\n",
      "DEBUG:stdflow.step:no metadata file found in ../demo_data/lake/metadata.json\n"
     ]
    }
   ],
   "source": [
    "import stdflow as sf\n",
    "\n",
    "sf.root = \"../demo_data\"\n",
    "sf.notebook_dir = \"notebooks\"  # default\n",
    "sf.notebook_path = \"countries/load.ipynb\"  # automatically inferred\n",
    "\n",
    "df = sf.load(attrs=[\"lake\"], file_name=\"countries of the world.csv\")"
   ]
  },
  {
   "cell_type": "markdown",
   "metadata": {
    "collapsed": false
   },
   "source": [
    "## Processing"
   ]
  },
  {
   "cell_type": "code",
   "execution_count": 3,
   "metadata": {
    "collapsed": false,
    "ExecuteTime": {
     "end_time": "2023-07-27T03:51:30.176683Z",
     "start_time": "2023-07-27T03:51:30.156647Z"
    }
   },
   "outputs": [
    {
     "data": {
      "text/plain": "           Country                               Region  Population  \\\n0     Afghanistan         ASIA (EX. NEAR EAST)             31056997   \n1         Albania   EASTERN EUROPE                          3581655   \n2         Algeria   NORTHERN AFRICA                        32930091   \n3  American Samoa   OCEANIA                                   57794   \n4         Andorra   WESTERN EUROPE                            71201   \n\n   Area (sq. mi.) Pop. Density (per sq. mi.) Coastline (coast/area ratio)  \\\n0          647500                       48,0                         0,00   \n1           28748                      124,6                         1,26   \n2         2381740                       13,8                         0,04   \n3             199                      290,4                        58,29   \n4             468                      152,1                         0,00   \n\n  Net migration Infant mortality (per 1000 births)  GDP ($ per capita)  \\\n0         23,06                             163,07               700.0   \n1         -4,93                              21,52              4500.0   \n2         -0,39                                 31              6000.0   \n3        -20,71                               9,27              8000.0   \n4           6,6                               4,05             19000.0   \n\n  Literacy (%) Phones (per 1000) Arable (%) Crops (%) Other (%) Climate  \\\n0         36,0               3,2      12,13      0,22     87,65       1   \n1         86,5              71,2      21,09      4,42     74,49       3   \n2         70,0              78,1       3,22      0,25     96,53       1   \n3         97,0             259,5         10        15        75       2   \n4        100,0             497,2       2,22         0     97,78       3   \n\n  Birthrate Deathrate Agriculture Industry Service  \n0      46,6     20,34        0,38     0,24    0,38  \n1     15,11      5,22       0,232    0,188   0,579  \n2     17,14      4,61       0,101      0,6   0,298  \n3     22,46      3,27         NaN      NaN     NaN  \n4      8,71      6,25         NaN      NaN     NaN  ",
      "text/html": "<div>\n<style scoped>\n    .dataframe tbody tr th:only-of-type {\n        vertical-align: middle;\n    }\n\n    .dataframe tbody tr th {\n        vertical-align: top;\n    }\n\n    .dataframe thead th {\n        text-align: right;\n    }\n</style>\n<table border=\"1\" class=\"dataframe\">\n  <thead>\n    <tr style=\"text-align: right;\">\n      <th></th>\n      <th>Country</th>\n      <th>Region</th>\n      <th>Population</th>\n      <th>Area (sq. mi.)</th>\n      <th>Pop. Density (per sq. mi.)</th>\n      <th>Coastline (coast/area ratio)</th>\n      <th>Net migration</th>\n      <th>Infant mortality (per 1000 births)</th>\n      <th>GDP ($ per capita)</th>\n      <th>Literacy (%)</th>\n      <th>Phones (per 1000)</th>\n      <th>Arable (%)</th>\n      <th>Crops (%)</th>\n      <th>Other (%)</th>\n      <th>Climate</th>\n      <th>Birthrate</th>\n      <th>Deathrate</th>\n      <th>Agriculture</th>\n      <th>Industry</th>\n      <th>Service</th>\n    </tr>\n  </thead>\n  <tbody>\n    <tr>\n      <th>0</th>\n      <td>Afghanistan</td>\n      <td>ASIA (EX. NEAR EAST)</td>\n      <td>31056997</td>\n      <td>647500</td>\n      <td>48,0</td>\n      <td>0,00</td>\n      <td>23,06</td>\n      <td>163,07</td>\n      <td>700.0</td>\n      <td>36,0</td>\n      <td>3,2</td>\n      <td>12,13</td>\n      <td>0,22</td>\n      <td>87,65</td>\n      <td>1</td>\n      <td>46,6</td>\n      <td>20,34</td>\n      <td>0,38</td>\n      <td>0,24</td>\n      <td>0,38</td>\n    </tr>\n    <tr>\n      <th>1</th>\n      <td>Albania</td>\n      <td>EASTERN EUROPE</td>\n      <td>3581655</td>\n      <td>28748</td>\n      <td>124,6</td>\n      <td>1,26</td>\n      <td>-4,93</td>\n      <td>21,52</td>\n      <td>4500.0</td>\n      <td>86,5</td>\n      <td>71,2</td>\n      <td>21,09</td>\n      <td>4,42</td>\n      <td>74,49</td>\n      <td>3</td>\n      <td>15,11</td>\n      <td>5,22</td>\n      <td>0,232</td>\n      <td>0,188</td>\n      <td>0,579</td>\n    </tr>\n    <tr>\n      <th>2</th>\n      <td>Algeria</td>\n      <td>NORTHERN AFRICA</td>\n      <td>32930091</td>\n      <td>2381740</td>\n      <td>13,8</td>\n      <td>0,04</td>\n      <td>-0,39</td>\n      <td>31</td>\n      <td>6000.0</td>\n      <td>70,0</td>\n      <td>78,1</td>\n      <td>3,22</td>\n      <td>0,25</td>\n      <td>96,53</td>\n      <td>1</td>\n      <td>17,14</td>\n      <td>4,61</td>\n      <td>0,101</td>\n      <td>0,6</td>\n      <td>0,298</td>\n    </tr>\n    <tr>\n      <th>3</th>\n      <td>American Samoa</td>\n      <td>OCEANIA</td>\n      <td>57794</td>\n      <td>199</td>\n      <td>290,4</td>\n      <td>58,29</td>\n      <td>-20,71</td>\n      <td>9,27</td>\n      <td>8000.0</td>\n      <td>97,0</td>\n      <td>259,5</td>\n      <td>10</td>\n      <td>15</td>\n      <td>75</td>\n      <td>2</td>\n      <td>22,46</td>\n      <td>3,27</td>\n      <td>NaN</td>\n      <td>NaN</td>\n      <td>NaN</td>\n    </tr>\n    <tr>\n      <th>4</th>\n      <td>Andorra</td>\n      <td>WESTERN EUROPE</td>\n      <td>71201</td>\n      <td>468</td>\n      <td>152,1</td>\n      <td>0,00</td>\n      <td>6,6</td>\n      <td>4,05</td>\n      <td>19000.0</td>\n      <td>100,0</td>\n      <td>497,2</td>\n      <td>2,22</td>\n      <td>0</td>\n      <td>97,78</td>\n      <td>3</td>\n      <td>8,71</td>\n      <td>6,25</td>\n      <td>NaN</td>\n      <td>NaN</td>\n      <td>NaN</td>\n    </tr>\n  </tbody>\n</table>\n</div>"
     },
     "execution_count": 3,
     "metadata": {},
     "output_type": "execute_result"
    }
   ],
   "source": [
    "df.head()"
   ]
  },
  {
   "cell_type": "markdown",
   "metadata": {},
   "source": [
    "## Save"
   ]
  },
  {
   "cell_type": "code",
   "execution_count": 4,
   "metadata": {
    "ExecuteTime": {
     "end_time": "2023-07-27T03:51:49.113956Z",
     "start_time": "2023-07-27T03:51:49.067259Z"
    }
   },
   "outputs": [
    {
     "name": "stderr",
     "output_type": "stream",
     "text": [
      "DEBUG:stdflow.step:Saving metadata file to ../demo_data/step_format/v_202307271151/metadata.json\n"
     ]
    }
   ],
   "source": [
    "sf.save(df, step=\"format\", file_name=\"countries.csv\", descriptions={\"Country\": \"country full name\"})"
   ]
  },
  {
   "cell_type": "code",
   "execution_count": null,
   "metadata": {},
   "outputs": [],
   "source": [
    "def rename_brands(df):\n",
    "    step = sf.Step()\n",
    "\n",
    "    df = sf.load(root=\"../demo_data\", attrs=[\"x\", \"y\"], file_name=\"countries of the world.csv\")\n",
    "    # renaming\n",
    "    step.save(...)"
   ]
  },
  {
   "cell_type": "code",
   "execution_count": null,
   "metadata": {},
   "outputs": [],
   "source": []
  },
  {
   "cell_type": "code",
   "execution_count": null,
   "metadata": {},
   "outputs": [],
   "source": [
    "pipeline_countries = [\n",
    "    load_countries.ipynb,\n",
    "    dict(name=rename_brands, export=True, x=\"digiming\", y=\"india\"),\n",
    "    dict(name=scale, export=False),\n",
    "]\n",
    "\n",
    "pipeline_model = [\n",
    "    pipeline_countries, pipeline_happiness\n",
    "    combine.ipynb\n",
    "    model.ipynb\n",
    "]"
   ]
  },
  {
   "cell_type": "code",
   "execution_count": 23,
   "outputs": [
    {
     "name": "stdout",
     "output_type": "stream",
     "text": [
      "Collecting ipynbname\r\n",
      "  Downloading ipynbname-2023.2.0.0-py3-none-any.whl (4.3 kB)\r\n",
      "Requirement already satisfied: ipykernel in /Users/cyprien/miniconda3_py37/lib/python3.7/site-packages (from ipynbname) (6.16.2)\r\n",
      "Requirement already satisfied: pyzmq>=17 in /Users/cyprien/miniconda3_py37/lib/python3.7/site-packages (from ipykernel->ipynbname) (25.1.0)\r\n",
      "Requirement already satisfied: traitlets>=5.1.0 in /Users/cyprien/miniconda3_py37/lib/python3.7/site-packages (from ipykernel->ipynbname) (5.9.0)\r\n",
      "Requirement already satisfied: ipython>=7.23.1 in /Users/cyprien/miniconda3_py37/lib/python3.7/site-packages (from ipykernel->ipynbname) (7.34.0)\r\n",
      "Requirement already satisfied: psutil in /Users/cyprien/miniconda3_py37/lib/python3.7/site-packages (from ipykernel->ipynbname) (5.9.5)\r\n",
      "Requirement already satisfied: debugpy>=1.0 in /Users/cyprien/miniconda3_py37/lib/python3.7/site-packages (from ipykernel->ipynbname) (1.6.7)\r\n",
      "Requirement already satisfied: jupyter-client>=6.1.12 in /Users/cyprien/miniconda3_py37/lib/python3.7/site-packages (from ipykernel->ipynbname) (7.4.9)\r\n",
      "Requirement already satisfied: matplotlib-inline>=0.1 in /Users/cyprien/miniconda3_py37/lib/python3.7/site-packages (from ipykernel->ipynbname) (0.1.6)\r\n",
      "Requirement already satisfied: packaging in /Users/cyprien/miniconda3_py37/lib/python3.7/site-packages (from ipykernel->ipynbname) (23.1)\r\n",
      "Requirement already satisfied: tornado>=6.1 in /Users/cyprien/miniconda3_py37/lib/python3.7/site-packages (from ipykernel->ipynbname) (6.2)\r\n",
      "Requirement already satisfied: appnope in /Users/cyprien/miniconda3_py37/lib/python3.7/site-packages (from ipykernel->ipynbname) (0.1.3)\r\n",
      "Requirement already satisfied: nest-asyncio in /Users/cyprien/miniconda3_py37/lib/python3.7/site-packages (from ipykernel->ipynbname) (1.5.6)\r\n",
      "Requirement already satisfied: setuptools>=18.5 in /Users/cyprien/miniconda3_py37/lib/python3.7/site-packages (from ipython>=7.23.1->ipykernel->ipynbname) (65.6.3)\r\n",
      "Requirement already satisfied: jedi>=0.16 in /Users/cyprien/miniconda3_py37/lib/python3.7/site-packages (from ipython>=7.23.1->ipykernel->ipynbname) (0.18.2)\r\n",
      "Requirement already satisfied: pygments in /Users/cyprien/miniconda3_py37/lib/python3.7/site-packages (from ipython>=7.23.1->ipykernel->ipynbname) (2.15.1)\r\n",
      "Requirement already satisfied: prompt-toolkit!=3.0.0,!=3.0.1,<3.1.0,>=2.0.0 in /Users/cyprien/miniconda3_py37/lib/python3.7/site-packages (from ipython>=7.23.1->ipykernel->ipynbname) (3.0.39)\r\n",
      "Requirement already satisfied: backcall in /Users/cyprien/miniconda3_py37/lib/python3.7/site-packages (from ipython>=7.23.1->ipykernel->ipynbname) (0.2.0)\r\n",
      "Requirement already satisfied: pickleshare in /Users/cyprien/miniconda3_py37/lib/python3.7/site-packages (from ipython>=7.23.1->ipykernel->ipynbname) (0.7.5)\r\n",
      "Requirement already satisfied: decorator in /Users/cyprien/miniconda3_py37/lib/python3.7/site-packages (from ipython>=7.23.1->ipykernel->ipynbname) (5.1.1)\r\n",
      "Requirement already satisfied: pexpect>4.3 in /Users/cyprien/miniconda3_py37/lib/python3.7/site-packages (from ipython>=7.23.1->ipykernel->ipynbname) (4.8.0)\r\n",
      "Requirement already satisfied: entrypoints in /Users/cyprien/miniconda3_py37/lib/python3.7/site-packages (from jupyter-client>=6.1.12->ipykernel->ipynbname) (0.4)\r\n",
      "Requirement already satisfied: python-dateutil>=2.8.2 in /Users/cyprien/miniconda3_py37/lib/python3.7/site-packages (from jupyter-client>=6.1.12->ipykernel->ipynbname) (2.8.2)\r\n",
      "Requirement already satisfied: jupyter-core>=4.9.2 in /Users/cyprien/miniconda3_py37/lib/python3.7/site-packages (from jupyter-client>=6.1.12->ipykernel->ipynbname) (4.12.0)\r\n",
      "Requirement already satisfied: parso<0.9.0,>=0.8.0 in /Users/cyprien/miniconda3_py37/lib/python3.7/site-packages (from jedi>=0.16->ipython>=7.23.1->ipykernel->ipynbname) (0.8.3)\r\n",
      "Requirement already satisfied: ptyprocess>=0.5 in /Users/cyprien/miniconda3_py37/lib/python3.7/site-packages (from pexpect>4.3->ipython>=7.23.1->ipykernel->ipynbname) (0.7.0)\r\n",
      "Requirement already satisfied: wcwidth in /Users/cyprien/miniconda3_py37/lib/python3.7/site-packages (from prompt-toolkit!=3.0.0,!=3.0.1,<3.1.0,>=2.0.0->ipython>=7.23.1->ipykernel->ipynbname) (0.2.6)\r\n",
      "Requirement already satisfied: six>=1.5 in /Users/cyprien/miniconda3_py37/lib/python3.7/site-packages (from python-dateutil>=2.8.2->jupyter-client>=6.1.12->ipykernel->ipynbname) (1.16.0)\r\n",
      "Installing collected packages: ipynbname\r\n",
      "Successfully installed ipynbname-2023.2.0.0\r\n"
     ]
    }
   ],
   "source": [
    "!pip install ipynbname"
   ],
   "metadata": {
    "collapsed": false,
    "ExecuteTime": {
     "end_time": "2023-07-27T04:05:06.672091Z",
     "start_time": "2023-07-27T04:05:03.362819Z"
    }
   }
  },
  {
   "cell_type": "code",
   "execution_count": 3,
   "outputs": [
    {
     "data": {
      "text/plain": "'basic_demo'"
     },
     "execution_count": 3,
     "metadata": {},
     "output_type": "execute_result"
    }
   ],
   "source": [
    "from demo.src.extract_metadata import get_notebook_name\n",
    "\n",
    "get_notebook_name()"
   ],
   "metadata": {
    "collapsed": false,
    "ExecuteTime": {
     "end_time": "2023-07-27T04:06:49.055324Z",
     "start_time": "2023-07-27T04:06:49.043607Z"
    }
   }
  },
  {
   "cell_type": "code",
   "execution_count": 1,
   "outputs": [
    {
     "data": {
      "text/plain": "PosixPath('/Users/cyprien/Documents/artefact/stdflow/demo/notebooks/basic_demo.ipynb')"
     },
     "execution_count": 1,
     "metadata": {},
     "output_type": "execute_result"
    }
   ],
   "source": [
    "from demo.src.extract_metadata import get_notebook_path\n",
    "\n",
    "get_notebook_path()"
   ],
   "metadata": {
    "collapsed": false,
    "ExecuteTime": {
     "end_time": "2023-07-27T04:12:49.673341Z",
     "start_time": "2023-07-27T04:12:49.652347Z"
    }
   }
  },
  {
   "cell_type": "code",
   "execution_count": 16,
   "outputs": [
    {
     "name": "stdout",
     "output_type": "stream",
     "text": [
      "\u001b[31mERROR: Could not find a version that satisfies the requirement urllib (from versions: none)\u001b[0m\u001b[31m\r\n",
      "\u001b[0m\u001b[31mERROR: No matching distribution found for urllib\u001b[0m\u001b[31m\r\n",
      "\u001b[0m"
     ]
    }
   ],
   "source": [
    "!pip install urllib"
   ],
   "metadata": {
    "collapsed": false,
    "ExecuteTime": {
     "end_time": "2023-07-27T04:01:52.190305Z",
     "start_time": "2023-07-27T04:01:50.755266Z"
    }
   }
  },
  {
   "cell_type": "code",
   "execution_count": 19,
   "outputs": [
    {
     "data": {
      "text/plain": "<IPython.core.display.Javascript object>",
      "application/javascript": "IPython.notebook.kernel.execute(\"notebook_name = '\" + IPython.notebook.notebook_name + \"'\");"
     },
     "metadata": {},
     "output_type": "display_data"
    },
    {
     "ename": "NameError",
     "evalue": "name 'notebook_name' is not defined",
     "output_type": "error",
     "traceback": [
      "\u001b[0;31m---------------------------------------------------------------------------\u001b[0m",
      "\u001b[0;31mNameError\u001b[0m                                 Traceback (most recent call last)",
      "Cell \u001b[0;32mIn[19], line 7\u001b[0m\n\u001b[1;32m      4\u001b[0m     display(Javascript(\u001b[38;5;124m'\u001b[39m\u001b[38;5;124mIPython.notebook.kernel.execute(\u001b[39m\u001b[38;5;124m\"\u001b[39m\u001b[38;5;124mnotebook_name = \u001b[39m\u001b[38;5;130;01m\\'\u001b[39;00m\u001b[38;5;124m\"\u001b[39m\u001b[38;5;124m + IPython.notebook.notebook_name + \u001b[39m\u001b[38;5;124m\"\u001b[39m\u001b[38;5;130;01m\\'\u001b[39;00m\u001b[38;5;124m\"\u001b[39m\u001b[38;5;124m);\u001b[39m\u001b[38;5;124m'\u001b[39m))\n\u001b[1;32m      6\u001b[0m get_notebook_name_js()\n\u001b[0;32m----> 7\u001b[0m \u001b[38;5;28mprint\u001b[39m(\u001b[43mnotebook_name\u001b[49m)\n",
      "\u001b[0;31mNameError\u001b[0m: name 'notebook_name' is not defined"
     ]
    }
   ],
   "source": [
    "from IPython.display import display, Javascript\n",
    "\n",
    "\n",
    "def get_notebook_name_js():\n",
    "    display(\n",
    "        Javascript(\n",
    "            'IPython.notebook.kernel.execute(\"notebook_name = \\'\" + IPython.notebook.notebook_name + \"\\'\");'\n",
    "        )\n",
    "    )\n",
    "\n",
    "\n",
    "get_notebook_name_js()\n",
    "print(notebook_name)"
   ],
   "metadata": {
    "collapsed": false,
    "ExecuteTime": {
     "end_time": "2023-07-27T04:02:56.803328Z",
     "start_time": "2023-07-27T04:02:56.779991Z"
    }
   }
  },
  {
   "cell_type": "code",
   "execution_count": 21,
   "outputs": [
    {
     "ename": "FileNotFoundError",
     "evalue": "[Errno 2] No such file or directory: '/proc/self/cmdline'",
     "output_type": "error",
     "traceback": [
      "\u001b[0;31m---------------------------------------------------------------------------\u001b[0m",
      "\u001b[0;31mFileNotFoundError\u001b[0m                         Traceback (most recent call last)",
      "Cell \u001b[0;32mIn[21], line 12\u001b[0m\n\u001b[1;32m      9\u001b[0m         \u001b[38;5;28;01mif\u001b[39;00m session[\u001b[38;5;124m'\u001b[39m\u001b[38;5;124mkernel\u001b[39m\u001b[38;5;124m'\u001b[39m][\u001b[38;5;124m'\u001b[39m\u001b[38;5;124mid\u001b[39m\u001b[38;5;124m'\u001b[39m] \u001b[38;5;241m==\u001b[39m kernel_id:\n\u001b[1;32m     10\u001b[0m             \u001b[38;5;28;01mreturn\u001b[39;00m session[\u001b[38;5;124m'\u001b[39m\u001b[38;5;124mnotebook\u001b[39m\u001b[38;5;124m'\u001b[39m][\u001b[38;5;124m'\u001b[39m\u001b[38;5;124mpath\u001b[39m\u001b[38;5;124m'\u001b[39m]\n\u001b[0;32m---> 12\u001b[0m notebook_path \u001b[38;5;241m=\u001b[39m \u001b[43mget_notebook_name_ipython_kernel\u001b[49m\u001b[43m(\u001b[49m\u001b[43m)\u001b[49m\n\u001b[1;32m     13\u001b[0m notebook_name \u001b[38;5;241m=\u001b[39m notebook_path\u001b[38;5;241m.\u001b[39msplit(\u001b[38;5;124m'\u001b[39m\u001b[38;5;124m/\u001b[39m\u001b[38;5;124m'\u001b[39m)[\u001b[38;5;241m-\u001b[39m\u001b[38;5;241m1\u001b[39m]\n\u001b[1;32m     14\u001b[0m \u001b[38;5;28mprint\u001b[39m(notebook_name)\n",
      "Cell \u001b[0;32mIn[21], line 6\u001b[0m, in \u001b[0;36mget_notebook_name_ipython_kernel\u001b[0;34m()\u001b[0m\n\u001b[1;32m      4\u001b[0m \u001b[38;5;28;01mdef\u001b[39;00m \u001b[38;5;21mget_notebook_name_ipython_kernel\u001b[39m():\n\u001b[1;32m      5\u001b[0m     kernel_id \u001b[38;5;241m=\u001b[39m re\u001b[38;5;241m.\u001b[39msearch(\u001b[38;5;124m'\u001b[39m\u001b[38;5;124mkernel-(.*).json\u001b[39m\u001b[38;5;124m'\u001b[39m,\n\u001b[0;32m----> 6\u001b[0m                           \u001b[38;5;28;43mopen\u001b[39;49m\u001b[43m(\u001b[49m\u001b[38;5;124;43m'\u001b[39;49m\u001b[38;5;124;43m/proc/self/cmdline\u001b[39;49m\u001b[38;5;124;43m'\u001b[39;49m\u001b[43m,\u001b[49m\u001b[43m \u001b[49m\u001b[38;5;124;43m'\u001b[39;49m\u001b[38;5;124;43mr\u001b[39;49m\u001b[38;5;124;43m'\u001b[39;49m\u001b[43m)\u001b[49m\u001b[38;5;241m.\u001b[39mread())\u001b[38;5;241m.\u001b[39mgroup(\u001b[38;5;241m1\u001b[39m)\n\u001b[1;32m      7\u001b[0m     response \u001b[38;5;241m=\u001b[39m requests\u001b[38;5;241m.\u001b[39mget(\u001b[38;5;124mf\u001b[39m\u001b[38;5;124m'\u001b[39m\u001b[38;5;124mhttp://localhost:8888/api/sessions\u001b[39m\u001b[38;5;124m'\u001b[39m)\n\u001b[1;32m      8\u001b[0m     \u001b[38;5;28;01mfor\u001b[39;00m session \u001b[38;5;129;01min\u001b[39;00m response\u001b[38;5;241m.\u001b[39mjson():\n",
      "File \u001b[0;32m~/miniconda3/envs/lorealsoi/lib/python3.9/site-packages/IPython/core/interactiveshell.py:284\u001b[0m, in \u001b[0;36m_modified_open\u001b[0;34m(file, *args, **kwargs)\u001b[0m\n\u001b[1;32m    277\u001b[0m \u001b[38;5;28;01mif\u001b[39;00m file \u001b[38;5;129;01min\u001b[39;00m {\u001b[38;5;241m0\u001b[39m, \u001b[38;5;241m1\u001b[39m, \u001b[38;5;241m2\u001b[39m}:\n\u001b[1;32m    278\u001b[0m     \u001b[38;5;28;01mraise\u001b[39;00m \u001b[38;5;167;01mValueError\u001b[39;00m(\n\u001b[1;32m    279\u001b[0m         \u001b[38;5;124mf\u001b[39m\u001b[38;5;124m\"\u001b[39m\u001b[38;5;124mIPython won\u001b[39m\u001b[38;5;124m'\u001b[39m\u001b[38;5;124mt let you open fd=\u001b[39m\u001b[38;5;132;01m{\u001b[39;00mfile\u001b[38;5;132;01m}\u001b[39;00m\u001b[38;5;124m by default \u001b[39m\u001b[38;5;124m\"\u001b[39m\n\u001b[1;32m    280\u001b[0m         \u001b[38;5;124m\"\u001b[39m\u001b[38;5;124mas it is likely to crash IPython. If you know what you are doing, \u001b[39m\u001b[38;5;124m\"\u001b[39m\n\u001b[1;32m    281\u001b[0m         \u001b[38;5;124m\"\u001b[39m\u001b[38;5;124myou can use builtins\u001b[39m\u001b[38;5;124m'\u001b[39m\u001b[38;5;124m open.\u001b[39m\u001b[38;5;124m\"\u001b[39m\n\u001b[1;32m    282\u001b[0m     )\n\u001b[0;32m--> 284\u001b[0m \u001b[38;5;28;01mreturn\u001b[39;00m \u001b[43mio_open\u001b[49m\u001b[43m(\u001b[49m\u001b[43mfile\u001b[49m\u001b[43m,\u001b[49m\u001b[43m \u001b[49m\u001b[38;5;241;43m*\u001b[39;49m\u001b[43margs\u001b[49m\u001b[43m,\u001b[49m\u001b[43m \u001b[49m\u001b[38;5;241;43m*\u001b[39;49m\u001b[38;5;241;43m*\u001b[39;49m\u001b[43mkwargs\u001b[49m\u001b[43m)\u001b[49m\n",
      "\u001b[0;31mFileNotFoundError\u001b[0m: [Errno 2] No such file or directory: '/proc/self/cmdline'"
     ]
    }
   ],
   "source": [
    "import requests\n",
    "from IPython.core.display import HTML\n",
    "import re\n",
    "\n",
    "\n",
    "def get_notebook_name_ipython_kernel():\n",
    "    kernel_id = re.search(\"kernel-(.*).json\", open(\"/proc/self/cmdline\", \"r\").read()).group(1)\n",
    "    response = requests.get(f\"http://localhost:8888/api/sessions\")\n",
    "    for session in response.json():\n",
    "        if session[\"kernel\"][\"id\"] == kernel_id:\n",
    "            return session[\"notebook\"][\"path\"]\n",
    "\n",
    "\n",
    "notebook_path = get_notebook_name_ipython_kernel()\n",
    "notebook_name = notebook_path.split(\"/\")[-1]\n",
    "print(notebook_name)"
   ],
   "metadata": {
    "collapsed": false,
    "ExecuteTime": {
     "end_time": "2023-07-27T04:03:46.488241Z",
     "start_time": "2023-07-27T04:03:46.427080Z"
    }
   }
  },
  {
   "cell_type": "code",
   "execution_count": 13,
   "outputs": [
    {
     "data": {
      "text/plain": "'__main__'"
     },
     "execution_count": 13,
     "metadata": {},
     "output_type": "execute_result"
    }
   ],
   "source": [
    "__name__"
   ],
   "metadata": {
    "collapsed": false,
    "ExecuteTime": {
     "end_time": "2023-07-27T04:01:14.281834Z",
     "start_time": "2023-07-27T04:01:14.266985Z"
    }
   }
  },
  {
   "cell_type": "code",
   "execution_count": null,
   "outputs": [],
   "source": [],
   "metadata": {
    "collapsed": false
   }
  }
 ],
 "metadata": {
  "kernelspec": {
   "name": "py37",
   "language": "python",
   "display_name": "py37"
  },
  "language_info": {
   "codemirror_mode": {
    "name": "ipython",
    "version": 3
   },
   "file_extension": ".py",
   "mimetype": "text/x-python",
   "name": "python",
   "nbconvert_exporter": "python",
   "pygments_lexer": "ipython3",
   "version": "3.9.16"
  }
 },
 "nbformat": 4,
 "nbformat_minor": 4
}
