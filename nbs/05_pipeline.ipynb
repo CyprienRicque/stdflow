{
 "cells": [
  {
   "cell_type": "markdown",
   "source": [
    "# Pipeline \n",
    "\n",
    "> Pipeline class using Notebooks as steps with StepRunner. see: [StepRunner]() "
   ],
   "metadata": {
    "collapsed": false
   },
   "id": "3509ebf96de2bd54"
  },
  {
   "cell_type": "code",
   "execution_count": 1,
   "outputs": [],
   "source": [
    "#| default_exp pipeline "
   ],
   "metadata": {
    "collapsed": false,
    "ExecuteTime": {
     "end_time": "2023-09-21T04:25:49.476536Z",
     "start_time": "2023-09-21T04:25:49.469686Z"
    }
   },
   "id": "d80d4b7290461a42"
  },
  {
   "cell_type": "code",
   "execution_count": 2,
   "outputs": [],
   "source": [
    "#| export\n",
    "\n",
    "from __future__ import annotations"
   ],
   "metadata": {
    "collapsed": false,
    "ExecuteTime": {
     "end_time": "2023-09-21T04:25:49.482106Z",
     "start_time": "2023-09-21T04:25:49.475898Z"
    }
   },
   "id": "6c25d15f40804805"
  },
  {
   "cell_type": "code",
   "execution_count": 3,
   "outputs": [],
   "source": [
    "#| hide\n",
    "from nbdev.showdoc import *"
   ],
   "metadata": {
    "collapsed": false,
    "ExecuteTime": {
     "end_time": "2023-09-21T04:25:49.560894Z",
     "start_time": "2023-09-21T04:25:49.478283Z"
    }
   },
   "id": "e87ba6cf08491d1"
  },
  {
   "cell_type": "code",
   "execution_count": 4,
   "outputs": [],
   "source": [
    "#| export\n",
    "\n",
    "import logging\n",
    "from typing import List\n",
    "\n",
    "from colorama import Style\n",
    "from tqdm.notebook import tqdm\n",
    "\n",
    "from stdflow import StepRunner\n",
    "from stdflow.stdflow_utils.bt_print import print_header\n"
   ],
   "metadata": {
    "collapsed": false,
    "ExecuteTime": {
     "end_time": "2023-09-21T04:25:50.198147Z",
     "start_time": "2023-09-21T04:25:49.562578Z"
    }
   },
   "id": "e9d500aa1936ad93"
  },
  {
   "cell_type": "code",
   "execution_count": 5,
   "outputs": [],
   "source": [
    "#| export\n",
    "\n",
    "logging.basicConfig()\n",
    "logger = logging.getLogger(__name__)\n",
    "logger.setLevel(logging.WARNING)\n"
   ],
   "metadata": {
    "collapsed": false,
    "ExecuteTime": {
     "end_time": "2023-09-21T04:25:50.202807Z",
     "start_time": "2023-09-21T04:25:50.200702Z"
    }
   },
   "id": "5f95f776d600aeeb"
  },
  {
   "cell_type": "code",
   "execution_count": 6,
   "outputs": [],
   "source": [
    "#| export\n",
    "\n",
    "class Pipeline:\n",
    "    \"Create pipeline of notebooks with optional variables\"\n",
    "    def __init__(self, steps: List[StepRunner] | StepRunner = None, *args):\n",
    "        steps = [steps] if isinstance(steps, StepRunner) else steps or []\n",
    "        steps += list(args) if args else []\n",
    "        self.steps: List[StepRunner] = steps or []\n",
    "\n",
    "    def verify(self) -> bool:\n",
    "        \"Verify that all steps are valid\"\n",
    "        is_valid = True\n",
    "        for step in self.steps:\n",
    "            is_valid = is_valid and step.is_valid()\n",
    "        return is_valid\n",
    "\n",
    "    def add_step(\n",
    "            self, \n",
    "            step: StepRunner | str = None, # StepRunner or path to notebook\n",
    "            **kwargs # kwargs to pass to StepRunner\n",
    "    ):\n",
    "        \"Add step to pipeline\"\n",
    "        if isinstance(step, str):\n",
    "            kwargs[\"file_path\"] = step\n",
    "            step = StepRunner(**kwargs)\n",
    "        self.steps.append(step)\n",
    "        return self\n",
    "\n",
    "    def run(\n",
    "            self, \n",
    "            progress_bar: bool = False,  # Whether to show progress bar\n",
    "            **kwargs  # kwargs to pass to StepRunner.run\n",
    "    ):\n",
    "        \"Run pipeline\"\n",
    "        longest_worker_path_adjusted = max([len(step.worker_path) for step in self.steps])\n",
    "        min_blank = 10\n",
    "\n",
    "        it = enumerate(self.steps)\n",
    "        if progress_bar:\n",
    "            try:\n",
    "                it = tqdm(enumerate(self.steps), desc=\"Pipeline\")\n",
    "            except ImportError as e:\n",
    "                logger.warning(f\"Could not use tqdm. {e.msg}\")\n",
    "                progress_bar = False\n",
    "\n",
    "        for i, step in it:\n",
    "            if progress_bar:\n",
    "                it.desc = f\"Pipeline: {step.worker_path}\"\n",
    "\n",
    "            text = step.worker_path\n",
    "            print_header(text, longest_worker_path_adjusted, min_blank)\n",
    "            print(f\"Variables: {step.env_vars}\")\n",
    "            # Run step\n",
    "            step.run(verbose=False, **kwargs)\n",
    "\n",
    "            print(\"\", end=\"\\n\\n\")\n",
    "\n",
    "    def __call__(\n",
    "            self,\n",
    "            progress_bar: bool = False,  # Whether to show progress bar\n",
    "            **kwargs  # kwargs to pass to StepRunner.run\n",
    "    ):\n",
    "        \"Run pipeline\"\n",
    "        self.run(\n",
    "            progress_bar=progress_bar,\n",
    "            **kwargs\n",
    "        )\n",
    "\n",
    "    def __str__(self):\n",
    "        s = (\n",
    "            Style.BRIGHT\n",
    "            + \"\"\"\n",
    "================================\n",
    "            PIPELINE            \n",
    "================================\n",
    "\n",
    "\"\"\"\n",
    "            + Style.RESET_ALL\n",
    "        )\n",
    "\n",
    "        for i, step in enumerate(self.steps):\n",
    "            s += f\"\"\"{Style.BRIGHT}STEP {i+1}{Style.RESET_ALL}\n",
    "\\tpath: {step.worker_path}\n",
    "\\tvars: {step.env_vars}\n",
    "\n",
    "\"\"\"\n",
    "        s += f\"\"\"{Style.BRIGHT}================================{Style.RESET_ALL}\\n\"\"\"\n",
    "        return s\n",
    "\n",
    "    def __repr__(self):\n",
    "        return str(self)\n"
   ],
   "metadata": {
    "collapsed": false,
    "ExecuteTime": {
     "end_time": "2023-09-21T04:25:50.211762Z",
     "start_time": "2023-09-21T04:25:50.203342Z"
    }
   },
   "id": "26d727dbe3a80c02"
  },
  {
   "cell_type": "code",
   "execution_count": 17,
   "outputs": [
    {
     "data": {
      "text/plain": "---\n\n### Pipeline.add_step\n\n>      Pipeline.add_step (step:Union[stdflow.step_runner.StepRunner,str]=None,\n>                         **kwargs)\n\nAdd step to pipeline\n\n|    | **Type** | **Default** | **Details** |\n| -- | -------- | ----------- | ----------- |\n| step | StepRunner \\| str | None | StepRunner or path to notebook |\n| kwargs |  |  |  |",
      "text/markdown": "---\n\n### Pipeline.add_step\n\n>      Pipeline.add_step (step:Union[stdflow.step_runner.StepRunner,str]=None,\n>                         **kwargs)\n\nAdd step to pipeline\n\n|    | **Type** | **Default** | **Details** |\n| -- | -------- | ----------- | ----------- |\n| step | StepRunner \\| str | None | StepRunner or path to notebook |\n| kwargs |  |  |  |"
     },
     "execution_count": 17,
     "metadata": {},
     "output_type": "execute_result"
    }
   ],
   "source": [
    "show_doc(Pipeline.add_step)"
   ],
   "metadata": {
    "collapsed": false,
    "ExecuteTime": {
     "end_time": "2023-09-21T04:31:37.545538Z",
     "start_time": "2023-09-21T04:31:37.543230Z"
    }
   },
   "id": "c843b6d4f50f6b4a"
  },
  {
   "cell_type": "code",
   "execution_count": 7,
   "outputs": [
    {
     "data": {
      "text/plain": "---\n\n### Pipeline.verify\n\n>      Pipeline.verify ()\n\nVerify that all steps are valid",
      "text/markdown": "---\n\n### Pipeline.verify\n\n>      Pipeline.verify ()\n\nVerify that all steps are valid"
     },
     "execution_count": 7,
     "metadata": {},
     "output_type": "execute_result"
    }
   ],
   "source": [
    "show_doc(Pipeline.verify)"
   ],
   "metadata": {
    "collapsed": false,
    "ExecuteTime": {
     "start_time": "2023-09-21T04:25:50.213035Z"
    }
   },
   "id": "70e67b5c41c6e625"
  },
  {
   "cell_type": "code",
   "execution_count": 8,
   "outputs": [
    {
     "data": {
      "text/plain": "---\n\n### Pipeline.run\n\n>      Pipeline.run (progress_bar:bool=False, **kwargs)\n\nRun pipeline\n\n|    | **Type** | **Default** | **Details** |\n| -- | -------- | ----------- | ----------- |\n| progress_bar | bool | False | Whether to show progress bar |\n| kwargs |  |  |  |",
      "text/markdown": "---\n\n### Pipeline.run\n\n>      Pipeline.run (progress_bar:bool=False, **kwargs)\n\nRun pipeline\n\n|    | **Type** | **Default** | **Details** |\n| -- | -------- | ----------- | ----------- |\n| progress_bar | bool | False | Whether to show progress bar |\n| kwargs |  |  |  |"
     },
     "execution_count": 8,
     "metadata": {},
     "output_type": "execute_result"
    }
   ],
   "source": [
    "show_doc(Pipeline.run)"
   ],
   "metadata": {
    "collapsed": false
   },
   "id": "6902e543403e8f6b"
  },
  {
   "cell_type": "code",
   "execution_count": 18,
   "outputs": [
    {
     "data": {
      "text/plain": "---\n\n### Pipeline.__call__\n\n>      Pipeline.__call__ ()\n\nRun pipeline",
      "text/markdown": "---\n\n### Pipeline.__call__\n\n>      Pipeline.__call__ ()\n\nRun pipeline"
     },
     "execution_count": 18,
     "metadata": {},
     "output_type": "execute_result"
    }
   ],
   "source": [
    "show_doc(Pipeline.__call__)"
   ],
   "metadata": {
    "collapsed": false,
    "ExecuteTime": {
     "end_time": "2023-09-21T04:33:18.727553Z",
     "start_time": "2023-09-21T04:33:18.724494Z"
    }
   },
   "id": "d598f3bbdb1fa90"
  },
  {
   "cell_type": "code",
   "execution_count": 9,
   "outputs": [
    {
     "name": "stderr",
     "output_type": "stream",
     "text": [
      "DEBUG:stdflow.environ_manager:setting variables {'hello': 'world!'}\n"
     ]
    },
    {
     "name": "stdout",
     "output_type": "stream",
     "text": [
      "\u001B[1m===============================\u001B[0m\n",
      "\u001B[1m    60.../demo_project/notebooks/_00_experiments/check_hello.ipynb\u001B[0m\n",
      "\u001B[1m===============================\u001B[0m\u001B[0m\n",
      "Variables: {'hello': 'world!'}\n",
      "\tPath: check_hello.ipynb\n",
      "\tDuration: 0 days 00:00:00.578120\n",
      "\tEnv: {'hello': 'world!'}\n",
      "\u001B[1m\u001B[32mNotebook executed successfully.\u001B[0m\n"
     ]
    }
   ],
   "source": [
    "#| hide\n",
    "    \n",
    "ppl = Pipeline()\n",
    "ppl.add_step(step=\"../demo_project/notebooks/_00_experiments/check_hello.ipynb\", variables={\"hello\": \"world!\"})\n",
    "ppl.run()\n"
   ],
   "metadata": {
    "collapsed": false,
    "ExecuteTime": {
     "end_time": "2023-09-21T04:25:52.125457Z",
     "start_time": "2023-09-21T04:25:50.278050Z"
    }
   },
   "id": "63725f1ec5493f1e"
  },
  {
   "cell_type": "code",
   "execution_count": 10,
   "outputs": [],
   "source": [
    "#| hide\n",
    "\n",
    "from itertools import product\n",
    "\n",
    "countries = [\"india\", \"indonesia\"]\n",
    "targets = [\"meta_impressions\", \"yt_impressions\"]\n",
    "\n",
    "files = [\n",
    "    \"1_feature_eng_platform_focus.ipynb\",\n",
    "    \"2_feature_eng_blanket.ipynb\",\n",
    "    \"3_base_feature_selection.ipynb\",\n",
    "    # \"4_feature_eng_linear_transformation.ipynb\",\n",
    "    # \"5_feature_selection.ipynb\",\n",
    "    # \"6_manual_feature_selection.ipynb\",\n",
    "    # \"7_lrl_comp_split.ipynb\",\n",
    "]\n",
    "\n",
    "run_with_countries = files\n",
    "run_with_targets = [\n",
    "    \"3_base_feature_selection.ipynb\",\n",
    "    # \"4_feature_eng_linear_transformation.ipynb\",\n",
    "    # \"5_feature_selection.ipynb\",\n",
    "    # \"6_manual_feature_selection.ipynb\",\n",
    "]\n",
    "\n",
    "ppl = Pipeline()\n",
    "\n"
   ],
   "metadata": {
    "collapsed": false,
    "ExecuteTime": {
     "end_time": "2023-09-21T04:25:52.132809Z",
     "start_time": "2023-09-21T04:25:52.125387Z"
    }
   },
   "id": "69106ed723ddd8fa"
  },
  {
   "cell_type": "code",
   "execution_count": 11,
   "outputs": [
    {
     "data": {
      "text/plain": "\u001B[1m\n================================\n            PIPELINE            \n================================\n\n\u001B[0m\u001B[1mSTEP 1\u001B[0m\n\tpath: ./1_feature_eng_platform_focus.ipynb\n\tvars: {'country': 'india'}\n\n\u001B[1mSTEP 2\u001B[0m\n\tpath: ./1_feature_eng_platform_focus.ipynb\n\tvars: {'country': 'indonesia'}\n\n\u001B[1mSTEP 3\u001B[0m\n\tpath: ./2_feature_eng_blanket.ipynb\n\tvars: {'country': 'india'}\n\n\u001B[1mSTEP 4\u001B[0m\n\tpath: ./2_feature_eng_blanket.ipynb\n\tvars: {'country': 'indonesia'}\n\n\u001B[1mSTEP 5\u001B[0m\n\tpath: ./3_base_feature_selection.ipynb\n\tvars: {'country': 'india', 'target': 'meta_impressions'}\n\n\u001B[1mSTEP 6\u001B[0m\n\tpath: ./3_base_feature_selection.ipynb\n\tvars: {'country': 'india', 'target': 'yt_impressions'}\n\n\u001B[1mSTEP 7\u001B[0m\n\tpath: ./3_base_feature_selection.ipynb\n\tvars: {'country': 'indonesia', 'target': 'meta_impressions'}\n\n\u001B[1mSTEP 8\u001B[0m\n\tpath: ./3_base_feature_selection.ipynb\n\tvars: {'country': 'indonesia', 'target': 'yt_impressions'}\n\n\u001B[1m================================\u001B[0m"
     },
     "execution_count": 11,
     "metadata": {},
     "output_type": "execute_result"
    }
   ],
   "source": [
    "#| hide\n",
    "\n",
    "\n",
    "for file in files:\n",
    "    l = []\n",
    "    l += [countries] if file in run_with_countries else [[None]]\n",
    "    l += [targets] if file in run_with_targets else [[None]]\n",
    "    for country, target in product(*l):\n",
    "        env = {\"country\": country}\n",
    "        if target:\n",
    "            env[\"target\"] = target\n",
    "        ppl.add_step(StepRunner(file, variables=env))\n",
    "\n",
    "ppl"
   ],
   "metadata": {
    "collapsed": false,
    "ExecuteTime": {
     "end_time": "2023-09-21T04:25:52.137563Z",
     "start_time": "2023-09-21T04:25:52.133307Z"
    }
   },
   "id": "9f4bb84edb5c28a"
  },
  {
   "cell_type": "code",
   "execution_count": 12,
   "outputs": [
    {
     "name": "stdout",
     "output_type": "stream",
     "text": [
      "\u001B[1m\n",
      "================================\n",
      "            PIPELINE            \n",
      "================================\n",
      "\n",
      "\u001B[0m\u001B[1mSTEP 1\u001B[0m\n",
      "\tpath: ./1_feature_eng_platform_focus.ipynb\n",
      "\tvars: {'country': 'india'}\n",
      "\n",
      "\u001B[1mSTEP 2\u001B[0m\n",
      "\tpath: ./1_feature_eng_platform_focus.ipynb\n",
      "\tvars: {'country': 'indonesia'}\n",
      "\n",
      "\u001B[1mSTEP 3\u001B[0m\n",
      "\tpath: ./2_feature_eng_blanket.ipynb\n",
      "\tvars: {'country': 'india'}\n",
      "\n",
      "\u001B[1mSTEP 4\u001B[0m\n",
      "\tpath: ./2_feature_eng_blanket.ipynb\n",
      "\tvars: {'country': 'indonesia'}\n",
      "\n",
      "\u001B[1mSTEP 5\u001B[0m\n",
      "\tpath: ./3_base_feature_selection.ipynb\n",
      "\tvars: {'country': 'india', 'target': 'meta_impressions'}\n",
      "\n",
      "\u001B[1mSTEP 6\u001B[0m\n",
      "\tpath: ./3_base_feature_selection.ipynb\n",
      "\tvars: {'country': 'india', 'target': 'yt_impressions'}\n",
      "\n",
      "\u001B[1mSTEP 7\u001B[0m\n",
      "\tpath: ./3_base_feature_selection.ipynb\n",
      "\tvars: {'country': 'indonesia', 'target': 'meta_impressions'}\n",
      "\n",
      "\u001B[1mSTEP 8\u001B[0m\n",
      "\tpath: ./3_base_feature_selection.ipynb\n",
      "\tvars: {'country': 'indonesia', 'target': 'yt_impressions'}\n",
      "\n",
      "\u001B[1m================================\u001B[0m\n"
     ]
    }
   ],
   "source": [
    "#| hide\n",
    "\n",
    "print(ppl)\n"
   ],
   "metadata": {
    "collapsed": false,
    "ExecuteTime": {
     "end_time": "2023-09-21T04:25:52.141892Z",
     "start_time": "2023-09-21T04:25:52.138023Z"
    }
   },
   "id": "935143bc9d58c6f"
  },
  {
   "cell_type": "code",
   "execution_count": 13,
   "outputs": [],
   "source": [
    "#| hide\n"
   ],
   "metadata": {
    "collapsed": false,
    "ExecuteTime": {
     "end_time": "2023-09-21T04:25:52.146319Z",
     "start_time": "2023-09-21T04:25:52.142572Z"
    }
   },
   "id": "328cf0932645e37f"
  },
  {
   "cell_type": "code",
   "execution_count": 14,
   "outputs": [],
   "source": [
    "#| hide"
   ],
   "metadata": {
    "collapsed": false,
    "ExecuteTime": {
     "end_time": "2023-09-21T04:25:52.167654Z",
     "start_time": "2023-09-21T04:25:52.148350Z"
    }
   },
   "id": "e23adcadb1c1d1b9"
  },
  {
   "cell_type": "code",
   "execution_count": 15,
   "outputs": [],
   "source": [
    "#| hide\n"
   ],
   "metadata": {
    "collapsed": false,
    "ExecuteTime": {
     "end_time": "2023-09-21T04:25:52.168089Z",
     "start_time": "2023-09-21T04:25:52.150658Z"
    }
   },
   "id": "c44b47b2141a2bab"
  },
  {
   "cell_type": "code",
   "execution_count": 16,
   "outputs": [],
   "source": [
    "#| hide\n",
    "import nbdev; nbdev.nbdev_export()"
   ],
   "metadata": {
    "collapsed": false,
    "ExecuteTime": {
     "end_time": "2023-09-21T04:25:52.253615Z",
     "start_time": "2023-09-21T04:25:52.153428Z"
    }
   },
   "id": "92f9f7e9172436c9"
  }
 ],
 "metadata": {
  "kernelspec": {
   "display_name": "Python 3",
   "language": "python",
   "name": "python3"
  },
  "language_info": {
   "codemirror_mode": {
    "name": "ipython",
    "version": 2
   },
   "file_extension": ".py",
   "mimetype": "text/x-python",
   "name": "python",
   "nbconvert_exporter": "python",
   "pygments_lexer": "ipython2",
   "version": "2.7.6"
  }
 },
 "nbformat": 4,
 "nbformat_minor": 5
}
