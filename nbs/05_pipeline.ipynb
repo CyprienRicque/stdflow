{
 "cells": [
  {
   "cell_type": "markdown",
   "id": "3509ebf96de2bd54",
   "metadata": {},
   "source": [
    "# Pipeline \n",
    "\n",
    "> Pipeline class using Notebooks as steps with StepRunner. see: [StepRunner]() "
   ]
  },
  {
   "cell_type": "code",
   "execution_count": null,
   "id": "d80d4b7290461a42",
   "metadata": {},
   "outputs": [],
   "source": [
    "#| default_exp pipeline "
   ]
  },
  {
   "cell_type": "code",
   "execution_count": null,
   "id": "6c25d15f40804805",
   "metadata": {},
   "outputs": [],
   "source": [
    "#| export\n",
    "\n",
    "from __future__ import annotations"
   ]
  },
  {
   "cell_type": "code",
   "execution_count": null,
   "id": "e87ba6cf08491d1",
   "metadata": {},
   "outputs": [],
   "source": [
    "#| hide\n",
    "from nbdev.showdoc import *"
   ]
  },
  {
   "cell_type": "code",
   "execution_count": null,
   "id": "e9d500aa1936ad93",
   "metadata": {},
   "outputs": [],
   "source": [
    "#| export\n",
    "\n",
    "import logging\n",
    "from typing import List\n",
    "\n",
    "from colorama import Style\n",
    "from tqdm.notebook import tqdm\n",
    "\n",
    "from stdflow import StepRunner\n",
    "from stdflow.stdflow_utils.bt_print import print_header\n"
   ]
  },
  {
   "cell_type": "code",
   "execution_count": null,
   "id": "5f95f776d600aeeb",
   "metadata": {},
   "outputs": [],
   "source": [
    "#| export\n",
    "\n",
    "logging.basicConfig()\n",
    "logger = logging.getLogger(__name__)\n",
    "logger.setLevel(logging.WARNING)\n"
   ]
  },
  {
   "cell_type": "code",
   "execution_count": null,
   "id": "26d727dbe3a80c02",
   "metadata": {},
   "outputs": [],
   "source": [
    "#| export\n",
    "\n",
    "class Pipeline:\n",
    "    \"Create pipeline of notebooks with optional variables\"\n",
    "    def __init__(self, steps: List[StepRunner] | StepRunner = None, *args):\n",
    "        steps = [steps] if isinstance(steps, StepRunner) else steps or []\n",
    "        steps += list(args) if args else []\n",
    "        self.steps: List[StepRunner] = steps or []\n",
    "\n",
    "    def verify(self) -> bool:\n",
    "        \"Verify that all steps are valid\"\n",
    "        is_valid = True\n",
    "        for step in self.steps:\n",
    "            is_valid = is_valid and step.is_valid()\n",
    "        return is_valid\n",
    "\n",
    "    def add_step(\n",
    "            self, \n",
    "            step: StepRunner | str = None, # StepRunner or path to notebook\n",
    "            **kwargs # kwargs to pass to StepRunner\n",
    "    ):\n",
    "        \"Add step to pipeline\"\n",
    "        if isinstance(step, str):\n",
    "            kwargs[\"file_path\"] = step\n",
    "            step = StepRunner(**kwargs)\n",
    "        self.steps.append(step)\n",
    "        return self\n",
    "\n",
    "    def run(\n",
    "            self, \n",
    "            progress_bar: bool = False,  # Whether to show progress bar\n",
    "            **kwargs  # kwargs to pass to StepRunner.run\n",
    "    ):\n",
    "        \"Run pipeline\"\n",
    "        longest_worker_path_adjusted = max([len(step.worker_path) for step in self.steps])\n",
    "        min_blank = 10\n",
    "\n",
    "        it = enumerate(self.steps)\n",
    "        if progress_bar:\n",
    "            try:\n",
    "                it = tqdm(enumerate(self.steps), desc=\"Pipeline\")\n",
    "            except ImportError as e:\n",
    "                logger.warning(f\"Could not use tqdm. {e.msg}\")\n",
    "                progress_bar = False\n",
    "\n",
    "        for i, step in it:\n",
    "            if progress_bar:\n",
    "                it.desc = f\"Pipeline: {step.worker_path}\"\n",
    "\n",
    "            text = step.worker_path\n",
    "            print_header(text, i, longest_worker_path_adjusted, min_blank)\n",
    "            print(f\"Variables: {step.env_vars}\")\n",
    "            # Run step\n",
    "            step.run(verbose=False, **kwargs)\n",
    "\n",
    "            print(\"\", end=\"\\n\\n\")\n",
    "\n",
    "    def __call__(\n",
    "            self,\n",
    "            progress_bar: bool = False,  # Whether to show progress bar\n",
    "            **kwargs  # kwargs to pass to StepRunner.run\n",
    "    ):\n",
    "        \"Run pipeline\"\n",
    "        self.run(\n",
    "            progress_bar=progress_bar,\n",
    "            **kwargs\n",
    "        )\n",
    "\n",
    "    def __str__(self):\n",
    "        s = (\n",
    "            Style.BRIGHT\n",
    "            + \"\"\"\n",
    "================================\n",
    "            PIPELINE            \n",
    "================================\n",
    "\n",
    "\"\"\"\n",
    "            + Style.RESET_ALL\n",
    "        )\n",
    "\n",
    "        for i, step in enumerate(self.steps):\n",
    "            s += f\"\"\"{Style.BRIGHT}STEP {i+1}{Style.RESET_ALL}\n",
    "\\tpath: {step.worker_path}\n",
    "\\tvars: {step.env_vars}\n",
    "\n",
    "\"\"\"\n",
    "        s += f\"\"\"{Style.BRIGHT}================================{Style.RESET_ALL}\\n\"\"\"\n",
    "        return s\n",
    "\n",
    "    def __repr__(self):\n",
    "        return str(self)\n"
   ]
  },
  {
   "cell_type": "code",
   "execution_count": null,
   "id": "c843b6d4f50f6b4a",
   "metadata": {},
   "outputs": [
    {
     "data": {
      "text/markdown": [
       "---\n",
       "\n",
       "[source](https://github.com/CyprienRicque/stdflow/blob/main/stdflow/pipeline.py#L41){target=\"_blank\" style=\"float:right; font-size:smaller\"}\n",
       "\n",
       "### Pipeline.add_step\n",
       "\n",
       ">      Pipeline.add_step (step:Union[stdflow.step_runner.StepRunner,str]=None,\n",
       ">                         **kwargs)\n",
       "\n",
       "Add step to pipeline\n",
       "\n",
       "|    | **Type** | **Default** | **Details** |\n",
       "| -- | -------- | ----------- | ----------- |\n",
       "| step | StepRunner \\| str | None | StepRunner or path to notebook |\n",
       "| kwargs |  |  |  |"
      ],
      "text/plain": [
       "---\n",
       "\n",
       "[source](https://github.com/CyprienRicque/stdflow/blob/main/stdflow/pipeline.py#L41){target=\"_blank\" style=\"float:right; font-size:smaller\"}\n",
       "\n",
       "### Pipeline.add_step\n",
       "\n",
       ">      Pipeline.add_step (step:Union[stdflow.step_runner.StepRunner,str]=None,\n",
       ">                         **kwargs)\n",
       "\n",
       "Add step to pipeline\n",
       "\n",
       "|    | **Type** | **Default** | **Details** |\n",
       "| -- | -------- | ----------- | ----------- |\n",
       "| step | StepRunner \\| str | None | StepRunner or path to notebook |\n",
       "| kwargs |  |  |  |"
      ]
     },
     "execution_count": null,
     "metadata": {},
     "output_type": "execute_result"
    }
   ],
   "source": [
    "show_doc(Pipeline.add_step)"
   ]
  },
  {
   "cell_type": "code",
   "execution_count": null,
   "id": "70e67b5c41c6e625",
   "metadata": {},
   "outputs": [
    {
     "data": {
      "text/markdown": [
       "---\n",
       "\n",
       "[source](https://github.com/CyprienRicque/stdflow/blob/main/stdflow/pipeline.py#L34){target=\"_blank\" style=\"float:right; font-size:smaller\"}\n",
       "\n",
       "### Pipeline.verify\n",
       "\n",
       ">      Pipeline.verify ()\n",
       "\n",
       "Verify that all steps are valid"
      ],
      "text/plain": [
       "---\n",
       "\n",
       "[source](https://github.com/CyprienRicque/stdflow/blob/main/stdflow/pipeline.py#L34){target=\"_blank\" style=\"float:right; font-size:smaller\"}\n",
       "\n",
       "### Pipeline.verify\n",
       "\n",
       ">      Pipeline.verify ()\n",
       "\n",
       "Verify that all steps are valid"
      ]
     },
     "execution_count": null,
     "metadata": {},
     "output_type": "execute_result"
    }
   ],
   "source": [
    "show_doc(Pipeline.verify)"
   ]
  },
  {
   "cell_type": "code",
   "execution_count": null,
   "id": "6902e543403e8f6b",
   "metadata": {},
   "outputs": [
    {
     "data": {
      "text/markdown": [
       "---\n",
       "\n",
       "[source](https://github.com/CyprienRicque/stdflow/blob/main/stdflow/pipeline.py#L53){target=\"_blank\" style=\"float:right; font-size:smaller\"}\n",
       "\n",
       "### Pipeline.run\n",
       "\n",
       ">      Pipeline.run (progress_bar:bool=False, **kwargs)\n",
       "\n",
       "Run pipeline\n",
       "\n",
       "|    | **Type** | **Default** | **Details** |\n",
       "| -- | -------- | ----------- | ----------- |\n",
       "| progress_bar | bool | False | Whether to show progress bar |\n",
       "| kwargs |  |  |  |"
      ],
      "text/plain": [
       "---\n",
       "\n",
       "[source](https://github.com/CyprienRicque/stdflow/blob/main/stdflow/pipeline.py#L53){target=\"_blank\" style=\"float:right; font-size:smaller\"}\n",
       "\n",
       "### Pipeline.run\n",
       "\n",
       ">      Pipeline.run (progress_bar:bool=False, **kwargs)\n",
       "\n",
       "Run pipeline\n",
       "\n",
       "|    | **Type** | **Default** | **Details** |\n",
       "| -- | -------- | ----------- | ----------- |\n",
       "| progress_bar | bool | False | Whether to show progress bar |\n",
       "| kwargs |  |  |  |"
      ]
     },
     "execution_count": null,
     "metadata": {},
     "output_type": "execute_result"
    }
   ],
   "source": [
    "show_doc(Pipeline.run)"
   ]
  },
  {
   "cell_type": "code",
   "execution_count": null,
   "id": "d598f3bbdb1fa90",
   "metadata": {},
   "outputs": [
    {
     "data": {
      "text/markdown": [
       "---\n",
       "\n",
       "[source](https://github.com/CyprienRicque/stdflow/blob/main/stdflow/pipeline.py#L82){target=\"_blank\" style=\"float:right; font-size:smaller\"}\n",
       "\n",
       "### Pipeline.__call__\n",
       "\n",
       ">      Pipeline.__call__ (progress_bar:bool=False, **kwargs)\n",
       "\n",
       "Run pipeline\n",
       "\n",
       "|    | **Type** | **Default** | **Details** |\n",
       "| -- | -------- | ----------- | ----------- |\n",
       "| progress_bar | bool | False | Whether to show progress bar |\n",
       "| kwargs |  |  |  |"
      ],
      "text/plain": [
       "---\n",
       "\n",
       "[source](https://github.com/CyprienRicque/stdflow/blob/main/stdflow/pipeline.py#L82){target=\"_blank\" style=\"float:right; font-size:smaller\"}\n",
       "\n",
       "### Pipeline.__call__\n",
       "\n",
       ">      Pipeline.__call__ (progress_bar:bool=False, **kwargs)\n",
       "\n",
       "Run pipeline\n",
       "\n",
       "|    | **Type** | **Default** | **Details** |\n",
       "| -- | -------- | ----------- | ----------- |\n",
       "| progress_bar | bool | False | Whether to show progress bar |\n",
       "| kwargs |  |  |  |"
      ]
     },
     "execution_count": null,
     "metadata": {},
     "output_type": "execute_result"
    }
   ],
   "source": [
    "show_doc(Pipeline.__call__)"
   ]
  },
  {
   "cell_type": "code",
   "execution_count": null,
   "id": "63725f1ec5493f1e",
   "metadata": {},
   "outputs": [
    {
     "name": "stdout",
     "output_type": "stream",
     "text": [
      "\u001b[1m================================================================================\u001b[0m\n",
      "\u001b[1m    01.          ../demo_project/notebooks/_00_experiments/check_hello.ipynb\u001b[0m\n",
      "\u001b[1m================================================================================\u001b[0m\u001b[0m\n",
      "Variables: {'hello': 'world!'}\n",
      "\tPath: check_hello.ipynb\n",
      "\tDuration: 0 days 00:00:00.542960\n",
      "\tEnv: {'hello': 'world!'}\n",
      "\u001b[1m\u001b[32mNotebook executed successfully.\u001b[0m\n",
      "\n",
      "\n"
     ]
    }
   ],
   "source": [
    "#| hide\n",
    "    \n",
    "ppl = Pipeline()\n",
    "ppl.add_step(step=\"../demo_project/notebooks/_00_experiments/check_hello.ipynb\", variables={\"hello\": \"world!\"})\n",
    "ppl.run()\n"
   ]
  },
  {
   "cell_type": "code",
   "execution_count": null,
   "id": "69106ed723ddd8fa",
   "metadata": {},
   "outputs": [],
   "source": [
    "#| hide\n",
    "\n",
    "from itertools import product\n",
    "\n",
    "countries = [\"india\", \"indonesia\"]\n",
    "targets = [\"meta_impressions\", \"yt_impressions\"]\n",
    "\n",
    "files = [\n",
    "    \"1_feature_eng_platform_focus.ipynb\",\n",
    "    \"2_feature_eng_blanket.ipynb\",\n",
    "    \"3_base_feature_selection.ipynb\",\n",
    "    # \"4_feature_eng_linear_transformation.ipynb\",\n",
    "    # \"5_feature_selection.ipynb\",\n",
    "    # \"6_manual_feature_selection.ipynb\",\n",
    "    # \"7_lrl_comp_split.ipynb\",\n",
    "]\n",
    "\n",
    "run_with_countries = files\n",
    "run_with_targets = [\n",
    "    \"3_base_feature_selection.ipynb\",\n",
    "    # \"4_feature_eng_linear_transformation.ipynb\",\n",
    "    # \"5_feature_selection.ipynb\",\n",
    "    # \"6_manual_feature_selection.ipynb\",\n",
    "]\n",
    "\n",
    "ppl = Pipeline()\n",
    "\n"
   ]
  },
  {
   "cell_type": "code",
   "execution_count": null,
   "id": "9f4bb84edb5c28a",
   "metadata": {},
   "outputs": [
    {
     "data": {
      "text/plain": [
       "\u001b[1m\n",
       "================================\n",
       "            PIPELINE            \n",
       "================================\n",
       "\n",
       "\u001b[0m\u001b[1mSTEP 1\u001b[0m\n",
       "\tpath: ./1_feature_eng_platform_focus.ipynb\n",
       "\tvars: {'country': 'india'}\n",
       "\n",
       "\u001b[1mSTEP 2\u001b[0m\n",
       "\tpath: ./1_feature_eng_platform_focus.ipynb\n",
       "\tvars: {'country': 'indonesia'}\n",
       "\n",
       "\u001b[1mSTEP 3\u001b[0m\n",
       "\tpath: ./2_feature_eng_blanket.ipynb\n",
       "\tvars: {'country': 'india'}\n",
       "\n",
       "\u001b[1mSTEP 4\u001b[0m\n",
       "\tpath: ./2_feature_eng_blanket.ipynb\n",
       "\tvars: {'country': 'indonesia'}\n",
       "\n",
       "\u001b[1mSTEP 5\u001b[0m\n",
       "\tpath: ./3_base_feature_selection.ipynb\n",
       "\tvars: {'country': 'india', 'target': 'meta_impressions'}\n",
       "\n",
       "\u001b[1mSTEP 6\u001b[0m\n",
       "\tpath: ./3_base_feature_selection.ipynb\n",
       "\tvars: {'country': 'india', 'target': 'yt_impressions'}\n",
       "\n",
       "\u001b[1mSTEP 7\u001b[0m\n",
       "\tpath: ./3_base_feature_selection.ipynb\n",
       "\tvars: {'country': 'indonesia', 'target': 'meta_impressions'}\n",
       "\n",
       "\u001b[1mSTEP 8\u001b[0m\n",
       "\tpath: ./3_base_feature_selection.ipynb\n",
       "\tvars: {'country': 'indonesia', 'target': 'yt_impressions'}\n",
       "\n",
       "\u001b[1m================================\u001b[0m"
      ]
     },
     "execution_count": null,
     "metadata": {},
     "output_type": "execute_result"
    }
   ],
   "source": [
    "#| hide\n",
    "\n",
    "\n",
    "for file in files:\n",
    "    l = []\n",
    "    l += [countries] if file in run_with_countries else [[None]]\n",
    "    l += [targets] if file in run_with_targets else [[None]]\n",
    "    for country, target in product(*l):\n",
    "        env = {\"country\": country}\n",
    "        if target:\n",
    "            env[\"target\"] = target\n",
    "        ppl.add_step(StepRunner(file, variables=env))\n",
    "\n",
    "ppl"
   ]
  },
  {
   "cell_type": "code",
   "execution_count": null,
   "id": "935143bc9d58c6f",
   "metadata": {},
   "outputs": [
    {
     "name": "stdout",
     "output_type": "stream",
     "text": [
      "\u001b[1m\n",
      "================================\n",
      "            PIPELINE            \n",
      "================================\n",
      "\n",
      "\u001b[0m\u001b[1mSTEP 1\u001b[0m\n",
      "\tpath: ./1_feature_eng_platform_focus.ipynb\n",
      "\tvars: {'country': 'india'}\n",
      "\n",
      "\u001b[1mSTEP 2\u001b[0m\n",
      "\tpath: ./1_feature_eng_platform_focus.ipynb\n",
      "\tvars: {'country': 'indonesia'}\n",
      "\n",
      "\u001b[1mSTEP 3\u001b[0m\n",
      "\tpath: ./2_feature_eng_blanket.ipynb\n",
      "\tvars: {'country': 'india'}\n",
      "\n",
      "\u001b[1mSTEP 4\u001b[0m\n",
      "\tpath: ./2_feature_eng_blanket.ipynb\n",
      "\tvars: {'country': 'indonesia'}\n",
      "\n",
      "\u001b[1mSTEP 5\u001b[0m\n",
      "\tpath: ./3_base_feature_selection.ipynb\n",
      "\tvars: {'country': 'india', 'target': 'meta_impressions'}\n",
      "\n",
      "\u001b[1mSTEP 6\u001b[0m\n",
      "\tpath: ./3_base_feature_selection.ipynb\n",
      "\tvars: {'country': 'india', 'target': 'yt_impressions'}\n",
      "\n",
      "\u001b[1mSTEP 7\u001b[0m\n",
      "\tpath: ./3_base_feature_selection.ipynb\n",
      "\tvars: {'country': 'indonesia', 'target': 'meta_impressions'}\n",
      "\n",
      "\u001b[1mSTEP 8\u001b[0m\n",
      "\tpath: ./3_base_feature_selection.ipynb\n",
      "\tvars: {'country': 'indonesia', 'target': 'yt_impressions'}\n",
      "\n",
      "\u001b[1m================================\u001b[0m\n",
      "\n"
     ]
    }
   ],
   "source": [
    "#| hide\n",
    "\n",
    "print(ppl)\n"
   ]
  },
  {
   "cell_type": "code",
   "execution_count": null,
   "id": "328cf0932645e37f",
   "metadata": {},
   "outputs": [],
   "source": [
    "#| hide\n"
   ]
  },
  {
   "cell_type": "code",
   "execution_count": null,
   "id": "e23adcadb1c1d1b9",
   "metadata": {},
   "outputs": [],
   "source": [
    "#| hide"
   ]
  },
  {
   "cell_type": "code",
   "execution_count": null,
   "id": "c44b47b2141a2bab",
   "metadata": {},
   "outputs": [],
   "source": [
    "#| hide\n"
   ]
  },
  {
   "cell_type": "code",
   "execution_count": null,
   "id": "92f9f7e9172436c9",
   "metadata": {},
   "outputs": [],
   "source": [
    "#| hide\n",
    "import nbdev; nbdev.nbdev_export()"
   ]
  }
 ],
 "metadata": {
  "kernelspec": {
   "display_name": "python3",
   "language": "python",
   "name": "python3"
  }
 },
 "nbformat": 4,
 "nbformat_minor": 5
}
