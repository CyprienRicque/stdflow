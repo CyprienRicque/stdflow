{
 "cells": [
  {
   "cell_type": "markdown",
   "metadata": {},
   "source": [
    "# Configuration \n",
    "\n",
    "> Basic String configurations"
   ]
  },
  {
   "cell_type": "code",
   "execution_count": 1,
   "metadata": {
    "ExecuteTime": {
     "end_time": "2023-09-21T03:44:02.612263Z",
     "start_time": "2023-09-21T03:44:02.608672Z"
    }
   },
   "outputs": [],
   "source": [
    "#| default_exp config "
   ]
  },
  {
   "cell_type": "code",
   "execution_count": 2,
   "metadata": {
    "ExecuteTime": {
     "end_time": "2023-09-21T03:44:02.689821Z",
     "start_time": "2023-09-21T03:44:02.616410Z"
    }
   },
   "outputs": [],
   "source": [
    "#| hide\n",
    "from nbdev.showdoc import *"
   ]
  },
  {
   "cell_type": "code",
   "execution_count": 3,
   "outputs": [],
   "source": [
    "#| export\n",
    "\n",
    "DEFAULT_DATE_VERSION_FORMAT = \"%Y%m%d%H%M\"\n",
    "\n",
    "VERSION_PREFIX = \"v_\"\n",
    "\n",
    "STEP_PREFIX = \"step_\"\n",
    "\n",
    "\n",
    "DEFAULT = \"<<DEFAULT>>\"\n",
    "INFER = \"<<INFER>>\"\n"
   ],
   "metadata": {
    "collapsed": false,
    "ExecuteTime": {
     "end_time": "2023-09-21T03:44:02.693671Z",
     "start_time": "2023-09-21T03:44:02.691011Z"
    }
   }
  },
  {
   "cell_type": "code",
   "execution_count": 6,
   "outputs": [],
   "source": [
    "#| export\n",
    "\n",
    "prefix = \"stdflow__\"\n",
    "\n",
    "PATHS_ENV_KEY = f\"{prefix}run__files_path\"\n",
    "RUN_ENV_KEY = f\"{prefix}run\"\n"
   ],
   "metadata": {
    "collapsed": false,
    "ExecuteTime": {
     "end_time": "2023-09-21T03:45:41.594755Z",
     "start_time": "2023-09-21T03:45:41.592157Z"
    }
   }
  },
  {
   "cell_type": "code",
   "execution_count": 7,
   "metadata": {
    "ExecuteTime": {
     "end_time": "2023-09-21T03:45:41.776831Z",
     "start_time": "2023-09-21T03:45:41.752932Z"
    }
   },
   "outputs": [],
   "source": [
    "#| hide\n",
    "import nbdev; nbdev.nbdev_export()"
   ]
  },
  {
   "cell_type": "code",
   "execution_count": 5,
   "outputs": [],
   "source": [],
   "metadata": {
    "collapsed": false,
    "ExecuteTime": {
     "end_time": "2023-09-21T03:44:02.741738Z",
     "start_time": "2023-09-21T03:44:02.739665Z"
    }
   }
  }
 ],
 "metadata": {
  "kernelspec": {
   "display_name": "python3",
   "language": "python",
   "name": "python3"
  }
 },
 "nbformat": 4,
 "nbformat_minor": 4
}
