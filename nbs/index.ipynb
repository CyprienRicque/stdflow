{
 "cells": [
  {
   "cell_type": "markdown",
   "metadata": {},
   "source": [
    "# stdflow\n",
    "\n",
    "> Data flow tool that transform your notebooks and python files into pipeline steps by standardizing the data input / output."
   ]
  },
  {
   "cell_type": "markdown",
   "metadata": {},
   "source": [
    "Data flow tool that transform your notebooks and python files into pipeline steps by standardizing the data input /\n",
    "output. (for data science projects)\n",
    "\n",
    "Create clean data flow pipelines just by replacing your `pd.read_csv()` and `df.to_csv()` by `sf.load()` and `sf.save()`.\n",
    "\n",
    "[Documentation](https://cyprienricque.github.io/stdflow/)\n"
   ]
  },
  {
   "cell_type": "markdown",
   "metadata": {},
   "source": [
    "## Install"
   ]
  },
  {
   "cell_type": "markdown",
   "metadata": {},
   "source": [
    "```sh\n",
    "pip install stdflow\n",
    "```"
   ]
  },
  {
   "cell_type": "markdown",
   "metadata": {},
   "source": [
    "## How to use"
   ]
  },
  {
   "cell_type": "markdown",
   "metadata": {},
   "source": [
    "### Pipelines"
   ]
  },
  {
   "cell_type": "code",
   "execution_count": null,
   "metadata": {},
   "outputs": [
    {
     "data": {
      "text/plain": "\u001b[1m\n================================\n            PIPELINE            \n================================\n\n\u001b[0m\u001b[1mSTEP 1\u001b[0m\n\tpath: ../demo_project/notebooks/01_ingestion/countries.ipynb\n\tvars: {}\n\n\u001b[1mSTEP 2\u001b[0m\n\tpath: ../demo_project/notebooks/01_ingestion/world_happiness.ipynb\n\tvars: {}\n\n\u001b[1m================================\u001b[0m"
     },
     "execution_count": null,
     "metadata": {},
     "output_type": "execute_result"
    }
   ],
   "source": [
    "from stdflow import StepRunner\n",
    "from stdflow.pipeline import Pipeline\n",
    "\n",
    "# Pipeline with 2 steps\n",
    "\n",
    "dm = \"../demo_project/notebooks/\"\n",
    "\n",
    "ingestion_ppl = Pipeline([\n",
    "    StepRunner(dm + \"01_ingestion/countries.ipynb\"), \n",
    "    StepRunner(dm + \"01_ingestion/world_happiness.ipynb\")\n",
    "])\n",
    "\n",
    "# === OR ===\n",
    "ingestion_ppl = Pipeline(\n",
    "    StepRunner(dm + \"01_ingestion/countries.ipynb\"), \n",
    "    StepRunner(dm + \"01_ingestion/world_happiness.ipynb\")\n",
    ")\n",
    "\n",
    "# === OR ===\n",
    "ingestion_ppl = Pipeline()\n",
    "ingestion_ppl.add_step(StepRunner(dm + \"01_ingestion/countries.ipynb\"))\n",
    "# OR\n",
    "ingestion_ppl.add_step(dm + \"01_ingestion/world_happiness.ipynb\")\n",
    "\n",
    "\n",
    "ingestion_ppl\n"
   ]
  },
  {
   "cell_type": "markdown",
   "metadata": {},
   "source": [
    "Run the pipeline"
   ]
  },
  {
   "cell_type": "code",
   "execution_count": null,
   "metadata": {},
   "outputs": [
    {
     "name": "stdout",
     "output_type": "stream",
     "text": [
      "\u001b[1m=================================================================================\u001b[0m\n",
      "\u001b[1m    01.                ../demo_project/notebooks/01_ingestion/countries.ipynb\u001b[0m\n",
      "\u001b[1m=================================================================================\u001b[0m\u001b[0m\n",
      "Variables: {}\n"
     ]
    }
   ],
   "source": [
    "ingestion_ppl.run()"
   ]
  },
  {
   "cell_type": "markdown",
   "metadata": {},
   "source": [
    "## Load and save data\n",
    "### Option 1: Specify All Parameters\n"
   ]
  },
  {
   "cell_type": "code",
   "execution_count": null,
   "metadata": {},
   "outputs": [],
   "source": [
    "import stdflow as sf\n",
    "import pandas as pd\n",
    "\n",
    "\n",
    "# load data from ../demo_project/data/countries/step_loaded/v_202309212245/countries.csv\n",
    "df = sf.load(\n",
    "   root=\"../demo_project/data/\",\n",
    "   attrs=['countries'],\n",
    "   step='created',\n",
    "   version=':last',  # loads last version in alphanumeric order\n",
    "   file_name='countries.csv',\n",
    "   method=pd.read_csv,  # or method='csv'\n",
    "   verbose=False,\n",
    ")\n",
    "\n",
    "# export data to ./data/raw/twitter/france/step_processed/v_1/countries.csv\n",
    "sf.save(\n",
    "   df,\n",
    "   root=\"../demo_project/data/\",\n",
    "   attrs='countries/',\n",
    "   step='loaded',\n",
    "   version='%Y-03',  # creates v_2023-03\n",
    "   file_name='countries.csv',\n",
    "   method=pd.DataFrame.to_csv,  # or method='csv'  or any function that takes the object to export as first input\n",
    ")\n",
    "\n"
   ]
  },
  {
   "cell_type": "markdown",
   "metadata": {},
   "source": [
    "Each time you perform a save, a metadata.json file is created in the folder.\n",
    "This keeps track of how your data was created and other information."
   ]
  },
  {
   "cell_type": "markdown",
   "metadata": {},
   "source": [
    "### Option 2: Use default variables"
   ]
  },
  {
   "cell_type": "code",
   "execution_count": null,
   "metadata": {},
   "outputs": [],
   "source": [
    "import stdflow as sf\n",
    "sf.reset()  # used when multiple steps are done with the same Step object (not recommended). see below\n",
    "\n",
    "# use package level default values\n",
    "sf.root = \"../demo_project/data/\"\n",
    "sf.attrs = 'countries'  # if needed use attrs_in and attrs_out\n",
    "sf.step_in = 'loaded'\n",
    "sf.step_out = 'formatted'\n",
    "\n",
    "df = sf.load()\n",
    "# ! root / attrs / step : used from default values set above\n",
    "# ! version : the last version was automatically used. default: \":last\"\n",
    "# ! file_name : the file, alone in the folder, was automatically found\n",
    "# ! method : was automatically used from the file extension\n",
    "\n",
    "sf.save(df)\n",
    "# ! root / attrs / step : used from default values set above\n",
    "# ! version: used default %Y%m%d%H%M format\n",
    "# ! file_name: used from the input (because only one file)\n",
    "# ! method : inferred from file name\n",
    "\n"
   ]
  },
  {
   "cell_type": "markdown",
   "metadata": {},
   "source": [
    "Note that everything we did at package level can be done with the Step class\n",
    "When you have multiple steps in a notebook, you can create one Step object per step.\n",
    "stdflow (sf) at package level is a singleton instance of Step."
   ]
  },
  {
   "cell_type": "code",
   "execution_count": null,
   "metadata": {},
   "outputs": [],
   "source": [
    "from stdflow import Step\n",
    "\n",
    "step = Step(\n",
    "    root=\"../demo_project/data/\",\n",
    "    attrs='countries',\n",
    "    step_in='formatted',\n",
    "    step_out='pre_processed'\n",
    ")\n",
    "# or set after\n",
    "step.root = \"../demo_project/data/\"\n",
    "# ...\n",
    "\n",
    "df = step.load(version=':last', file_name=\":auto\", verbose=True)\n",
    "\n",
    "step.save(df, verbose=True)"
   ]
  },
  {
   "cell_type": "markdown",
   "metadata": {},
   "source": [
    "Each time you perform a save, a metadata.json file is created in the folder.\n",
    "This keeps track of how your data was created and other information.\n"
   ]
  },
  {
   "cell_type": "code",
   "execution_count": null,
   "metadata": {},
   "outputs": [],
   "source": [
    "#| hide\n",
    "sf.reset()"
   ]
  },
  {
   "cell_type": "markdown",
   "metadata": {},
   "source": [
    "\n",
    "## Do not\n",
    "\n",
    "- Save in the same directory from different steps. Because this will erase metadata from the previous step.\n"
   ]
  },
  {
   "cell_type": "markdown",
   "metadata": {},
   "source": [
    "\n",
    "## Data visualization\n"
   ]
  },
  {
   "cell_type": "code",
   "execution_count": null,
   "metadata": {},
   "outputs": [],
   "source": [
    "import stdflow as sf\n",
    "\n",
    "step.save(df, verbose=True, export_viz_tool=True)"
   ]
  },
  {
   "cell_type": "markdown",
   "metadata": {},
   "source": [
    "This command exports a folder `metadata_viz` in the same folder as the data you exported.\n",
    "The metadata to display is saved in the metadata.json file.\n",
    "\n",
    "In order to display it you need to get both the file and the folder on your local pc (download if you are working on a server)\n",
    "\n",
    "Then go to the html file in your file explorer and open it. it should open in your browser and lets you upload the metadata.json file.\n"
   ]
  },
  {
   "cell_type": "markdown",
   "metadata": {},
   "source": [
    "Data flow tool that transform your notebooks and python files into pipeline steps by standardizing the data input /\n",
    "output. (for data science projects)\n",
    "\n",
    "Create clean data flow pipelines just by replacing your `pd.read_csv()` and `df.to_csv()` by `sf.load()` and `sf.save()`.\n",
    "\n"
   ]
  },
  {
   "cell_type": "markdown",
   "metadata": {},
   "source": [
    "\n",
    "## Data Organization\n"
   ]
  },
  {
   "cell_type": "markdown",
   "metadata": {},
   "source": [
    "\n",
    "### Format\n"
   ]
  },
  {
   "cell_type": "markdown",
   "metadata": {},
   "source": [
    "Data folder organization is systematic and used by the function to load and save.\n",
    "If follows this format:\n",
    "root_data_folder/attrs_1/attrs_2/.../attrs_n/step_name/version/file_name\n",
    "\n",
    "where:\n",
    "\n",
    "- root_data_folder: is the path to the root of your data folder, and is not exported in the metadata\n",
    "- attrs: information to classify your dataset (e.g. country, client, ...)\n",
    "- step_name: name of the step. always starts with `step_`\n",
    "- version: version of the step. always starts with `v_`\n",
    "- file_name: name of the file. can be anything\n",
    "\n",
    "Each folder is the output of a step. It contains a metadata.json file with information about all files in the folder\n",
    "and how it was generated.\n",
    "It can also contain a html page (if you set `html_export=True` in `save()`) that lets you visualize the pipeline and your metadata\n"
   ]
  },
  {
   "cell_type": "markdown",
   "metadata": {},
   "source": [
    "\n",
    "## Best Practices:\n",
    "- Do not use ```sf.reset``` as part of your final code\n",
    "- In one step, export only to one path (except the version). meaning for one step only one combination of attrs and step_name\n",
    "- Do not set sub-dirs within the export (i.e. version folder is the last depth). if you need similar operation\n",
    "  for different datasets, create pipelines\n"
   ]
  },
  {
   "cell_type": "code",
   "execution_count": null,
   "metadata": {},
   "outputs": [],
   "source": []
  },
  {
   "cell_type": "code",
   "execution_count": null,
   "metadata": {},
   "outputs": [],
   "source": []
  },
  {
   "cell_type": "code",
   "execution_count": null,
   "metadata": {},
   "outputs": [],
   "source": []
  },
  {
   "cell_type": "code",
   "execution_count": null,
   "metadata": {},
   "outputs": [],
   "source": []
  },
  {
   "cell_type": "code",
   "execution_count": null,
   "metadata": {},
   "outputs": [],
   "source": []
  }
 ],
 "metadata": {
  "kernelspec": {
   "display_name": "python3",
   "language": "python",
   "name": "python3"
  }
 },
 "nbformat": 4,
 "nbformat_minor": 4
}
