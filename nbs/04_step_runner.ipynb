{
 "cells": [
  {
   "cell_type": "markdown",
   "metadata": {},
   "source": [
    "# StepRunner \n",
    "\n",
    "> A simple framework for running notebooks as steps with variables"
   ]
  },
  {
   "cell_type": "code",
   "execution_count": null,
   "metadata": {},
   "outputs": [],
   "source": [
    "#| default_exp step_runner "
   ]
  },
  {
   "cell_type": "code",
   "execution_count": null,
   "metadata": {},
   "outputs": [],
   "source": [
    "#| export\n",
    "\n",
    "from __future__ import annotations"
   ]
  },
  {
   "cell_type": "code",
   "execution_count": null,
   "metadata": {},
   "outputs": [],
   "source": [
    "#| hide\n",
    "from nbdev.showdoc import *"
   ]
  },
  {
   "cell_type": "code",
   "execution_count": null,
   "metadata": {},
   "outputs": [],
   "source": [
    "#| export\n",
    "\n",
    "import logging\n",
    "import os\n",
    "import warnings\n",
    "\n",
    "from stdflow.environ_manager import FlowEnv\n",
    "from stdflow.stdflow_utils.execution import run_function, run_notebook, run_python_file\n",
    "from stdflow.stdflow_utils.bt_print import print_header\n",
    "\n",
    "try:\n",
    "    from typing import Any, Literal, Optional, Tuple, Union\n",
    "except ImportError:\n",
    "    from typing_extensions import Any, Literal, Tuple, Union\n",
    "\n"
   ]
  },
  {
   "cell_type": "code",
   "execution_count": null,
   "metadata": {},
   "outputs": [],
   "source": [
    "#| export\n",
    "\n",
    "\n",
    "logging.basicConfig()\n",
    "logger = logging.getLogger(__name__)\n",
    "logger.setLevel(logging.WARNING)\n"
   ]
  },
  {
   "cell_type": "code",
   "execution_count": null,
   "metadata": {},
   "outputs": [],
   "source": [
    "#| export\n",
    "\n",
    "class StepRunner:\n",
    "    \"\"\"\n",
    "    environment variables set by stdflow:\n",
    "    stdflow__run: if set, the step is executed from a pipeline run\n",
    "    stdflow__run__files_path: names of the files executed split by :\n",
    "    stdflow__run__ids: ids of the files executed split by :\n",
    "    stdflow__run__function_name: name of the function executed\n",
    "    stdflow__vars: variables used to run the function\n",
    "    \"\"\"\n",
    "\n",
    "    def __init__(\n",
    "        self,\n",
    "        file_path: str,\n",
    "        *,\n",
    "        workspace: str | None = None,\n",
    "        function: str | None = None,\n",
    "        variables: dict[str, Any] | None = None,\n",
    "    ):\n",
    "        if function is not None:\n",
    "            raise NotImplementedError(\"step runner for function not implemented yet\")\n",
    "        self.env = FlowEnv()\n",
    "\n",
    "        self.workspace = workspace or os.path.dirname(file_path)\n",
    "        if len(self.workspace) == 0:\n",
    "            self.workspace = \"./\"\n",
    "        # file path is relative to the workspace\n",
    "        self.path = os.path.relpath(file_path, self.workspace)\n",
    "        self.worker_path = os.path.join(self.workspace, self.path)\n",
    "\n",
    "        # self.worker_path_adjusted = self.env.get_adjusted_worker_path(self.worker_path)\n",
    "\n",
    "        self.exec_function_name = function\n",
    "\n",
    "        self.env_vars: dict = variables or {}\n",
    "\n",
    "    def run(\n",
    "        self,\n",
    "        save_notebook: bool = False,  # Saves the output of cells in the notebook if True (default: False)\n",
    "        kernel: Literal[\":current\", \":target\", \":any_available\"] | str = \":target\",  # kernel name or :current to use current kernel, :target to use kernel specified in metadata of target notebook, :any_available to use any available kernel.\n",
    "        kernels_on_fail: list | str = None,  # kernels to try if `kernel` does not exist / is not available (default: [\":current\", \"python\", \":any_available\"])\n",
    "        verbose: bool = True,\n",
    "        **kwargs,\n",
    "    ) -> str:\n",
    "        \"\"\"\n",
    "        Run the function of the pipeline\n",
    "        :arg: kernel: kernel name to use or :current to use the current kernel :target to use the kernel in the metadata\n",
    "         of the target notebook, :any_available to use any available kernel\n",
    "        :arg: kernels_on_fail: list of kernels to try if the kernel specified in kernel fails\n",
    "        :arg: save_notebook (bool): whether to save the notebook after execution\n",
    "        :arg: verbose (bool): whether to print information about the execution\n",
    "        :return: str: message about the execution\n",
    "        \"\"\"\n",
    "\n",
    "        if kernels_on_fail is None:\n",
    "            kernels_on_fail = [\":current\", \"python\", \":any_available\"]\n",
    "        # convert to list\n",
    "        if isinstance(kernels_on_fail, str):\n",
    "            kernels_on_fail = [kernels_on_fail]\n",
    "\n",
    "        if verbose and not kwargs.get(\"run_from_pipeline\", False):\n",
    "            print_header(self.worker_path)\n",
    "            print(f\"Variables: {self.env_vars}\")\n",
    "\n",
    "        if not self.is_valid():\n",
    "            raise RuntimeError(\"invalid step.\")\n",
    "\n",
    "        if self.env.running():\n",
    "            logger.debug(\"Step executed from a pipeline run\")\n",
    "\n",
    "            if self.env.path == self.path:\n",
    "                warnings.warn(\n",
    "                    f\"Infinite pipeline loop detected. Not re running the step {self.worker_path}\",\n",
    "                    category=UserWarning,\n",
    "                )\n",
    "                return \"run ignored: infinite loop detected\"\n",
    "\n",
    "        extension = os.path.splitext(self.worker_path)[1]\n",
    "\n",
    "        self.env.start_run(self.workspace, self.path, self.env_vars)\n",
    "        try:\n",
    "            if extension == \".ipynb\" and not self.exec_function_name:\n",
    "                return run_notebook(\n",
    "                    path=self.worker_path,\n",
    "                    save_notebook=save_notebook,\n",
    "                    kernel=kernel,\n",
    "                    run_path=self.workspace,\n",
    "                    env_vars=self.env_vars,\n",
    "                    kernels_on_fail=kernels_on_fail,\n",
    "                    verbose=verbose,\n",
    "                    **kwargs,\n",
    "                )\n",
    "            elif extension == \".ipynb\" and self.exec_function_name:\n",
    "                raise NotImplementedError(\n",
    "                    \"run python function in notebooks not implemented yet\"\n",
    "                )\n",
    "            elif extension == \".py\" and not self.exec_function_name:\n",
    "                # run_python_file(path=self.worker_path, env_vars=env_run, **kwargs)\n",
    "                raise NotImplementedError(\"run python file not implemented yet\")\n",
    "            elif extension == \".py\" and self.exec_function_name:\n",
    "                # run_function(self.worker_path, self._exec_function_name, env_vars=env_run, **kwargs)\n",
    "                raise NotImplementedError(\"run python function not implemented yet\")\n",
    "            else:\n",
    "                raise ValueError(f\"extension {extension} not supported\")\n",
    "        except Exception as e:\n",
    "            raise e\n",
    "        finally:\n",
    "            self.env.end_run()\n",
    "\n",
    "    def is_valid(self) -> bool:\n",
    "        \"\"\"\n",
    "        Check if the step is valid\n",
    "        :return:\n",
    "        \"\"\"\n",
    "        if not self.worker_path:\n",
    "            logger.warning(\"file_path is None. Cannot run step.\")\n",
    "            return False\n",
    "        if not os.path.exists(self.worker_path):\n",
    "            # print(\"adj\", self.worker_path_adjusted)\n",
    "            # print(\"ori\", self.worker_path)\n",
    "            # print(\"cwd\", os.getcwd())\n",
    "            logger.warning(\n",
    "                f\"file_path {self.worker_path} does not exist. Cannot run step.\\n\"\n",
    "                f\"Current working directory: {os.getcwd()}\"\n",
    "            )\n",
    "            return False\n",
    "        return True\n",
    "\n"
   ]
  },
  {
   "cell_type": "code",
   "execution_count": null,
   "metadata": {},
   "outputs": [
    {
     "data": {
      "text/markdown": [
       "---\n",
       "\n",
       "[source](https://github.com/CyprienRicque/stdflow/blob/main/stdflow/pipeline.py#L41){target=\"_blank\" style=\"float:right; font-size:smaller\"}\n",
       "\n",
       "### Pipeline.add_step\n",
       "\n",
       ">      Pipeline.add_step (step:Union[stdflow.step_runner.StepRunner,str]=None,\n",
       ">                         **kwargs)\n",
       "\n",
       "Add step to pipeline\n",
       "\n",
       "|    | **Type** | **Default** | **Details** |\n",
       "| -- | -------- | ----------- | ----------- |\n",
       "| step | StepRunner \\| str | None | StepRunner or path to notebook |\n",
       "| kwargs |  |  |  |"
      ],
      "text/plain": [
       "---\n",
       "\n",
       "[source](https://github.com/CyprienRicque/stdflow/blob/main/stdflow/pipeline.py#L41){target=\"_blank\" style=\"float:right; font-size:smaller\"}\n",
       "\n",
       "### Pipeline.add_step\n",
       "\n",
       ">      Pipeline.add_step (step:Union[stdflow.step_runner.StepRunner,str]=None,\n",
       ">                         **kwargs)\n",
       "\n",
       "Add step to pipeline\n",
       "\n",
       "|    | **Type** | **Default** | **Details** |\n",
       "| -- | -------- | ----------- | ----------- |\n",
       "| step | StepRunner \\| str | None | StepRunner or path to notebook |\n",
       "| kwargs |  |  |  |"
      ]
     },
     "execution_count": null,
     "metadata": {},
     "output_type": "execute_result"
    }
   ],
   "source": [
    "show_doc(StepRunner.run)"
   ]
  },
  {
   "cell_type": "code",
   "execution_count": null,
   "metadata": {},
   "outputs": [
    {
     "name": "stderr",
     "output_type": "stream",
     "text": [
      "DEBUG:stdflow.environ_manager:setting variables {'hello': 'world!'}\n"
     ]
    },
    {
     "name": "stdout",
     "output_type": "stream",
     "text": [
      "\u001b[1m================================================================================\u001b[0m\n",
      "\u001b[1m    __.          ../demo_project/notebooks/_00_experiments/check_hello.ipynb\u001b[0m\n",
      "\u001b[1m================================================================================\u001b[0m\u001b[0m\n",
      "Variables: {'hello': 'world!'}\n",
      "\tPath: check_hello.ipynb\n",
      "\tDuration: 0 days 00:00:00.329307\n",
      "\tEnv: {'hello': 'world!'}\n",
      "\u001b[1m\u001b[32mNotebook executed successfully.\u001b[0m\n"
     ]
    }
   ],
   "source": [
    "#| hide\n",
    "\n",
    "step = StepRunner(\"../demo_project/notebooks/_00_experiments/check_hello.ipynb\", variables={\"hello\": \"world!\"})\n",
    "\n",
    "step.run()\n"
   ]
  },
  {
   "cell_type": "code",
   "execution_count": null,
   "metadata": {},
   "outputs": [],
   "source": [
    "#| hide\n",
    "import nbdev; nbdev.nbdev_export()"
   ]
  },
  {
   "cell_type": "code",
   "execution_count": null,
   "metadata": {},
   "outputs": [],
   "source": []
  }
 ],
 "metadata": {
  "kernelspec": {
   "display_name": "python3",
   "language": "python",
   "name": "python3"
  }
 },
 "nbformat": 4,
 "nbformat_minor": 4
}
