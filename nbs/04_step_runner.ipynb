{
 "cells": [
  {
   "cell_type": "markdown",
   "metadata": {},
   "source": [
    "# StepRunner \n",
    "\n",
    "> A simple framework for running notebooks as steps with variables"
   ]
  },
  {
   "cell_type": "code",
   "execution_count": 1,
   "metadata": {
    "ExecuteTime": {
     "end_time": "2023-09-21T12:49:38.704191Z",
     "start_time": "2023-09-21T12:49:38.701030Z"
    }
   },
   "outputs": [],
   "source": [
    "#| default_exp step_runner "
   ]
  },
  {
   "cell_type": "code",
   "execution_count": 2,
   "outputs": [],
   "source": [
    "#| export\n",
    "\n",
    "from __future__ import annotations"
   ],
   "metadata": {
    "collapsed": false,
    "ExecuteTime": {
     "end_time": "2023-09-21T12:49:39.519523Z",
     "start_time": "2023-09-21T12:49:39.516170Z"
    }
   }
  },
  {
   "cell_type": "code",
   "execution_count": 3,
   "metadata": {
    "ExecuteTime": {
     "end_time": "2023-09-21T12:49:39.832032Z",
     "start_time": "2023-09-21T12:49:39.720529Z"
    }
   },
   "outputs": [],
   "source": [
    "#| hide\n",
    "from nbdev.showdoc import *"
   ]
  },
  {
   "cell_type": "code",
   "execution_count": 4,
   "outputs": [],
   "source": [
    "#| export\n",
    "\n",
    "import logging\n",
    "import os\n",
    "import warnings\n",
    "\n",
    "from stdflow.environ_manager import FlowEnv\n",
    "from stdflow.stdflow_utils.execution import run_function, run_notebook, run_python_file\n",
    "from stdflow.stdflow_utils.bt_print import print_header\n",
    "\n",
    "try:\n",
    "    from typing import Any, Literal, Optional, Tuple, Union\n",
    "except ImportError:\n",
    "    from typing_extensions import Any, Literal, Tuple, Union\n",
    "\n"
   ],
   "metadata": {
    "collapsed": false,
    "ExecuteTime": {
     "end_time": "2023-09-21T12:49:40.386012Z",
     "start_time": "2023-09-21T12:49:39.932059Z"
    }
   }
  },
  {
   "cell_type": "code",
   "execution_count": 5,
   "outputs": [],
   "source": [
    "#| export\n",
    "\n",
    "\n",
    "logging.basicConfig()\n",
    "logger = logging.getLogger(__name__)\n",
    "logger.setLevel(logging.WARNING)\n"
   ],
   "metadata": {
    "collapsed": false,
    "ExecuteTime": {
     "end_time": "2023-09-21T12:49:40.389745Z",
     "start_time": "2023-09-21T12:49:40.386839Z"
    }
   }
  },
  {
   "cell_type": "code",
   "execution_count": 6,
   "outputs": [],
   "source": [
    "#| export\n",
    "\n",
    "class StepRunner:\n",
    "    \"\"\"\n",
    "    environment variables set by stdflow:\n",
    "    stdflow__run: if set, the step is executed from a pipeline run\n",
    "    stdflow__run__files_path: names of the files executed split by :\n",
    "    stdflow__run__ids: ids of the files executed split by :\n",
    "    stdflow__run__function_name: name of the function executed\n",
    "    stdflow__vars: variables used to run the function\n",
    "    \"\"\"\n",
    "\n",
    "    def __init__(\n",
    "        self,\n",
    "        file_path: str,\n",
    "        *,\n",
    "        workspace: str | None = None,\n",
    "        function: str | None = None,\n",
    "        variables: dict[str, Any] | None = None,\n",
    "    ):\n",
    "        if function is not None:\n",
    "            raise NotImplementedError(\"step runner for function not implemented yet\")\n",
    "        self.env = FlowEnv()\n",
    "\n",
    "        self.workspace = workspace or os.path.dirname(file_path)\n",
    "        if len(self.workspace) == 0:\n",
    "            self.workspace = \"./\"\n",
    "        # file path is relative to the workspace\n",
    "        self.path = os.path.relpath(file_path, self.workspace)\n",
    "        self.worker_path = os.path.join(self.workspace, self.path)\n",
    "\n",
    "        # self.worker_path_adjusted = self.env.get_adjusted_worker_path(self.worker_path)\n",
    "\n",
    "        self.exec_function_name = function\n",
    "\n",
    "        self.env_vars: dict = variables or {}\n",
    "\n",
    "    def run(self, verbose: bool = True, **kwargs) -> Any:\n",
    "        \"\"\"\n",
    "        Run the function of the pipeline\n",
    "        :return:\n",
    "        \"\"\"\n",
    "\n",
    "        if verbose:\n",
    "            print_header(self.worker_path)\n",
    "            print(f\"Variables: {self.env_vars}\")\n",
    "\n",
    "        if not self.is_valid():\n",
    "            raise RuntimeError(\"invalid step.\")\n",
    "\n",
    "        if self.env.running():\n",
    "            logger.debug(\"Step executed from a pipeline run\")\n",
    "\n",
    "            if self.env.path == self.path:\n",
    "                warnings.warn(\n",
    "                    f\"Infinite pipeline loop detected. Not re running the step {self.worker_path}\",\n",
    "                    category=UserWarning,\n",
    "                )\n",
    "                return \"run ignored: infinite loop detected\"\n",
    "\n",
    "        extension = os.path.splitext(self.worker_path)[1]\n",
    "\n",
    "        self.env.start_run(self.workspace, self.path, self.env_vars)\n",
    "        try:\n",
    "            if extension == \".ipynb\" and not self.exec_function_name:\n",
    "                run_notebook(path=self.path, env_vars=self.env_vars, **kwargs)\n",
    "            elif extension == \".ipynb\" and self.exec_function_name:\n",
    "                raise NotImplementedError(\"run python function in notebooks not implemented yet\")\n",
    "            elif extension == \".py\" and not self.exec_function_name:\n",
    "                # run_python_file(path=self.worker_path, env_vars=env_run, **kwargs)\n",
    "                raise NotImplementedError(\"run python file not implemented yet\")\n",
    "            elif extension == \".py\" and self.exec_function_name:\n",
    "                # run_function(self.worker_path, self._exec_function_name, env_vars=env_run, **kwargs)\n",
    "                raise NotImplementedError(\"run python function not implemented yet\")\n",
    "            else:\n",
    "                raise ValueError(f\"extension {extension} not supported\")\n",
    "        except Exception as e:\n",
    "            raise e\n",
    "        finally:\n",
    "            self.env.end_run()\n",
    "\n",
    "    def is_valid(self) -> bool:\n",
    "        \"\"\"\n",
    "        Check if the step is valid\n",
    "        :return:\n",
    "        \"\"\"\n",
    "        if not self.worker_path:\n",
    "            logger.warning(\"file_path is None. Cannot run step.\")\n",
    "            return False\n",
    "        if not os.path.exists(self.worker_path):\n",
    "            # print(\"adj\", self.worker_path_adjusted)\n",
    "            # print(\"ori\", self.worker_path)\n",
    "            # print(\"cwd\", os.getcwd())\n",
    "            logger.warning(\n",
    "                f\"file_path {self.worker_path} does not exist. Cannot run step.\\n\"\n",
    "                f\"Current working directory: {os.getcwd()}\"\n",
    "            )\n",
    "            return False\n",
    "        return True\n"
   ],
   "metadata": {
    "collapsed": false,
    "ExecuteTime": {
     "end_time": "2023-09-21T12:49:40.416289Z",
     "start_time": "2023-09-21T12:49:40.404343Z"
    }
   }
  },
  {
   "cell_type": "code",
   "execution_count": 10,
   "outputs": [
    {
     "name": "stderr",
     "output_type": "stream",
     "text": [
      "DEBUG:stdflow.environ_manager:setting variables {'hello': 'world!'}\n"
     ]
    },
    {
     "name": "stdout",
     "output_type": "stream",
     "text": [
      "\u001B[1m================================================================================\u001B[0m\n",
      "\u001B[1m    __.          ../demo_project/notebooks/_00_experiments/check_hello.ipynb\u001B[0m\n",
      "\u001B[1m================================================================================\u001B[0m\u001B[0m\n",
      "Variables: {'hello': 'world!'}\n",
      "\tPath: check_hello.ipynb\n",
      "\tDuration: 0 days 00:00:00.329307\n",
      "\tEnv: {'hello': 'world!'}\n",
      "\u001B[1m\u001B[32mNotebook executed successfully.\u001B[0m\n"
     ]
    }
   ],
   "source": [
    "#| hide\n",
    "\n",
    "step = StepRunner(\"../demo_project/notebooks/_00_experiments/check_hello.ipynb\", variables={\"hello\": \"world!\"})\n",
    "\n",
    "step.run()\n"
   ],
   "metadata": {
    "collapsed": false,
    "ExecuteTime": {
     "end_time": "2023-09-21T12:51:25.976284Z",
     "start_time": "2023-09-21T12:51:24.053652Z"
    }
   }
  },
  {
   "cell_type": "code",
   "execution_count": 11,
   "metadata": {
    "ExecuteTime": {
     "end_time": "2023-09-21T12:51:27.881739Z",
     "start_time": "2023-09-21T12:51:27.713743Z"
    }
   },
   "outputs": [],
   "source": [
    "#| hide\n",
    "import nbdev; nbdev.nbdev_export()"
   ]
  },
  {
   "cell_type": "code",
   "execution_count": null,
   "outputs": [],
   "source": [],
   "metadata": {
    "collapsed": false
   }
  }
 ],
 "metadata": {
  "kernelspec": {
   "display_name": "python3",
   "language": "python",
   "name": "python3"
  }
 },
 "nbformat": 4,
 "nbformat_minor": 4
}
